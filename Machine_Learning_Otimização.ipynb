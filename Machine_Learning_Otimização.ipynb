{
  "nbformat": 4,
  "nbformat_minor": 0,
  "metadata": {
    "colab": {
      "provenance": [],
      "collapsed_sections": [],
      "authorship_tag": "ABX9TyPQID/z6p+zOIDyGeck85L2",
      "include_colab_link": true
    },
    "kernelspec": {
      "name": "python3",
      "display_name": "Python 3"
    },
    "language_info": {
      "name": "python"
    }
  },
  "cells": [
    {
      "cell_type": "markdown",
      "metadata": {
        "id": "view-in-github",
        "colab_type": "text"
      },
      "source": [
        "<a href=\"https://colab.research.google.com/github/VitorGama10/Avan-ando_Machine_Learning_/blob/main/Machine_Learning_Otimiza%C3%A7%C3%A3o.ipynb\" target=\"_parent\"><img src=\"https://colab.research.google.com/assets/colab-badge.svg\" alt=\"Open In Colab\"/></a>"
      ]
    },
    {
      "cell_type": "markdown",
      "source": [
        "# <font size=15, color ='orange'>Melhor estimator para o meu modelo\n",
        "<hr style='border: 2x solid red;'>\n",
        "\n",
        "Nesse processo vamos escolher os melhores estimatores para a arvore de Decisão"
      ],
      "metadata": {
        "id": "AUjiN8Fxa7te"
      }
    },
    {
      "cell_type": "markdown",
      "source": [
        "# Instalando arvore de Decisão"
      ],
      "metadata": {
        "id": "yOzYaH9xoOxl"
      }
    },
    {
      "cell_type": "code",
      "source": [
        "!pip install graphviz==0.9\n",
        "!pip install pydot\n",
        "\n",
        "!apt-get install graphviz"
      ],
      "metadata": {
        "colab": {
          "base_uri": "https://localhost:8080/"
        },
        "id": "-7HV6I-klkBQ",
        "outputId": "9d353c84-fbaf-42ad-ddf2-a77bd8926e53"
      },
      "execution_count": 73,
      "outputs": [
        {
          "output_type": "stream",
          "name": "stdout",
          "text": [
            "Looking in indexes: https://pypi.org/simple, https://us-python.pkg.dev/colab-wheels/public/simple/\n",
            "Requirement already satisfied: graphviz==0.9 in /usr/local/lib/python3.7/dist-packages (0.9)\n",
            "Looking in indexes: https://pypi.org/simple, https://us-python.pkg.dev/colab-wheels/public/simple/\n",
            "Requirement already satisfied: pydot in /usr/local/lib/python3.7/dist-packages (1.3.0)\n",
            "Requirement already satisfied: pyparsing>=2.1.4 in /usr/local/lib/python3.7/dist-packages (from pydot) (3.0.9)\n",
            "Reading package lists... Done\n",
            "Building dependency tree       \n",
            "Reading state information... Done\n",
            "graphviz is already the newest version (2.40.1-2).\n",
            "The following package was automatically installed and is no longer required:\n",
            "  libnvidia-common-460\n",
            "Use 'apt autoremove' to remove it.\n",
            "0 upgraded, 0 newly installed, 0 to remove and 12 not upgraded.\n"
          ]
        }
      ]
    },
    {
      "cell_type": "markdown",
      "source": [
        "# Importando dados"
      ],
      "metadata": {
        "id": "G8xRONJOe40Y"
      }
    },
    {
      "cell_type": "code",
      "execution_count": 74,
      "metadata": {
        "colab": {
          "base_uri": "https://localhost:8080/",
          "height": 206
        },
        "id": "iW3Tf_E3d3iK",
        "outputId": "8ce04558-7ac1-4390-ce9c-188cd0e26793"
      },
      "outputs": [
        {
          "output_type": "execute_result",
          "data": {
            "text/plain": [
              "       preco  vendido  idade_do_modelo   km_por_ano\n",
              "0   30941.02        1               18  35085.22134\n",
              "1   40557.96        1               20  12622.05362\n",
              "2   89627.50        0               12  11440.79806\n",
              "3   95276.14        0                3  43167.32682\n",
              "4  117384.68        1                4  12770.11290"
            ],
            "text/html": [
              "\n",
              "  <div id=\"df-b8c82a7a-084f-402d-9d35-22b24b52062e\">\n",
              "    <div class=\"colab-df-container\">\n",
              "      <div>\n",
              "<style scoped>\n",
              "    .dataframe tbody tr th:only-of-type {\n",
              "        vertical-align: middle;\n",
              "    }\n",
              "\n",
              "    .dataframe tbody tr th {\n",
              "        vertical-align: top;\n",
              "    }\n",
              "\n",
              "    .dataframe thead th {\n",
              "        text-align: right;\n",
              "    }\n",
              "</style>\n",
              "<table border=\"1\" class=\"dataframe\">\n",
              "  <thead>\n",
              "    <tr style=\"text-align: right;\">\n",
              "      <th></th>\n",
              "      <th>preco</th>\n",
              "      <th>vendido</th>\n",
              "      <th>idade_do_modelo</th>\n",
              "      <th>km_por_ano</th>\n",
              "    </tr>\n",
              "  </thead>\n",
              "  <tbody>\n",
              "    <tr>\n",
              "      <th>0</th>\n",
              "      <td>30941.02</td>\n",
              "      <td>1</td>\n",
              "      <td>18</td>\n",
              "      <td>35085.22134</td>\n",
              "    </tr>\n",
              "    <tr>\n",
              "      <th>1</th>\n",
              "      <td>40557.96</td>\n",
              "      <td>1</td>\n",
              "      <td>20</td>\n",
              "      <td>12622.05362</td>\n",
              "    </tr>\n",
              "    <tr>\n",
              "      <th>2</th>\n",
              "      <td>89627.50</td>\n",
              "      <td>0</td>\n",
              "      <td>12</td>\n",
              "      <td>11440.79806</td>\n",
              "    </tr>\n",
              "    <tr>\n",
              "      <th>3</th>\n",
              "      <td>95276.14</td>\n",
              "      <td>0</td>\n",
              "      <td>3</td>\n",
              "      <td>43167.32682</td>\n",
              "    </tr>\n",
              "    <tr>\n",
              "      <th>4</th>\n",
              "      <td>117384.68</td>\n",
              "      <td>1</td>\n",
              "      <td>4</td>\n",
              "      <td>12770.11290</td>\n",
              "    </tr>\n",
              "  </tbody>\n",
              "</table>\n",
              "</div>\n",
              "      <button class=\"colab-df-convert\" onclick=\"convertToInteractive('df-b8c82a7a-084f-402d-9d35-22b24b52062e')\"\n",
              "              title=\"Convert this dataframe to an interactive table.\"\n",
              "              style=\"display:none;\">\n",
              "        \n",
              "  <svg xmlns=\"http://www.w3.org/2000/svg\" height=\"24px\"viewBox=\"0 0 24 24\"\n",
              "       width=\"24px\">\n",
              "    <path d=\"M0 0h24v24H0V0z\" fill=\"none\"/>\n",
              "    <path d=\"M18.56 5.44l.94 2.06.94-2.06 2.06-.94-2.06-.94-.94-2.06-.94 2.06-2.06.94zm-11 1L8.5 8.5l.94-2.06 2.06-.94-2.06-.94L8.5 2.5l-.94 2.06-2.06.94zm10 10l.94 2.06.94-2.06 2.06-.94-2.06-.94-.94-2.06-.94 2.06-2.06.94z\"/><path d=\"M17.41 7.96l-1.37-1.37c-.4-.4-.92-.59-1.43-.59-.52 0-1.04.2-1.43.59L10.3 9.45l-7.72 7.72c-.78.78-.78 2.05 0 2.83L4 21.41c.39.39.9.59 1.41.59.51 0 1.02-.2 1.41-.59l7.78-7.78 2.81-2.81c.8-.78.8-2.07 0-2.86zM5.41 20L4 18.59l7.72-7.72 1.47 1.35L5.41 20z\"/>\n",
              "  </svg>\n",
              "      </button>\n",
              "      \n",
              "  <style>\n",
              "    .colab-df-container {\n",
              "      display:flex;\n",
              "      flex-wrap:wrap;\n",
              "      gap: 12px;\n",
              "    }\n",
              "\n",
              "    .colab-df-convert {\n",
              "      background-color: #E8F0FE;\n",
              "      border: none;\n",
              "      border-radius: 50%;\n",
              "      cursor: pointer;\n",
              "      display: none;\n",
              "      fill: #1967D2;\n",
              "      height: 32px;\n",
              "      padding: 0 0 0 0;\n",
              "      width: 32px;\n",
              "    }\n",
              "\n",
              "    .colab-df-convert:hover {\n",
              "      background-color: #E2EBFA;\n",
              "      box-shadow: 0px 1px 2px rgba(60, 64, 67, 0.3), 0px 1px 3px 1px rgba(60, 64, 67, 0.15);\n",
              "      fill: #174EA6;\n",
              "    }\n",
              "\n",
              "    [theme=dark] .colab-df-convert {\n",
              "      background-color: #3B4455;\n",
              "      fill: #D2E3FC;\n",
              "    }\n",
              "\n",
              "    [theme=dark] .colab-df-convert:hover {\n",
              "      background-color: #434B5C;\n",
              "      box-shadow: 0px 1px 3px 1px rgba(0, 0, 0, 0.15);\n",
              "      filter: drop-shadow(0px 1px 2px rgba(0, 0, 0, 0.3));\n",
              "      fill: #FFFFFF;\n",
              "    }\n",
              "  </style>\n",
              "\n",
              "      <script>\n",
              "        const buttonEl =\n",
              "          document.querySelector('#df-b8c82a7a-084f-402d-9d35-22b24b52062e button.colab-df-convert');\n",
              "        buttonEl.style.display =\n",
              "          google.colab.kernel.accessAllowed ? 'block' : 'none';\n",
              "\n",
              "        async function convertToInteractive(key) {\n",
              "          const element = document.querySelector('#df-b8c82a7a-084f-402d-9d35-22b24b52062e');\n",
              "          const dataTable =\n",
              "            await google.colab.kernel.invokeFunction('convertToInteractive',\n",
              "                                                     [key], {});\n",
              "          if (!dataTable) return;\n",
              "\n",
              "          const docLinkHtml = 'Like what you see? Visit the ' +\n",
              "            '<a target=\"_blank\" href=https://colab.research.google.com/notebooks/data_table.ipynb>data table notebook</a>'\n",
              "            + ' to learn more about interactive tables.';\n",
              "          element.innerHTML = '';\n",
              "          dataTable['output_type'] = 'display_data';\n",
              "          await google.colab.output.renderOutput(dataTable, element);\n",
              "          const docLink = document.createElement('div');\n",
              "          docLink.innerHTML = docLinkHtml;\n",
              "          element.appendChild(docLink);\n",
              "        }\n",
              "      </script>\n",
              "    </div>\n",
              "  </div>\n",
              "  "
            ]
          },
          "metadata": {},
          "execution_count": 74
        }
      ],
      "source": [
        "import pandas as pd\n",
        "\n",
        "uri = \"https://gist.githubusercontent.com/guilhermesilveira/e99a526b2e7ccc6c3b70f53db43a87d2/raw/1605fc74aa778066bf2e6695e24d53cf65f2f447/machine-learning-carros-simulacao.csv\"\n",
        "dados = pd.read_csv(uri).drop(columns=[\"Unnamed: 0\"], axis=1)\n",
        "dados.head()"
      ]
    },
    {
      "cell_type": "code",
      "source": [
        "x = dados[[\"preco\", \"idade_do_modelo\",\"km_por_ano\"]] # Oq a gente quer analisar\n",
        "y = dados[\"vendido\"] # Aqui nossa classificação"
      ],
      "metadata": {
        "id": "iL5zHdvkmRE8"
      },
      "execution_count": 75,
      "outputs": []
    },
    {
      "cell_type": "markdown",
      "source": [
        "## Simulando os dados "
      ],
      "metadata": {
        "id": "EaJ9nrSLe8c3"
      }
    },
    {
      "cell_type": "code",
      "source": [
        "dados_azar = dados.sort_values('vendido', ascending = True)\n",
        "x_azar = dados_azar[[\"preco\", \"idade_do_modelo\",\"km_por_ano\"]] # Oq a gente quer analisar\n",
        "y_azar = dados_azar[\"vendido\"] # Aqui nossa classificação\n",
        "dados_azar.head()\n",
        "\n",
        "# simulamos isso pra ver oque acontece, se treina a metade e testa a outra metade com certeza ai sair ruim o resultado \n",
        "\n",
        "# veio uma ordem incorreta para nosso modelo"
      ],
      "metadata": {
        "colab": {
          "base_uri": "https://localhost:8080/",
          "height": 206
        },
        "id": "Mk2K56Ybd_4H",
        "outputId": "ec753f28-68f9-4f31-aa8c-961cbdc5c80c"
      },
      "execution_count": 76,
      "outputs": [
        {
          "output_type": "execute_result",
          "data": {
            "text/plain": [
              "         preco  vendido  idade_do_modelo   km_por_ano\n",
              "4999  74023.29        0               12  24812.80412\n",
              "5322  84843.49        0               13  23095.63834\n",
              "5319  83100.27        0               19  36240.72746\n",
              "5316  87932.13        0               16  32249.56426\n",
              "5315  77937.01        0               15  28414.50704"
            ],
            "text/html": [
              "\n",
              "  <div id=\"df-9c0c95f7-b4e2-4869-bfcf-e9b528c6dd2a\">\n",
              "    <div class=\"colab-df-container\">\n",
              "      <div>\n",
              "<style scoped>\n",
              "    .dataframe tbody tr th:only-of-type {\n",
              "        vertical-align: middle;\n",
              "    }\n",
              "\n",
              "    .dataframe tbody tr th {\n",
              "        vertical-align: top;\n",
              "    }\n",
              "\n",
              "    .dataframe thead th {\n",
              "        text-align: right;\n",
              "    }\n",
              "</style>\n",
              "<table border=\"1\" class=\"dataframe\">\n",
              "  <thead>\n",
              "    <tr style=\"text-align: right;\">\n",
              "      <th></th>\n",
              "      <th>preco</th>\n",
              "      <th>vendido</th>\n",
              "      <th>idade_do_modelo</th>\n",
              "      <th>km_por_ano</th>\n",
              "    </tr>\n",
              "  </thead>\n",
              "  <tbody>\n",
              "    <tr>\n",
              "      <th>4999</th>\n",
              "      <td>74023.29</td>\n",
              "      <td>0</td>\n",
              "      <td>12</td>\n",
              "      <td>24812.80412</td>\n",
              "    </tr>\n",
              "    <tr>\n",
              "      <th>5322</th>\n",
              "      <td>84843.49</td>\n",
              "      <td>0</td>\n",
              "      <td>13</td>\n",
              "      <td>23095.63834</td>\n",
              "    </tr>\n",
              "    <tr>\n",
              "      <th>5319</th>\n",
              "      <td>83100.27</td>\n",
              "      <td>0</td>\n",
              "      <td>19</td>\n",
              "      <td>36240.72746</td>\n",
              "    </tr>\n",
              "    <tr>\n",
              "      <th>5316</th>\n",
              "      <td>87932.13</td>\n",
              "      <td>0</td>\n",
              "      <td>16</td>\n",
              "      <td>32249.56426</td>\n",
              "    </tr>\n",
              "    <tr>\n",
              "      <th>5315</th>\n",
              "      <td>77937.01</td>\n",
              "      <td>0</td>\n",
              "      <td>15</td>\n",
              "      <td>28414.50704</td>\n",
              "    </tr>\n",
              "  </tbody>\n",
              "</table>\n",
              "</div>\n",
              "      <button class=\"colab-df-convert\" onclick=\"convertToInteractive('df-9c0c95f7-b4e2-4869-bfcf-e9b528c6dd2a')\"\n",
              "              title=\"Convert this dataframe to an interactive table.\"\n",
              "              style=\"display:none;\">\n",
              "        \n",
              "  <svg xmlns=\"http://www.w3.org/2000/svg\" height=\"24px\"viewBox=\"0 0 24 24\"\n",
              "       width=\"24px\">\n",
              "    <path d=\"M0 0h24v24H0V0z\" fill=\"none\"/>\n",
              "    <path d=\"M18.56 5.44l.94 2.06.94-2.06 2.06-.94-2.06-.94-.94-2.06-.94 2.06-2.06.94zm-11 1L8.5 8.5l.94-2.06 2.06-.94-2.06-.94L8.5 2.5l-.94 2.06-2.06.94zm10 10l.94 2.06.94-2.06 2.06-.94-2.06-.94-.94-2.06-.94 2.06-2.06.94z\"/><path d=\"M17.41 7.96l-1.37-1.37c-.4-.4-.92-.59-1.43-.59-.52 0-1.04.2-1.43.59L10.3 9.45l-7.72 7.72c-.78.78-.78 2.05 0 2.83L4 21.41c.39.39.9.59 1.41.59.51 0 1.02-.2 1.41-.59l7.78-7.78 2.81-2.81c.8-.78.8-2.07 0-2.86zM5.41 20L4 18.59l7.72-7.72 1.47 1.35L5.41 20z\"/>\n",
              "  </svg>\n",
              "      </button>\n",
              "      \n",
              "  <style>\n",
              "    .colab-df-container {\n",
              "      display:flex;\n",
              "      flex-wrap:wrap;\n",
              "      gap: 12px;\n",
              "    }\n",
              "\n",
              "    .colab-df-convert {\n",
              "      background-color: #E8F0FE;\n",
              "      border: none;\n",
              "      border-radius: 50%;\n",
              "      cursor: pointer;\n",
              "      display: none;\n",
              "      fill: #1967D2;\n",
              "      height: 32px;\n",
              "      padding: 0 0 0 0;\n",
              "      width: 32px;\n",
              "    }\n",
              "\n",
              "    .colab-df-convert:hover {\n",
              "      background-color: #E2EBFA;\n",
              "      box-shadow: 0px 1px 2px rgba(60, 64, 67, 0.3), 0px 1px 3px 1px rgba(60, 64, 67, 0.15);\n",
              "      fill: #174EA6;\n",
              "    }\n",
              "\n",
              "    [theme=dark] .colab-df-convert {\n",
              "      background-color: #3B4455;\n",
              "      fill: #D2E3FC;\n",
              "    }\n",
              "\n",
              "    [theme=dark] .colab-df-convert:hover {\n",
              "      background-color: #434B5C;\n",
              "      box-shadow: 0px 1px 3px 1px rgba(0, 0, 0, 0.15);\n",
              "      filter: drop-shadow(0px 1px 2px rgba(0, 0, 0, 0.3));\n",
              "      fill: #FFFFFF;\n",
              "    }\n",
              "  </style>\n",
              "\n",
              "      <script>\n",
              "        const buttonEl =\n",
              "          document.querySelector('#df-9c0c95f7-b4e2-4869-bfcf-e9b528c6dd2a button.colab-df-convert');\n",
              "        buttonEl.style.display =\n",
              "          google.colab.kernel.accessAllowed ? 'block' : 'none';\n",
              "\n",
              "        async function convertToInteractive(key) {\n",
              "          const element = document.querySelector('#df-9c0c95f7-b4e2-4869-bfcf-e9b528c6dd2a');\n",
              "          const dataTable =\n",
              "            await google.colab.kernel.invokeFunction('convertToInteractive',\n",
              "                                                     [key], {});\n",
              "          if (!dataTable) return;\n",
              "\n",
              "          const docLinkHtml = 'Like what you see? Visit the ' +\n",
              "            '<a target=\"_blank\" href=https://colab.research.google.com/notebooks/data_table.ipynb>data table notebook</a>'\n",
              "            + ' to learn more about interactive tables.';\n",
              "          element.innerHTML = '';\n",
              "          dataTable['output_type'] = 'display_data';\n",
              "          await google.colab.output.renderOutput(dataTable, element);\n",
              "          const docLink = document.createElement('div');\n",
              "          docLink.innerHTML = docLinkHtml;\n",
              "          element.appendChild(docLink);\n",
              "        }\n",
              "      </script>\n",
              "    </div>\n",
              "  </div>\n",
              "  "
            ]
          },
          "metadata": {},
          "execution_count": 76
        }
      ]
    },
    {
      "cell_type": "markdown",
      "source": [
        "## DUMMYCLASSIFIER"
      ],
      "metadata": {
        "id": "vKJ6vyvzf7Kp"
      }
    },
    {
      "cell_type": "code",
      "source": [
        "from sklearn.dummy import DummyClassifier\n",
        "from sklearn.model_selection import cross_validate\n",
        "import numpy as np \n",
        "\n",
        "SEED = 301\n",
        "np.random.seed(SEED)\n",
        "\n",
        "modelo = DummyClassifier()\n",
        "\n",
        "results = cross_validate(modelo, x_azar, y_azar, cv = 10, return_train_score = False) # cv 3 testou 3 vezes o teste\n",
        "media = results['test_score'].mean()\n",
        "desvio_padrao = results['test_score'].std() # o quanto desvia da media \n",
        "\n",
        "print('Accuracy com cross_validate [%.2f%% %.2f%%]' % ((media - 2 * desvio_padrao) *100, (media + 2 * desvio_padrao)*100))"
      ],
      "metadata": {
        "colab": {
          "base_uri": "https://localhost:8080/"
        },
        "id": "tm89Ht8IeAxj",
        "outputId": "4a824a54-9291-4953-d8c4-4897a5d8782a"
      },
      "execution_count": 77,
      "outputs": [
        {
          "output_type": "stream",
          "name": "stdout",
          "text": [
            "Accuracy com cross_validate [58.00% 58.00%]\n"
          ]
        }
      ]
    },
    {
      "cell_type": "markdown",
      "source": [
        "## Cross_Validate \n",
        "### Arvore de Decisão"
      ],
      "metadata": {
        "id": "-G_oUU-zgKSn"
      }
    },
    {
      "cell_type": "code",
      "source": [
        "from sklearn.model_selection import cross_validate\n",
        "from sklearn.tree import DecisionTreeClassifier\n",
        "\n",
        "modelo = DecisionTreeClassifier(max_depth = 2)\n",
        "\n",
        "# cross validate \n",
        "results = cross_validate(modelo, x_azar, y_azar, cv = 5, return_train_score = False) # cv 3 testou 3 vezes o teste\n",
        "media = results['test_score'].mean()\n",
        "desvio_padrao = results['test_score'].std() # o quanto desvia da media \n",
        "\n",
        "print('Accuracy com cross_validate [%.2f%% %.2f%%]' % ((media - 2 * desvio_padrao) *100, (media + 2 * desvio_padrao)*100))"
      ],
      "metadata": {
        "colab": {
          "base_uri": "https://localhost:8080/"
        },
        "id": "K_P1CJ80gCEl",
        "outputId": "b657f010-0042-4af0-b4b3-76be94823e16"
      },
      "execution_count": 78,
      "outputs": [
        {
          "output_type": "stream",
          "name": "stdout",
          "text": [
            "Accuracy com cross_validate [74.38% 77.18%]\n"
          ]
        }
      ]
    },
    {
      "cell_type": "markdown",
      "source": [
        "## Selecionando modelo de carros"
      ],
      "metadata": {
        "id": "LRf_OkXDggCX"
      }
    },
    {
      "cell_type": "code",
      "source": [
        "np.random.seed(SEED)\n",
        "dados['modelo'] = dados.idade_do_modelo + np.random.randint(-2, 3, size=10000)\n",
        "dados.modelo = dados.modelo + abs(dados.modelo.min()) + 1\n",
        "dados.head()"
      ],
      "metadata": {
        "colab": {
          "base_uri": "https://localhost:8080/",
          "height": 206
        },
        "id": "fxfCyIeXeAqX",
        "outputId": "00be2995-f7d0-4c2f-ad2c-b5b410bd3ee7"
      },
      "execution_count": 79,
      "outputs": [
        {
          "output_type": "execute_result",
          "data": {
            "text/plain": [
              "       preco  vendido  idade_do_modelo   km_por_ano  modelo\n",
              "0   30941.02        1               18  35085.22134      18\n",
              "1   40557.96        1               20  12622.05362      24\n",
              "2   89627.50        0               12  11440.79806      14\n",
              "3   95276.14        0                3  43167.32682       6\n",
              "4  117384.68        1                4  12770.11290       5"
            ],
            "text/html": [
              "\n",
              "  <div id=\"df-f7e8caa4-e54e-4f3d-bc54-e7112180ae15\">\n",
              "    <div class=\"colab-df-container\">\n",
              "      <div>\n",
              "<style scoped>\n",
              "    .dataframe tbody tr th:only-of-type {\n",
              "        vertical-align: middle;\n",
              "    }\n",
              "\n",
              "    .dataframe tbody tr th {\n",
              "        vertical-align: top;\n",
              "    }\n",
              "\n",
              "    .dataframe thead th {\n",
              "        text-align: right;\n",
              "    }\n",
              "</style>\n",
              "<table border=\"1\" class=\"dataframe\">\n",
              "  <thead>\n",
              "    <tr style=\"text-align: right;\">\n",
              "      <th></th>\n",
              "      <th>preco</th>\n",
              "      <th>vendido</th>\n",
              "      <th>idade_do_modelo</th>\n",
              "      <th>km_por_ano</th>\n",
              "      <th>modelo</th>\n",
              "    </tr>\n",
              "  </thead>\n",
              "  <tbody>\n",
              "    <tr>\n",
              "      <th>0</th>\n",
              "      <td>30941.02</td>\n",
              "      <td>1</td>\n",
              "      <td>18</td>\n",
              "      <td>35085.22134</td>\n",
              "      <td>18</td>\n",
              "    </tr>\n",
              "    <tr>\n",
              "      <th>1</th>\n",
              "      <td>40557.96</td>\n",
              "      <td>1</td>\n",
              "      <td>20</td>\n",
              "      <td>12622.05362</td>\n",
              "      <td>24</td>\n",
              "    </tr>\n",
              "    <tr>\n",
              "      <th>2</th>\n",
              "      <td>89627.50</td>\n",
              "      <td>0</td>\n",
              "      <td>12</td>\n",
              "      <td>11440.79806</td>\n",
              "      <td>14</td>\n",
              "    </tr>\n",
              "    <tr>\n",
              "      <th>3</th>\n",
              "      <td>95276.14</td>\n",
              "      <td>0</td>\n",
              "      <td>3</td>\n",
              "      <td>43167.32682</td>\n",
              "      <td>6</td>\n",
              "    </tr>\n",
              "    <tr>\n",
              "      <th>4</th>\n",
              "      <td>117384.68</td>\n",
              "      <td>1</td>\n",
              "      <td>4</td>\n",
              "      <td>12770.11290</td>\n",
              "      <td>5</td>\n",
              "    </tr>\n",
              "  </tbody>\n",
              "</table>\n",
              "</div>\n",
              "      <button class=\"colab-df-convert\" onclick=\"convertToInteractive('df-f7e8caa4-e54e-4f3d-bc54-e7112180ae15')\"\n",
              "              title=\"Convert this dataframe to an interactive table.\"\n",
              "              style=\"display:none;\">\n",
              "        \n",
              "  <svg xmlns=\"http://www.w3.org/2000/svg\" height=\"24px\"viewBox=\"0 0 24 24\"\n",
              "       width=\"24px\">\n",
              "    <path d=\"M0 0h24v24H0V0z\" fill=\"none\"/>\n",
              "    <path d=\"M18.56 5.44l.94 2.06.94-2.06 2.06-.94-2.06-.94-.94-2.06-.94 2.06-2.06.94zm-11 1L8.5 8.5l.94-2.06 2.06-.94-2.06-.94L8.5 2.5l-.94 2.06-2.06.94zm10 10l.94 2.06.94-2.06 2.06-.94-2.06-.94-.94-2.06-.94 2.06-2.06.94z\"/><path d=\"M17.41 7.96l-1.37-1.37c-.4-.4-.92-.59-1.43-.59-.52 0-1.04.2-1.43.59L10.3 9.45l-7.72 7.72c-.78.78-.78 2.05 0 2.83L4 21.41c.39.39.9.59 1.41.59.51 0 1.02-.2 1.41-.59l7.78-7.78 2.81-2.81c.8-.78.8-2.07 0-2.86zM5.41 20L4 18.59l7.72-7.72 1.47 1.35L5.41 20z\"/>\n",
              "  </svg>\n",
              "      </button>\n",
              "      \n",
              "  <style>\n",
              "    .colab-df-container {\n",
              "      display:flex;\n",
              "      flex-wrap:wrap;\n",
              "      gap: 12px;\n",
              "    }\n",
              "\n",
              "    .colab-df-convert {\n",
              "      background-color: #E8F0FE;\n",
              "      border: none;\n",
              "      border-radius: 50%;\n",
              "      cursor: pointer;\n",
              "      display: none;\n",
              "      fill: #1967D2;\n",
              "      height: 32px;\n",
              "      padding: 0 0 0 0;\n",
              "      width: 32px;\n",
              "    }\n",
              "\n",
              "    .colab-df-convert:hover {\n",
              "      background-color: #E2EBFA;\n",
              "      box-shadow: 0px 1px 2px rgba(60, 64, 67, 0.3), 0px 1px 3px 1px rgba(60, 64, 67, 0.15);\n",
              "      fill: #174EA6;\n",
              "    }\n",
              "\n",
              "    [theme=dark] .colab-df-convert {\n",
              "      background-color: #3B4455;\n",
              "      fill: #D2E3FC;\n",
              "    }\n",
              "\n",
              "    [theme=dark] .colab-df-convert:hover {\n",
              "      background-color: #434B5C;\n",
              "      box-shadow: 0px 1px 3px 1px rgba(0, 0, 0, 0.15);\n",
              "      filter: drop-shadow(0px 1px 2px rgba(0, 0, 0, 0.3));\n",
              "      fill: #FFFFFF;\n",
              "    }\n",
              "  </style>\n",
              "\n",
              "      <script>\n",
              "        const buttonEl =\n",
              "          document.querySelector('#df-f7e8caa4-e54e-4f3d-bc54-e7112180ae15 button.colab-df-convert');\n",
              "        buttonEl.style.display =\n",
              "          google.colab.kernel.accessAllowed ? 'block' : 'none';\n",
              "\n",
              "        async function convertToInteractive(key) {\n",
              "          const element = document.querySelector('#df-f7e8caa4-e54e-4f3d-bc54-e7112180ae15');\n",
              "          const dataTable =\n",
              "            await google.colab.kernel.invokeFunction('convertToInteractive',\n",
              "                                                     [key], {});\n",
              "          if (!dataTable) return;\n",
              "\n",
              "          const docLinkHtml = 'Like what you see? Visit the ' +\n",
              "            '<a target=\"_blank\" href=https://colab.research.google.com/notebooks/data_table.ipynb>data table notebook</a>'\n",
              "            + ' to learn more about interactive tables.';\n",
              "          element.innerHTML = '';\n",
              "          dataTable['output_type'] = 'display_data';\n",
              "          await google.colab.output.renderOutput(dataTable, element);\n",
              "          const docLink = document.createElement('div');\n",
              "          docLink.innerHTML = docLinkHtml;\n",
              "          element.appendChild(docLink);\n",
              "        }\n",
              "      </script>\n",
              "    </div>\n",
              "  </div>\n",
              "  "
            ]
          },
          "metadata": {},
          "execution_count": 79
        }
      ]
    },
    {
      "cell_type": "code",
      "source": [
        "def imprime_resultados(results):\n",
        "  media = results['test_score'].mean()*100\n",
        "  desvio_padrao = results['test_score'].std()*100\n",
        "  \n",
        "  print('Accuracy médio %.2f%%' % media)\n",
        "  print('Intervalo [%.2f%% %.2f%%]' % (media - 2 * desvio_padrao, media + 2 * desvio_padrao))"
      ],
      "metadata": {
        "id": "HdeKAwf_eAoA"
      },
      "execution_count": 80,
      "outputs": []
    },
    {
      "cell_type": "code",
      "source": [
        "imprime_resultados(results)"
      ],
      "metadata": {
        "colab": {
          "base_uri": "https://localhost:8080/"
        },
        "id": "QNyZT7CjeAiE",
        "outputId": "d3ec145a-4e44-4643-db80-4b638bdc4638"
      },
      "execution_count": 81,
      "outputs": [
        {
          "output_type": "stream",
          "name": "stdout",
          "text": [
            "Accuracy médio 75.78%\n",
            "Intervalo [74.38% 77.18%]\n"
          ]
        }
      ]
    },
    {
      "cell_type": "code",
      "source": [
        "from sklearn.preprocessing import StandardScaler\n",
        "from sklearn.model_selection import GroupKFold\n",
        "from sklearn.svm import SVC\n",
        "from sklearn.pipeline import Pipeline\n",
        "\n",
        "SEED = 301\n",
        "np.random.seed(SEED)\n",
        "\n",
        "scaler = StandardScaler()\n",
        "modelo = SVC()\n",
        "\n",
        "pipeline = Pipeline([('transformacao', scaler), ('estimador', modelo)])\n",
        "\n",
        "cv = GroupKFold(n_splits = 10)\n",
        "results = cross_validate(pipeline, x_azar, y_azar, cv = cv, groups = dados.modelo, return_train_score=False)"
      ],
      "metadata": {
        "id": "w0LrJbiAjgC4"
      },
      "execution_count": 82,
      "outputs": []
    },
    {
      "cell_type": "code",
      "source": [
        "imprime_resultados(results)"
      ],
      "metadata": {
        "colab": {
          "base_uri": "https://localhost:8080/"
        },
        "outputId": "4b799e3c-ddc8-4f20-889e-bdde32c5bf10",
        "id": "BD_OvgyJjmPz"
      },
      "execution_count": 83,
      "outputs": [
        {
          "output_type": "stream",
          "name": "stdout",
          "text": [
            "Accuracy médio 76.68%\n",
            "Intervalo [74.28% 79.08%]\n"
          ]
        }
      ]
    },
    {
      "cell_type": "code",
      "source": [
        "from sklearn.model_selection import GroupKFold\n",
        "\n",
        "SEED = 300\n",
        "np.random.seed(SEED)\n",
        "\n",
        "cv = GroupKFold(n_splits = 10)\n",
        "modelo = DecisionTreeClassifier(max_depth=3) # tamanho da decisao\n",
        "\n",
        "results = cross_validate(modelo, x_azar, y_azar, cv = cv, groups = dados.modelo, return_train_score=False) # Agrupa por modelo\n",
        "\n",
        "imprime_resultados(results)"
      ],
      "metadata": {
        "colab": {
          "base_uri": "https://localhost:8080/"
        },
        "id": "5qgzCaLleAlK",
        "outputId": "e752d9c2-ecbe-4a2d-aa97-f1373c4991dd"
      },
      "execution_count": 84,
      "outputs": [
        {
          "output_type": "stream",
          "name": "stdout",
          "text": [
            "Accuracy médio 78.67%\n",
            "Intervalo [76.40% 80.94%]\n"
          ]
        }
      ]
    },
    {
      "cell_type": "markdown",
      "source": [
        "# Importando arvore de Decisão\n",
        "\n",
        "> \n",
        "\n"
      ],
      "metadata": {
        "id": "jtElspv3oHkJ"
      }
    },
    {
      "cell_type": "code",
      "source": [
        "from sklearn.tree import export_graphviz\n",
        "import graphviz\n",
        "\n",
        "# Agora queremos usar no mundo real\n",
        "modelo.fit(x_azar, y_azar)\n",
        "feature = x_azar.columns\n",
        "                        #  joga nenhum arquivo\n",
        "dot_data = export_graphviz(modelo, out_file=None, filled = True, rounded = True, class_names=['não', 'sim'], feature_names= feature)\n",
        "                                        # filled ---> preencher os retangulos de visualização\n",
        "\n",
        "graph = graphviz.Source(dot_data)\n",
        "graph"
      ],
      "metadata": {
        "colab": {
          "base_uri": "https://localhost:8080/",
          "height": 599
        },
        "id": "Wx9SCiUQkMfv",
        "outputId": "11e8862e-4cb0-4d76-b96c-6ad9d68850c7"
      },
      "execution_count": 85,
      "outputs": [
        {
          "output_type": "execute_result",
          "data": {
            "text/plain": [
              "<graphviz.files.Source at 0x7f2f766d5d90>"
            ],
            "image/svg+xml": "<?xml version=\"1.0\" encoding=\"UTF-8\" standalone=\"no\"?>\n<!DOCTYPE svg PUBLIC \"-//W3C//DTD SVG 1.1//EN\"\n \"http://www.w3.org/Graphics/SVG/1.1/DTD/svg11.dtd\">\n<!-- Generated by graphviz version 2.40.1 (20161225.0304)\n -->\n<!-- Title: Tree Pages: 1 -->\n<svg width=\"912pt\" height=\"433pt\"\n viewBox=\"0.00 0.00 912.00 433.00\" xmlns=\"http://www.w3.org/2000/svg\" xmlns:xlink=\"http://www.w3.org/1999/xlink\">\n<g id=\"graph0\" class=\"graph\" transform=\"scale(1 1) rotate(0) translate(4 429)\">\n<title>Tree</title>\n<polygon fill=\"#ffffff\" stroke=\"transparent\" points=\"-4,4 -4,-429 908,-429 908,4 -4,4\"/>\n<!-- 0 -->\n<g id=\"node1\" class=\"node\">\n<title>0</title>\n<path fill=\"#c8e4f8\" stroke=\"#000000\" d=\"M372.5,-425C372.5,-425 247.5,-425 247.5,-425 241.5,-425 235.5,-419 235.5,-413 235.5,-413 235.5,-354 235.5,-354 235.5,-348 241.5,-342 247.5,-342 247.5,-342 372.5,-342 372.5,-342 378.5,-342 384.5,-348 384.5,-354 384.5,-354 384.5,-413 384.5,-413 384.5,-419 378.5,-425 372.5,-425\"/>\n<text text-anchor=\"middle\" x=\"310\" y=\"-409.8\" font-family=\"Helvetica,sans-Serif\" font-size=\"14.00\" fill=\"#000000\">preco &lt;= 59982.246</text>\n<text text-anchor=\"middle\" x=\"310\" y=\"-394.8\" font-family=\"Helvetica,sans-Serif\" font-size=\"14.00\" fill=\"#000000\">gini = 0.487</text>\n<text text-anchor=\"middle\" x=\"310\" y=\"-379.8\" font-family=\"Helvetica,sans-Serif\" font-size=\"14.00\" fill=\"#000000\">samples = 10000</text>\n<text text-anchor=\"middle\" x=\"310\" y=\"-364.8\" font-family=\"Helvetica,sans-Serif\" font-size=\"14.00\" fill=\"#000000\">value = [4200, 5800]</text>\n<text text-anchor=\"middle\" x=\"310\" y=\"-349.8\" font-family=\"Helvetica,sans-Serif\" font-size=\"14.00\" fill=\"#000000\">class = sim</text>\n</g>\n<!-- 1 -->\n<g id=\"node2\" class=\"node\">\n<title>1</title>\n<path fill=\"#52a9e8\" stroke=\"#000000\" d=\"M277.5,-306C277.5,-306 154.5,-306 154.5,-306 148.5,-306 142.5,-300 142.5,-294 142.5,-294 142.5,-235 142.5,-235 142.5,-229 148.5,-223 154.5,-223 154.5,-223 277.5,-223 277.5,-223 283.5,-223 289.5,-229 289.5,-235 289.5,-235 289.5,-294 289.5,-294 289.5,-300 283.5,-306 277.5,-306\"/>\n<text text-anchor=\"middle\" x=\"216\" y=\"-290.8\" font-family=\"Helvetica,sans-Serif\" font-size=\"14.00\" fill=\"#000000\">preco &lt;= 40083.385</text>\n<text text-anchor=\"middle\" x=\"216\" y=\"-275.8\" font-family=\"Helvetica,sans-Serif\" font-size=\"14.00\" fill=\"#000000\">gini = 0.198</text>\n<text text-anchor=\"middle\" x=\"216\" y=\"-260.8\" font-family=\"Helvetica,sans-Serif\" font-size=\"14.00\" fill=\"#000000\">samples = 4347</text>\n<text text-anchor=\"middle\" x=\"216\" y=\"-245.8\" font-family=\"Helvetica,sans-Serif\" font-size=\"14.00\" fill=\"#000000\">value = [484, 3863]</text>\n<text text-anchor=\"middle\" x=\"216\" y=\"-230.8\" font-family=\"Helvetica,sans-Serif\" font-size=\"14.00\" fill=\"#000000\">class = sim</text>\n</g>\n<!-- 0&#45;&gt;1 -->\n<g id=\"edge1\" class=\"edge\">\n<title>0&#45;&gt;1</title>\n<path fill=\"none\" stroke=\"#000000\" d=\"M277.1234,-341.8796C270.0803,-332.9633 262.5707,-323.4565 255.3126,-314.268\"/>\n<polygon fill=\"#000000\" stroke=\"#000000\" points=\"257.9621,-311.9757 249.017,-306.2981 252.4691,-316.3147 257.9621,-311.9757\"/>\n<text text-anchor=\"middle\" x=\"246.1027\" y=\"-327.4276\" font-family=\"Helvetica,sans-Serif\" font-size=\"14.00\" fill=\"#000000\">True</text>\n</g>\n<!-- 6 -->\n<g id=\"node7\" class=\"node\">\n<title>6</title>\n<path fill=\"#f3c3a0\" stroke=\"#000000\" d=\"M545,-306C545,-306 377,-306 377,-306 371,-306 365,-300 365,-294 365,-294 365,-235 365,-235 365,-229 371,-223 377,-223 377,-223 545,-223 545,-223 551,-223 557,-229 557,-235 557,-235 557,-294 557,-294 557,-300 551,-306 545,-306\"/>\n<text text-anchor=\"middle\" x=\"461\" y=\"-290.8\" font-family=\"Helvetica,sans-Serif\" font-size=\"14.00\" fill=\"#000000\">km_por_ano &lt;= 24124.006</text>\n<text text-anchor=\"middle\" x=\"461\" y=\"-275.8\" font-family=\"Helvetica,sans-Serif\" font-size=\"14.00\" fill=\"#000000\">gini = 0.45</text>\n<text text-anchor=\"middle\" x=\"461\" y=\"-260.8\" font-family=\"Helvetica,sans-Serif\" font-size=\"14.00\" fill=\"#000000\">samples = 5653</text>\n<text text-anchor=\"middle\" x=\"461\" y=\"-245.8\" font-family=\"Helvetica,sans-Serif\" font-size=\"14.00\" fill=\"#000000\">value = [3716, 1937]</text>\n<text text-anchor=\"middle\" x=\"461\" y=\"-230.8\" font-family=\"Helvetica,sans-Serif\" font-size=\"14.00\" fill=\"#000000\">class = não</text>\n</g>\n<!-- 0&#45;&gt;6 -->\n<g id=\"edge6\" class=\"edge\">\n<title>0&#45;&gt;6</title>\n<path fill=\"none\" stroke=\"#000000\" d=\"M362.8125,-341.8796C374.8818,-332.368 387.8039,-322.1843 400.1788,-312.432\"/>\n<polygon fill=\"#000000\" stroke=\"#000000\" points=\"402.5296,-315.0356 408.2173,-306.0969 398.1968,-309.5377 402.5296,-315.0356\"/>\n<text text-anchor=\"middle\" x=\"405.275\" y=\"-327.2232\" font-family=\"Helvetica,sans-Serif\" font-size=\"14.00\" fill=\"#000000\">False</text>\n</g>\n<!-- 2 -->\n<g id=\"node3\" class=\"node\">\n<title>2</title>\n<path fill=\"#399de5\" stroke=\"#000000\" d=\"M112,-179.5C112,-179.5 12,-179.5 12,-179.5 6,-179.5 0,-173.5 0,-167.5 0,-167.5 0,-123.5 0,-123.5 0,-117.5 6,-111.5 12,-111.5 12,-111.5 112,-111.5 112,-111.5 118,-111.5 124,-117.5 124,-123.5 124,-123.5 124,-167.5 124,-167.5 124,-173.5 118,-179.5 112,-179.5\"/>\n<text text-anchor=\"middle\" x=\"62\" y=\"-164.3\" font-family=\"Helvetica,sans-Serif\" font-size=\"14.00\" fill=\"#000000\">gini = 0.0</text>\n<text text-anchor=\"middle\" x=\"62\" y=\"-149.3\" font-family=\"Helvetica,sans-Serif\" font-size=\"14.00\" fill=\"#000000\">samples = 1935</text>\n<text text-anchor=\"middle\" x=\"62\" y=\"-134.3\" font-family=\"Helvetica,sans-Serif\" font-size=\"14.00\" fill=\"#000000\">value = [0, 1935]</text>\n<text text-anchor=\"middle\" x=\"62\" y=\"-119.3\" font-family=\"Helvetica,sans-Serif\" font-size=\"14.00\" fill=\"#000000\">class = sim</text>\n</g>\n<!-- 1&#45;&gt;2 -->\n<g id=\"edge2\" class=\"edge\">\n<title>1&#45;&gt;2</title>\n<path fill=\"none\" stroke=\"#000000\" d=\"M162.1383,-222.8796C146.7696,-211.0038 130.0453,-198.0804 114.7441,-186.2568\"/>\n<polygon fill=\"#000000\" stroke=\"#000000\" points=\"116.4605,-183.1599 106.4076,-179.8149 112.1804,-188.699 116.4605,-183.1599\"/>\n</g>\n<!-- 3 -->\n<g id=\"node4\" class=\"node\">\n<title>3</title>\n<path fill=\"#6bb6ec\" stroke=\"#000000\" d=\"M277.5,-187C277.5,-187 154.5,-187 154.5,-187 148.5,-187 142.5,-181 142.5,-175 142.5,-175 142.5,-116 142.5,-116 142.5,-110 148.5,-104 154.5,-104 154.5,-104 277.5,-104 277.5,-104 283.5,-104 289.5,-110 289.5,-116 289.5,-116 289.5,-175 289.5,-175 289.5,-181 283.5,-187 277.5,-187\"/>\n<text text-anchor=\"middle\" x=\"216\" y=\"-171.8\" font-family=\"Helvetica,sans-Serif\" font-size=\"14.00\" fill=\"#000000\">preco &lt;= 41083.029</text>\n<text text-anchor=\"middle\" x=\"216\" y=\"-156.8\" font-family=\"Helvetica,sans-Serif\" font-size=\"14.00\" fill=\"#000000\">gini = 0.321</text>\n<text text-anchor=\"middle\" x=\"216\" y=\"-141.8\" font-family=\"Helvetica,sans-Serif\" font-size=\"14.00\" fill=\"#000000\">samples = 2412</text>\n<text text-anchor=\"middle\" x=\"216\" y=\"-126.8\" font-family=\"Helvetica,sans-Serif\" font-size=\"14.00\" fill=\"#000000\">value = [484, 1928]</text>\n<text text-anchor=\"middle\" x=\"216\" y=\"-111.8\" font-family=\"Helvetica,sans-Serif\" font-size=\"14.00\" fill=\"#000000\">class = sim</text>\n</g>\n<!-- 1&#45;&gt;3 -->\n<g id=\"edge3\" class=\"edge\">\n<title>1&#45;&gt;3</title>\n<path fill=\"none\" stroke=\"#000000\" d=\"M216,-222.8796C216,-214.6838 216,-205.9891 216,-197.5013\"/>\n<polygon fill=\"#000000\" stroke=\"#000000\" points=\"219.5001,-197.298 216,-187.2981 212.5001,-197.2981 219.5001,-197.298\"/>\n</g>\n<!-- 4 -->\n<g id=\"node5\" class=\"node\">\n<title>4</title>\n<path fill=\"#95cbf1\" stroke=\"#000000\" d=\"M116,-68C116,-68 24,-68 24,-68 18,-68 12,-62 12,-56 12,-56 12,-12 12,-12 12,-6 18,0 24,0 24,0 116,0 116,0 122,0 128,-6 128,-12 128,-12 128,-56 128,-56 128,-62 122,-68 116,-68\"/>\n<text text-anchor=\"middle\" x=\"70\" y=\"-52.8\" font-family=\"Helvetica,sans-Serif\" font-size=\"14.00\" fill=\"#000000\">gini = 0.434</text>\n<text text-anchor=\"middle\" x=\"70\" y=\"-37.8\" font-family=\"Helvetica,sans-Serif\" font-size=\"14.00\" fill=\"#000000\">samples = 110</text>\n<text text-anchor=\"middle\" x=\"70\" y=\"-22.8\" font-family=\"Helvetica,sans-Serif\" font-size=\"14.00\" fill=\"#000000\">value = [35, 75]</text>\n<text text-anchor=\"middle\" x=\"70\" y=\"-7.8\" font-family=\"Helvetica,sans-Serif\" font-size=\"14.00\" fill=\"#000000\">class = sim</text>\n</g>\n<!-- 3&#45;&gt;4 -->\n<g id=\"edge4\" class=\"edge\">\n<title>3&#45;&gt;4</title>\n<path fill=\"none\" stroke=\"#000000\" d=\"M161.635,-103.9815C148.9989,-94.3313 135.5644,-84.0714 122.9885,-74.4673\"/>\n<polygon fill=\"#000000\" stroke=\"#000000\" points=\"124.9372,-71.5515 114.8654,-68.2637 120.6886,-77.1148 124.9372,-71.5515\"/>\n</g>\n<!-- 5 -->\n<g id=\"node6\" class=\"node\">\n<title>5</title>\n<path fill=\"#69b5eb\" stroke=\"#000000\" d=\"M274,-68C274,-68 158,-68 158,-68 152,-68 146,-62 146,-56 146,-56 146,-12 146,-12 146,-6 152,0 158,0 158,0 274,0 274,0 280,0 286,-6 286,-12 286,-12 286,-56 286,-56 286,-62 280,-68 274,-68\"/>\n<text text-anchor=\"middle\" x=\"216\" y=\"-52.8\" font-family=\"Helvetica,sans-Serif\" font-size=\"14.00\" fill=\"#000000\">gini = 0.314</text>\n<text text-anchor=\"middle\" x=\"216\" y=\"-37.8\" font-family=\"Helvetica,sans-Serif\" font-size=\"14.00\" fill=\"#000000\">samples = 2302</text>\n<text text-anchor=\"middle\" x=\"216\" y=\"-22.8\" font-family=\"Helvetica,sans-Serif\" font-size=\"14.00\" fill=\"#000000\">value = [449, 1853]</text>\n<text text-anchor=\"middle\" x=\"216\" y=\"-7.8\" font-family=\"Helvetica,sans-Serif\" font-size=\"14.00\" fill=\"#000000\">class = sim</text>\n</g>\n<!-- 3&#45;&gt;5 -->\n<g id=\"edge5\" class=\"edge\">\n<title>3&#45;&gt;5</title>\n<path fill=\"none\" stroke=\"#000000\" d=\"M216,-103.9815C216,-95.618 216,-86.7965 216,-78.3409\"/>\n<polygon fill=\"#000000\" stroke=\"#000000\" points=\"219.5001,-78.2636 216,-68.2637 212.5001,-78.2637 219.5001,-78.2636\"/>\n</g>\n<!-- 7 -->\n<g id=\"node8\" class=\"node\">\n<title>7</title>\n<path fill=\"#fcefe5\" stroke=\"#000000\" d=\"M523.5,-187C523.5,-187 398.5,-187 398.5,-187 392.5,-187 386.5,-181 386.5,-175 386.5,-175 386.5,-116 386.5,-116 386.5,-110 392.5,-104 398.5,-104 398.5,-104 523.5,-104 523.5,-104 529.5,-104 535.5,-110 535.5,-116 535.5,-116 535.5,-175 535.5,-175 535.5,-181 529.5,-187 523.5,-187\"/>\n<text text-anchor=\"middle\" x=\"461\" y=\"-171.8\" font-family=\"Helvetica,sans-Serif\" font-size=\"14.00\" fill=\"#000000\">preco &lt;= 99974.41</text>\n<text text-anchor=\"middle\" x=\"461\" y=\"-156.8\" font-family=\"Helvetica,sans-Serif\" font-size=\"14.00\" fill=\"#000000\">gini = 0.498</text>\n<text text-anchor=\"middle\" x=\"461\" y=\"-141.8\" font-family=\"Helvetica,sans-Serif\" font-size=\"14.00\" fill=\"#000000\">samples = 3513</text>\n<text text-anchor=\"middle\" x=\"461\" y=\"-126.8\" font-family=\"Helvetica,sans-Serif\" font-size=\"14.00\" fill=\"#000000\">value = [1879, 1634]</text>\n<text text-anchor=\"middle\" x=\"461\" y=\"-111.8\" font-family=\"Helvetica,sans-Serif\" font-size=\"14.00\" fill=\"#000000\">class = não</text>\n</g>\n<!-- 6&#45;&gt;7 -->\n<g id=\"edge7\" class=\"edge\">\n<title>6&#45;&gt;7</title>\n<path fill=\"none\" stroke=\"#000000\" d=\"M461,-222.8796C461,-214.6838 461,-205.9891 461,-197.5013\"/>\n<polygon fill=\"#000000\" stroke=\"#000000\" points=\"464.5001,-197.298 461,-187.2981 457.5001,-197.2981 464.5001,-197.298\"/>\n</g>\n<!-- 10 -->\n<g id=\"node11\" class=\"node\">\n<title>10</title>\n<path fill=\"#e9965a\" stroke=\"#000000\" d=\"M753.5,-187C753.5,-187 622.5,-187 622.5,-187 616.5,-187 610.5,-181 610.5,-175 610.5,-175 610.5,-116 610.5,-116 610.5,-110 616.5,-104 622.5,-104 622.5,-104 753.5,-104 753.5,-104 759.5,-104 765.5,-110 765.5,-116 765.5,-116 765.5,-175 765.5,-175 765.5,-181 759.5,-187 753.5,-187\"/>\n<text text-anchor=\"middle\" x=\"688\" y=\"-171.8\" font-family=\"Helvetica,sans-Serif\" font-size=\"14.00\" fill=\"#000000\">preco &lt;= 100076.957</text>\n<text text-anchor=\"middle\" x=\"688\" y=\"-156.8\" font-family=\"Helvetica,sans-Serif\" font-size=\"14.00\" fill=\"#000000\">gini = 0.243</text>\n<text text-anchor=\"middle\" x=\"688\" y=\"-141.8\" font-family=\"Helvetica,sans-Serif\" font-size=\"14.00\" fill=\"#000000\">samples = 2140</text>\n<text text-anchor=\"middle\" x=\"688\" y=\"-126.8\" font-family=\"Helvetica,sans-Serif\" font-size=\"14.00\" fill=\"#000000\">value = [1837, 303]</text>\n<text text-anchor=\"middle\" x=\"688\" y=\"-111.8\" font-family=\"Helvetica,sans-Serif\" font-size=\"14.00\" fill=\"#000000\">class = não</text>\n</g>\n<!-- 6&#45;&gt;10 -->\n<g id=\"edge10\" class=\"edge\">\n<title>6&#45;&gt;10</title>\n<path fill=\"none\" stroke=\"#000000\" d=\"M540.3936,-222.8796C560.0179,-212.592 581.1418,-201.5182 601.1025,-191.0542\"/>\n<polygon fill=\"#000000\" stroke=\"#000000\" points=\"602.9504,-194.0373 610.1822,-186.2944 599.7003,-187.8375 602.9504,-194.0373\"/>\n</g>\n<!-- 8 -->\n<g id=\"node9\" class=\"node\">\n<title>8</title>\n<path fill=\"#f9e0ce\" stroke=\"#000000\" d=\"M441.5,-68C441.5,-68 316.5,-68 316.5,-68 310.5,-68 304.5,-62 304.5,-56 304.5,-56 304.5,-12 304.5,-12 304.5,-6 310.5,0 316.5,0 316.5,0 441.5,0 441.5,0 447.5,0 453.5,-6 453.5,-12 453.5,-12 453.5,-56 453.5,-56 453.5,-62 447.5,-68 441.5,-68\"/>\n<text text-anchor=\"middle\" x=\"379\" y=\"-52.8\" font-family=\"Helvetica,sans-Serif\" font-size=\"14.00\" fill=\"#000000\">gini = 0.49</text>\n<text text-anchor=\"middle\" x=\"379\" y=\"-37.8\" font-family=\"Helvetica,sans-Serif\" font-size=\"14.00\" fill=\"#000000\">samples = 2944</text>\n<text text-anchor=\"middle\" x=\"379\" y=\"-22.8\" font-family=\"Helvetica,sans-Serif\" font-size=\"14.00\" fill=\"#000000\">value = [1682, 1262]</text>\n<text text-anchor=\"middle\" x=\"379\" y=\"-7.8\" font-family=\"Helvetica,sans-Serif\" font-size=\"14.00\" fill=\"#000000\">class = não</text>\n</g>\n<!-- 7&#45;&gt;8 -->\n<g id=\"edge8\" class=\"edge\">\n<title>7&#45;&gt;8</title>\n<path fill=\"none\" stroke=\"#000000\" d=\"M430.4662,-103.9815C423.8424,-94.9747 416.8279,-85.4367 410.1795,-76.3965\"/>\n<polygon fill=\"#000000\" stroke=\"#000000\" points=\"412.9426,-74.2461 404.1984,-68.2637 407.3034,-78.3933 412.9426,-74.2461\"/>\n</g>\n<!-- 9 -->\n<g id=\"node10\" class=\"node\">\n<title>9</title>\n<path fill=\"#a2d1f3\" stroke=\"#000000\" d=\"M592,-68C592,-68 484,-68 484,-68 478,-68 472,-62 472,-56 472,-56 472,-12 472,-12 472,-6 478,0 484,0 484,0 592,0 592,0 598,0 604,-6 604,-12 604,-12 604,-56 604,-56 604,-62 598,-68 592,-68\"/>\n<text text-anchor=\"middle\" x=\"538\" y=\"-52.8\" font-family=\"Helvetica,sans-Serif\" font-size=\"14.00\" fill=\"#000000\">gini = 0.453</text>\n<text text-anchor=\"middle\" x=\"538\" y=\"-37.8\" font-family=\"Helvetica,sans-Serif\" font-size=\"14.00\" fill=\"#000000\">samples = 569</text>\n<text text-anchor=\"middle\" x=\"538\" y=\"-22.8\" font-family=\"Helvetica,sans-Serif\" font-size=\"14.00\" fill=\"#000000\">value = [197, 372]</text>\n<text text-anchor=\"middle\" x=\"538\" y=\"-7.8\" font-family=\"Helvetica,sans-Serif\" font-size=\"14.00\" fill=\"#000000\">class = sim</text>\n</g>\n<!-- 7&#45;&gt;9 -->\n<g id=\"edge9\" class=\"edge\">\n<title>7&#45;&gt;9</title>\n<path fill=\"none\" stroke=\"#000000\" d=\"M489.672,-103.9815C495.8285,-95.0666 502.3443,-85.6313 508.5305,-76.6734\"/>\n<polygon fill=\"#000000\" stroke=\"#000000\" points=\"511.5355,-78.4811 514.3381,-68.2637 505.7755,-74.5034 511.5355,-78.4811\"/>\n</g>\n<!-- 11 -->\n<g id=\"node12\" class=\"node\">\n<title>11</title>\n<path fill=\"#e68742\" stroke=\"#000000\" d=\"M742,-68C742,-68 634,-68 634,-68 628,-68 622,-62 622,-56 622,-56 622,-12 622,-12 622,-6 628,0 634,0 634,0 742,0 742,0 748,0 754,-6 754,-12 754,-12 754,-56 754,-56 754,-62 748,-68 742,-68\"/>\n<text text-anchor=\"middle\" x=\"688\" y=\"-52.8\" font-family=\"Helvetica,sans-Serif\" font-size=\"14.00\" fill=\"#000000\">gini = 0.082</text>\n<text text-anchor=\"middle\" x=\"688\" y=\"-37.8\" font-family=\"Helvetica,sans-Serif\" font-size=\"14.00\" fill=\"#000000\">samples = 1809</text>\n<text text-anchor=\"middle\" x=\"688\" y=\"-22.8\" font-family=\"Helvetica,sans-Serif\" font-size=\"14.00\" fill=\"#000000\">value = [1732, 77]</text>\n<text text-anchor=\"middle\" x=\"688\" y=\"-7.8\" font-family=\"Helvetica,sans-Serif\" font-size=\"14.00\" fill=\"#000000\">class = não</text>\n</g>\n<!-- 10&#45;&gt;11 -->\n<g id=\"edge11\" class=\"edge\">\n<title>10&#45;&gt;11</title>\n<path fill=\"none\" stroke=\"#000000\" d=\"M688,-103.9815C688,-95.618 688,-86.7965 688,-78.3409\"/>\n<polygon fill=\"#000000\" stroke=\"#000000\" points=\"691.5001,-78.2636 688,-68.2637 684.5001,-78.2637 691.5001,-78.2636\"/>\n</g>\n<!-- 12 -->\n<g id=\"node13\" class=\"node\">\n<title>12</title>\n<path fill=\"#95cbf1\" stroke=\"#000000\" d=\"M892,-68C892,-68 784,-68 784,-68 778,-68 772,-62 772,-56 772,-56 772,-12 772,-12 772,-6 778,0 784,0 784,0 892,0 892,0 898,0 904,-6 904,-12 904,-12 904,-56 904,-56 904,-62 898,-68 892,-68\"/>\n<text text-anchor=\"middle\" x=\"838\" y=\"-52.8\" font-family=\"Helvetica,sans-Serif\" font-size=\"14.00\" fill=\"#000000\">gini = 0.433</text>\n<text text-anchor=\"middle\" x=\"838\" y=\"-37.8\" font-family=\"Helvetica,sans-Serif\" font-size=\"14.00\" fill=\"#000000\">samples = 331</text>\n<text text-anchor=\"middle\" x=\"838\" y=\"-22.8\" font-family=\"Helvetica,sans-Serif\" font-size=\"14.00\" fill=\"#000000\">value = [105, 226]</text>\n<text text-anchor=\"middle\" x=\"838\" y=\"-7.8\" font-family=\"Helvetica,sans-Serif\" font-size=\"14.00\" fill=\"#000000\">class = sim</text>\n</g>\n<!-- 10&#45;&gt;12 -->\n<g id=\"edge12\" class=\"edge\">\n<title>10&#45;&gt;12</title>\n<path fill=\"none\" stroke=\"#000000\" d=\"M743.8545,-103.9815C756.8368,-94.3313 770.6394,-84.0714 783.5597,-74.4673\"/>\n<polygon fill=\"#000000\" stroke=\"#000000\" points=\"785.9678,-77.0384 791.9054,-68.2637 781.7917,-71.4204 785.9678,-77.0384\"/>\n</g>\n</g>\n</svg>\n"
          },
          "metadata": {},
          "execution_count": 85
        }
      ]
    },
    {
      "cell_type": "markdown",
      "source": [
        "## Arvore de Decisão com 3 "
      ],
      "metadata": {
        "id": "-hXvg4fpoCIN"
      }
    },
    {
      "cell_type": "code",
      "source": [
        "from sklearn.model_selection import GroupKFold\n",
        "\n",
        "SEED = 300\n",
        "np.random.seed(SEED)\n",
        "\n",
        "cv = GroupKFold(n_splits = 10)\n",
        "modelo = DecisionTreeClassifier(max_depth=3) # tamanho da decisao\n",
        "\n",
        "results = cross_validate(modelo, x_azar, y_azar, cv = cv, groups = dados.modelo, return_train_score=False) # Agrupa por modelo\n",
        "\n",
        "imprime_resultados(results)"
      ],
      "metadata": {
        "colab": {
          "base_uri": "https://localhost:8080/"
        },
        "id": "SumfHJ53n5V1",
        "outputId": "20a8b0c3-e4b0-469d-df61-838ee8e657b8"
      },
      "execution_count": 86,
      "outputs": [
        {
          "output_type": "stream",
          "name": "stdout",
          "text": [
            "Accuracy médio 78.67%\n",
            "Intervalo [76.40% 80.94%]\n"
          ]
        }
      ]
    },
    {
      "cell_type": "code",
      "source": [
        "# Agora queremos usar no mundo real\n",
        "modelo.fit(x_azar, y_azar)\n",
        "feature = x_azar.columns\n",
        "                        #  joga nenhum arquivo\n",
        "dot_data = export_graphviz(modelo, out_file=None, filled = True, rounded = True, class_names=['não', 'sim'], feature_names= feature)\n",
        "                                        # filled ---> preencher os retangulos de visualização\n",
        "\n",
        "graph = graphviz.Source(dot_data)\n",
        "graph"
      ],
      "metadata": {
        "colab": {
          "base_uri": "https://localhost:8080/",
          "height": 599
        },
        "id": "75hXGtPDn7tX",
        "outputId": "24b1f505-9a8f-49f5-957d-7b21d2b11630"
      },
      "execution_count": 87,
      "outputs": [
        {
          "output_type": "execute_result",
          "data": {
            "text/plain": [
              "<graphviz.files.Source at 0x7f2f766d5b90>"
            ],
            "image/svg+xml": "<?xml version=\"1.0\" encoding=\"UTF-8\" standalone=\"no\"?>\n<!DOCTYPE svg PUBLIC \"-//W3C//DTD SVG 1.1//EN\"\n \"http://www.w3.org/Graphics/SVG/1.1/DTD/svg11.dtd\">\n<!-- Generated by graphviz version 2.40.1 (20161225.0304)\n -->\n<!-- Title: Tree Pages: 1 -->\n<svg width=\"912pt\" height=\"433pt\"\n viewBox=\"0.00 0.00 912.00 433.00\" xmlns=\"http://www.w3.org/2000/svg\" xmlns:xlink=\"http://www.w3.org/1999/xlink\">\n<g id=\"graph0\" class=\"graph\" transform=\"scale(1 1) rotate(0) translate(4 429)\">\n<title>Tree</title>\n<polygon fill=\"#ffffff\" stroke=\"transparent\" points=\"-4,4 -4,-429 908,-429 908,4 -4,4\"/>\n<!-- 0 -->\n<g id=\"node1\" class=\"node\">\n<title>0</title>\n<path fill=\"#c8e4f8\" stroke=\"#000000\" d=\"M372.5,-425C372.5,-425 247.5,-425 247.5,-425 241.5,-425 235.5,-419 235.5,-413 235.5,-413 235.5,-354 235.5,-354 235.5,-348 241.5,-342 247.5,-342 247.5,-342 372.5,-342 372.5,-342 378.5,-342 384.5,-348 384.5,-354 384.5,-354 384.5,-413 384.5,-413 384.5,-419 378.5,-425 372.5,-425\"/>\n<text text-anchor=\"middle\" x=\"310\" y=\"-409.8\" font-family=\"Helvetica,sans-Serif\" font-size=\"14.00\" fill=\"#000000\">preco &lt;= 59982.246</text>\n<text text-anchor=\"middle\" x=\"310\" y=\"-394.8\" font-family=\"Helvetica,sans-Serif\" font-size=\"14.00\" fill=\"#000000\">gini = 0.487</text>\n<text text-anchor=\"middle\" x=\"310\" y=\"-379.8\" font-family=\"Helvetica,sans-Serif\" font-size=\"14.00\" fill=\"#000000\">samples = 10000</text>\n<text text-anchor=\"middle\" x=\"310\" y=\"-364.8\" font-family=\"Helvetica,sans-Serif\" font-size=\"14.00\" fill=\"#000000\">value = [4200, 5800]</text>\n<text text-anchor=\"middle\" x=\"310\" y=\"-349.8\" font-family=\"Helvetica,sans-Serif\" font-size=\"14.00\" fill=\"#000000\">class = sim</text>\n</g>\n<!-- 1 -->\n<g id=\"node2\" class=\"node\">\n<title>1</title>\n<path fill=\"#52a9e8\" stroke=\"#000000\" d=\"M277.5,-306C277.5,-306 154.5,-306 154.5,-306 148.5,-306 142.5,-300 142.5,-294 142.5,-294 142.5,-235 142.5,-235 142.5,-229 148.5,-223 154.5,-223 154.5,-223 277.5,-223 277.5,-223 283.5,-223 289.5,-229 289.5,-235 289.5,-235 289.5,-294 289.5,-294 289.5,-300 283.5,-306 277.5,-306\"/>\n<text text-anchor=\"middle\" x=\"216\" y=\"-290.8\" font-family=\"Helvetica,sans-Serif\" font-size=\"14.00\" fill=\"#000000\">preco &lt;= 40083.385</text>\n<text text-anchor=\"middle\" x=\"216\" y=\"-275.8\" font-family=\"Helvetica,sans-Serif\" font-size=\"14.00\" fill=\"#000000\">gini = 0.198</text>\n<text text-anchor=\"middle\" x=\"216\" y=\"-260.8\" font-family=\"Helvetica,sans-Serif\" font-size=\"14.00\" fill=\"#000000\">samples = 4347</text>\n<text text-anchor=\"middle\" x=\"216\" y=\"-245.8\" font-family=\"Helvetica,sans-Serif\" font-size=\"14.00\" fill=\"#000000\">value = [484, 3863]</text>\n<text text-anchor=\"middle\" x=\"216\" y=\"-230.8\" font-family=\"Helvetica,sans-Serif\" font-size=\"14.00\" fill=\"#000000\">class = sim</text>\n</g>\n<!-- 0&#45;&gt;1 -->\n<g id=\"edge1\" class=\"edge\">\n<title>0&#45;&gt;1</title>\n<path fill=\"none\" stroke=\"#000000\" d=\"M277.1234,-341.8796C270.0803,-332.9633 262.5707,-323.4565 255.3126,-314.268\"/>\n<polygon fill=\"#000000\" stroke=\"#000000\" points=\"257.9621,-311.9757 249.017,-306.2981 252.4691,-316.3147 257.9621,-311.9757\"/>\n<text text-anchor=\"middle\" x=\"246.1027\" y=\"-327.4276\" font-family=\"Helvetica,sans-Serif\" font-size=\"14.00\" fill=\"#000000\">True</text>\n</g>\n<!-- 6 -->\n<g id=\"node7\" class=\"node\">\n<title>6</title>\n<path fill=\"#f3c3a0\" stroke=\"#000000\" d=\"M545,-306C545,-306 377,-306 377,-306 371,-306 365,-300 365,-294 365,-294 365,-235 365,-235 365,-229 371,-223 377,-223 377,-223 545,-223 545,-223 551,-223 557,-229 557,-235 557,-235 557,-294 557,-294 557,-300 551,-306 545,-306\"/>\n<text text-anchor=\"middle\" x=\"461\" y=\"-290.8\" font-family=\"Helvetica,sans-Serif\" font-size=\"14.00\" fill=\"#000000\">km_por_ano &lt;= 24124.006</text>\n<text text-anchor=\"middle\" x=\"461\" y=\"-275.8\" font-family=\"Helvetica,sans-Serif\" font-size=\"14.00\" fill=\"#000000\">gini = 0.45</text>\n<text text-anchor=\"middle\" x=\"461\" y=\"-260.8\" font-family=\"Helvetica,sans-Serif\" font-size=\"14.00\" fill=\"#000000\">samples = 5653</text>\n<text text-anchor=\"middle\" x=\"461\" y=\"-245.8\" font-family=\"Helvetica,sans-Serif\" font-size=\"14.00\" fill=\"#000000\">value = [3716, 1937]</text>\n<text text-anchor=\"middle\" x=\"461\" y=\"-230.8\" font-family=\"Helvetica,sans-Serif\" font-size=\"14.00\" fill=\"#000000\">class = não</text>\n</g>\n<!-- 0&#45;&gt;6 -->\n<g id=\"edge6\" class=\"edge\">\n<title>0&#45;&gt;6</title>\n<path fill=\"none\" stroke=\"#000000\" d=\"M362.8125,-341.8796C374.8818,-332.368 387.8039,-322.1843 400.1788,-312.432\"/>\n<polygon fill=\"#000000\" stroke=\"#000000\" points=\"402.5296,-315.0356 408.2173,-306.0969 398.1968,-309.5377 402.5296,-315.0356\"/>\n<text text-anchor=\"middle\" x=\"405.275\" y=\"-327.2232\" font-family=\"Helvetica,sans-Serif\" font-size=\"14.00\" fill=\"#000000\">False</text>\n</g>\n<!-- 2 -->\n<g id=\"node3\" class=\"node\">\n<title>2</title>\n<path fill=\"#399de5\" stroke=\"#000000\" d=\"M112,-179.5C112,-179.5 12,-179.5 12,-179.5 6,-179.5 0,-173.5 0,-167.5 0,-167.5 0,-123.5 0,-123.5 0,-117.5 6,-111.5 12,-111.5 12,-111.5 112,-111.5 112,-111.5 118,-111.5 124,-117.5 124,-123.5 124,-123.5 124,-167.5 124,-167.5 124,-173.5 118,-179.5 112,-179.5\"/>\n<text text-anchor=\"middle\" x=\"62\" y=\"-164.3\" font-family=\"Helvetica,sans-Serif\" font-size=\"14.00\" fill=\"#000000\">gini = 0.0</text>\n<text text-anchor=\"middle\" x=\"62\" y=\"-149.3\" font-family=\"Helvetica,sans-Serif\" font-size=\"14.00\" fill=\"#000000\">samples = 1935</text>\n<text text-anchor=\"middle\" x=\"62\" y=\"-134.3\" font-family=\"Helvetica,sans-Serif\" font-size=\"14.00\" fill=\"#000000\">value = [0, 1935]</text>\n<text text-anchor=\"middle\" x=\"62\" y=\"-119.3\" font-family=\"Helvetica,sans-Serif\" font-size=\"14.00\" fill=\"#000000\">class = sim</text>\n</g>\n<!-- 1&#45;&gt;2 -->\n<g id=\"edge2\" class=\"edge\">\n<title>1&#45;&gt;2</title>\n<path fill=\"none\" stroke=\"#000000\" d=\"M162.1383,-222.8796C146.7696,-211.0038 130.0453,-198.0804 114.7441,-186.2568\"/>\n<polygon fill=\"#000000\" stroke=\"#000000\" points=\"116.4605,-183.1599 106.4076,-179.8149 112.1804,-188.699 116.4605,-183.1599\"/>\n</g>\n<!-- 3 -->\n<g id=\"node4\" class=\"node\">\n<title>3</title>\n<path fill=\"#6bb6ec\" stroke=\"#000000\" d=\"M277.5,-187C277.5,-187 154.5,-187 154.5,-187 148.5,-187 142.5,-181 142.5,-175 142.5,-175 142.5,-116 142.5,-116 142.5,-110 148.5,-104 154.5,-104 154.5,-104 277.5,-104 277.5,-104 283.5,-104 289.5,-110 289.5,-116 289.5,-116 289.5,-175 289.5,-175 289.5,-181 283.5,-187 277.5,-187\"/>\n<text text-anchor=\"middle\" x=\"216\" y=\"-171.8\" font-family=\"Helvetica,sans-Serif\" font-size=\"14.00\" fill=\"#000000\">preco &lt;= 41083.029</text>\n<text text-anchor=\"middle\" x=\"216\" y=\"-156.8\" font-family=\"Helvetica,sans-Serif\" font-size=\"14.00\" fill=\"#000000\">gini = 0.321</text>\n<text text-anchor=\"middle\" x=\"216\" y=\"-141.8\" font-family=\"Helvetica,sans-Serif\" font-size=\"14.00\" fill=\"#000000\">samples = 2412</text>\n<text text-anchor=\"middle\" x=\"216\" y=\"-126.8\" font-family=\"Helvetica,sans-Serif\" font-size=\"14.00\" fill=\"#000000\">value = [484, 1928]</text>\n<text text-anchor=\"middle\" x=\"216\" y=\"-111.8\" font-family=\"Helvetica,sans-Serif\" font-size=\"14.00\" fill=\"#000000\">class = sim</text>\n</g>\n<!-- 1&#45;&gt;3 -->\n<g id=\"edge3\" class=\"edge\">\n<title>1&#45;&gt;3</title>\n<path fill=\"none\" stroke=\"#000000\" d=\"M216,-222.8796C216,-214.6838 216,-205.9891 216,-197.5013\"/>\n<polygon fill=\"#000000\" stroke=\"#000000\" points=\"219.5001,-197.298 216,-187.2981 212.5001,-197.2981 219.5001,-197.298\"/>\n</g>\n<!-- 4 -->\n<g id=\"node5\" class=\"node\">\n<title>4</title>\n<path fill=\"#95cbf1\" stroke=\"#000000\" d=\"M116,-68C116,-68 24,-68 24,-68 18,-68 12,-62 12,-56 12,-56 12,-12 12,-12 12,-6 18,0 24,0 24,0 116,0 116,0 122,0 128,-6 128,-12 128,-12 128,-56 128,-56 128,-62 122,-68 116,-68\"/>\n<text text-anchor=\"middle\" x=\"70\" y=\"-52.8\" font-family=\"Helvetica,sans-Serif\" font-size=\"14.00\" fill=\"#000000\">gini = 0.434</text>\n<text text-anchor=\"middle\" x=\"70\" y=\"-37.8\" font-family=\"Helvetica,sans-Serif\" font-size=\"14.00\" fill=\"#000000\">samples = 110</text>\n<text text-anchor=\"middle\" x=\"70\" y=\"-22.8\" font-family=\"Helvetica,sans-Serif\" font-size=\"14.00\" fill=\"#000000\">value = [35, 75]</text>\n<text text-anchor=\"middle\" x=\"70\" y=\"-7.8\" font-family=\"Helvetica,sans-Serif\" font-size=\"14.00\" fill=\"#000000\">class = sim</text>\n</g>\n<!-- 3&#45;&gt;4 -->\n<g id=\"edge4\" class=\"edge\">\n<title>3&#45;&gt;4</title>\n<path fill=\"none\" stroke=\"#000000\" d=\"M161.635,-103.9815C148.9989,-94.3313 135.5644,-84.0714 122.9885,-74.4673\"/>\n<polygon fill=\"#000000\" stroke=\"#000000\" points=\"124.9372,-71.5515 114.8654,-68.2637 120.6886,-77.1148 124.9372,-71.5515\"/>\n</g>\n<!-- 5 -->\n<g id=\"node6\" class=\"node\">\n<title>5</title>\n<path fill=\"#69b5eb\" stroke=\"#000000\" d=\"M274,-68C274,-68 158,-68 158,-68 152,-68 146,-62 146,-56 146,-56 146,-12 146,-12 146,-6 152,0 158,0 158,0 274,0 274,0 280,0 286,-6 286,-12 286,-12 286,-56 286,-56 286,-62 280,-68 274,-68\"/>\n<text text-anchor=\"middle\" x=\"216\" y=\"-52.8\" font-family=\"Helvetica,sans-Serif\" font-size=\"14.00\" fill=\"#000000\">gini = 0.314</text>\n<text text-anchor=\"middle\" x=\"216\" y=\"-37.8\" font-family=\"Helvetica,sans-Serif\" font-size=\"14.00\" fill=\"#000000\">samples = 2302</text>\n<text text-anchor=\"middle\" x=\"216\" y=\"-22.8\" font-family=\"Helvetica,sans-Serif\" font-size=\"14.00\" fill=\"#000000\">value = [449, 1853]</text>\n<text text-anchor=\"middle\" x=\"216\" y=\"-7.8\" font-family=\"Helvetica,sans-Serif\" font-size=\"14.00\" fill=\"#000000\">class = sim</text>\n</g>\n<!-- 3&#45;&gt;5 -->\n<g id=\"edge5\" class=\"edge\">\n<title>3&#45;&gt;5</title>\n<path fill=\"none\" stroke=\"#000000\" d=\"M216,-103.9815C216,-95.618 216,-86.7965 216,-78.3409\"/>\n<polygon fill=\"#000000\" stroke=\"#000000\" points=\"219.5001,-78.2636 216,-68.2637 212.5001,-78.2637 219.5001,-78.2636\"/>\n</g>\n<!-- 7 -->\n<g id=\"node8\" class=\"node\">\n<title>7</title>\n<path fill=\"#fcefe5\" stroke=\"#000000\" d=\"M523.5,-187C523.5,-187 398.5,-187 398.5,-187 392.5,-187 386.5,-181 386.5,-175 386.5,-175 386.5,-116 386.5,-116 386.5,-110 392.5,-104 398.5,-104 398.5,-104 523.5,-104 523.5,-104 529.5,-104 535.5,-110 535.5,-116 535.5,-116 535.5,-175 535.5,-175 535.5,-181 529.5,-187 523.5,-187\"/>\n<text text-anchor=\"middle\" x=\"461\" y=\"-171.8\" font-family=\"Helvetica,sans-Serif\" font-size=\"14.00\" fill=\"#000000\">preco &lt;= 99974.41</text>\n<text text-anchor=\"middle\" x=\"461\" y=\"-156.8\" font-family=\"Helvetica,sans-Serif\" font-size=\"14.00\" fill=\"#000000\">gini = 0.498</text>\n<text text-anchor=\"middle\" x=\"461\" y=\"-141.8\" font-family=\"Helvetica,sans-Serif\" font-size=\"14.00\" fill=\"#000000\">samples = 3513</text>\n<text text-anchor=\"middle\" x=\"461\" y=\"-126.8\" font-family=\"Helvetica,sans-Serif\" font-size=\"14.00\" fill=\"#000000\">value = [1879, 1634]</text>\n<text text-anchor=\"middle\" x=\"461\" y=\"-111.8\" font-family=\"Helvetica,sans-Serif\" font-size=\"14.00\" fill=\"#000000\">class = não</text>\n</g>\n<!-- 6&#45;&gt;7 -->\n<g id=\"edge7\" class=\"edge\">\n<title>6&#45;&gt;7</title>\n<path fill=\"none\" stroke=\"#000000\" d=\"M461,-222.8796C461,-214.6838 461,-205.9891 461,-197.5013\"/>\n<polygon fill=\"#000000\" stroke=\"#000000\" points=\"464.5001,-197.298 461,-187.2981 457.5001,-197.2981 464.5001,-197.298\"/>\n</g>\n<!-- 10 -->\n<g id=\"node11\" class=\"node\">\n<title>10</title>\n<path fill=\"#e9965a\" stroke=\"#000000\" d=\"M753.5,-187C753.5,-187 622.5,-187 622.5,-187 616.5,-187 610.5,-181 610.5,-175 610.5,-175 610.5,-116 610.5,-116 610.5,-110 616.5,-104 622.5,-104 622.5,-104 753.5,-104 753.5,-104 759.5,-104 765.5,-110 765.5,-116 765.5,-116 765.5,-175 765.5,-175 765.5,-181 759.5,-187 753.5,-187\"/>\n<text text-anchor=\"middle\" x=\"688\" y=\"-171.8\" font-family=\"Helvetica,sans-Serif\" font-size=\"14.00\" fill=\"#000000\">preco &lt;= 100076.957</text>\n<text text-anchor=\"middle\" x=\"688\" y=\"-156.8\" font-family=\"Helvetica,sans-Serif\" font-size=\"14.00\" fill=\"#000000\">gini = 0.243</text>\n<text text-anchor=\"middle\" x=\"688\" y=\"-141.8\" font-family=\"Helvetica,sans-Serif\" font-size=\"14.00\" fill=\"#000000\">samples = 2140</text>\n<text text-anchor=\"middle\" x=\"688\" y=\"-126.8\" font-family=\"Helvetica,sans-Serif\" font-size=\"14.00\" fill=\"#000000\">value = [1837, 303]</text>\n<text text-anchor=\"middle\" x=\"688\" y=\"-111.8\" font-family=\"Helvetica,sans-Serif\" font-size=\"14.00\" fill=\"#000000\">class = não</text>\n</g>\n<!-- 6&#45;&gt;10 -->\n<g id=\"edge10\" class=\"edge\">\n<title>6&#45;&gt;10</title>\n<path fill=\"none\" stroke=\"#000000\" d=\"M540.3936,-222.8796C560.0179,-212.592 581.1418,-201.5182 601.1025,-191.0542\"/>\n<polygon fill=\"#000000\" stroke=\"#000000\" points=\"602.9504,-194.0373 610.1822,-186.2944 599.7003,-187.8375 602.9504,-194.0373\"/>\n</g>\n<!-- 8 -->\n<g id=\"node9\" class=\"node\">\n<title>8</title>\n<path fill=\"#f9e0ce\" stroke=\"#000000\" d=\"M441.5,-68C441.5,-68 316.5,-68 316.5,-68 310.5,-68 304.5,-62 304.5,-56 304.5,-56 304.5,-12 304.5,-12 304.5,-6 310.5,0 316.5,0 316.5,0 441.5,0 441.5,0 447.5,0 453.5,-6 453.5,-12 453.5,-12 453.5,-56 453.5,-56 453.5,-62 447.5,-68 441.5,-68\"/>\n<text text-anchor=\"middle\" x=\"379\" y=\"-52.8\" font-family=\"Helvetica,sans-Serif\" font-size=\"14.00\" fill=\"#000000\">gini = 0.49</text>\n<text text-anchor=\"middle\" x=\"379\" y=\"-37.8\" font-family=\"Helvetica,sans-Serif\" font-size=\"14.00\" fill=\"#000000\">samples = 2944</text>\n<text text-anchor=\"middle\" x=\"379\" y=\"-22.8\" font-family=\"Helvetica,sans-Serif\" font-size=\"14.00\" fill=\"#000000\">value = [1682, 1262]</text>\n<text text-anchor=\"middle\" x=\"379\" y=\"-7.8\" font-family=\"Helvetica,sans-Serif\" font-size=\"14.00\" fill=\"#000000\">class = não</text>\n</g>\n<!-- 7&#45;&gt;8 -->\n<g id=\"edge8\" class=\"edge\">\n<title>7&#45;&gt;8</title>\n<path fill=\"none\" stroke=\"#000000\" d=\"M430.4662,-103.9815C423.8424,-94.9747 416.8279,-85.4367 410.1795,-76.3965\"/>\n<polygon fill=\"#000000\" stroke=\"#000000\" points=\"412.9426,-74.2461 404.1984,-68.2637 407.3034,-78.3933 412.9426,-74.2461\"/>\n</g>\n<!-- 9 -->\n<g id=\"node10\" class=\"node\">\n<title>9</title>\n<path fill=\"#a2d1f3\" stroke=\"#000000\" d=\"M592,-68C592,-68 484,-68 484,-68 478,-68 472,-62 472,-56 472,-56 472,-12 472,-12 472,-6 478,0 484,0 484,0 592,0 592,0 598,0 604,-6 604,-12 604,-12 604,-56 604,-56 604,-62 598,-68 592,-68\"/>\n<text text-anchor=\"middle\" x=\"538\" y=\"-52.8\" font-family=\"Helvetica,sans-Serif\" font-size=\"14.00\" fill=\"#000000\">gini = 0.453</text>\n<text text-anchor=\"middle\" x=\"538\" y=\"-37.8\" font-family=\"Helvetica,sans-Serif\" font-size=\"14.00\" fill=\"#000000\">samples = 569</text>\n<text text-anchor=\"middle\" x=\"538\" y=\"-22.8\" font-family=\"Helvetica,sans-Serif\" font-size=\"14.00\" fill=\"#000000\">value = [197, 372]</text>\n<text text-anchor=\"middle\" x=\"538\" y=\"-7.8\" font-family=\"Helvetica,sans-Serif\" font-size=\"14.00\" fill=\"#000000\">class = sim</text>\n</g>\n<!-- 7&#45;&gt;9 -->\n<g id=\"edge9\" class=\"edge\">\n<title>7&#45;&gt;9</title>\n<path fill=\"none\" stroke=\"#000000\" d=\"M489.672,-103.9815C495.8285,-95.0666 502.3443,-85.6313 508.5305,-76.6734\"/>\n<polygon fill=\"#000000\" stroke=\"#000000\" points=\"511.5355,-78.4811 514.3381,-68.2637 505.7755,-74.5034 511.5355,-78.4811\"/>\n</g>\n<!-- 11 -->\n<g id=\"node12\" class=\"node\">\n<title>11</title>\n<path fill=\"#e68742\" stroke=\"#000000\" d=\"M742,-68C742,-68 634,-68 634,-68 628,-68 622,-62 622,-56 622,-56 622,-12 622,-12 622,-6 628,0 634,0 634,0 742,0 742,0 748,0 754,-6 754,-12 754,-12 754,-56 754,-56 754,-62 748,-68 742,-68\"/>\n<text text-anchor=\"middle\" x=\"688\" y=\"-52.8\" font-family=\"Helvetica,sans-Serif\" font-size=\"14.00\" fill=\"#000000\">gini = 0.082</text>\n<text text-anchor=\"middle\" x=\"688\" y=\"-37.8\" font-family=\"Helvetica,sans-Serif\" font-size=\"14.00\" fill=\"#000000\">samples = 1809</text>\n<text text-anchor=\"middle\" x=\"688\" y=\"-22.8\" font-family=\"Helvetica,sans-Serif\" font-size=\"14.00\" fill=\"#000000\">value = [1732, 77]</text>\n<text text-anchor=\"middle\" x=\"688\" y=\"-7.8\" font-family=\"Helvetica,sans-Serif\" font-size=\"14.00\" fill=\"#000000\">class = não</text>\n</g>\n<!-- 10&#45;&gt;11 -->\n<g id=\"edge11\" class=\"edge\">\n<title>10&#45;&gt;11</title>\n<path fill=\"none\" stroke=\"#000000\" d=\"M688,-103.9815C688,-95.618 688,-86.7965 688,-78.3409\"/>\n<polygon fill=\"#000000\" stroke=\"#000000\" points=\"691.5001,-78.2636 688,-68.2637 684.5001,-78.2637 691.5001,-78.2636\"/>\n</g>\n<!-- 12 -->\n<g id=\"node13\" class=\"node\">\n<title>12</title>\n<path fill=\"#95cbf1\" stroke=\"#000000\" d=\"M892,-68C892,-68 784,-68 784,-68 778,-68 772,-62 772,-56 772,-56 772,-12 772,-12 772,-6 778,0 784,0 784,0 892,0 892,0 898,0 904,-6 904,-12 904,-12 904,-56 904,-56 904,-62 898,-68 892,-68\"/>\n<text text-anchor=\"middle\" x=\"838\" y=\"-52.8\" font-family=\"Helvetica,sans-Serif\" font-size=\"14.00\" fill=\"#000000\">gini = 0.433</text>\n<text text-anchor=\"middle\" x=\"838\" y=\"-37.8\" font-family=\"Helvetica,sans-Serif\" font-size=\"14.00\" fill=\"#000000\">samples = 331</text>\n<text text-anchor=\"middle\" x=\"838\" y=\"-22.8\" font-family=\"Helvetica,sans-Serif\" font-size=\"14.00\" fill=\"#000000\">value = [105, 226]</text>\n<text text-anchor=\"middle\" x=\"838\" y=\"-7.8\" font-family=\"Helvetica,sans-Serif\" font-size=\"14.00\" fill=\"#000000\">class = sim</text>\n</g>\n<!-- 10&#45;&gt;12 -->\n<g id=\"edge12\" class=\"edge\">\n<title>10&#45;&gt;12</title>\n<path fill=\"none\" stroke=\"#000000\" d=\"M743.8545,-103.9815C756.8368,-94.3313 770.6394,-84.0714 783.5597,-74.4673\"/>\n<polygon fill=\"#000000\" stroke=\"#000000\" points=\"785.9678,-77.0384 791.9054,-68.2637 781.7917,-71.4204 785.9678,-77.0384\"/>\n</g>\n</g>\n</svg>\n"
          },
          "metadata": {},
          "execution_count": 87
        }
      ]
    },
    {
      "cell_type": "markdown",
      "source": [
        "# Explorando hiper parâmetros em uma dimensão"
      ],
      "metadata": {
        "id": "F_9YvAIEpTKG"
      }
    },
    {
      "cell_type": "code",
      "source": [
        "def roda_arvore_de_decisao(max_depth):\n",
        "\n",
        "  SEED = 301\n",
        "  np.random.seed(SEED)\n",
        "\n",
        "  cv = GroupKFold(n_splits = 10)\n",
        "  modelo = DecisionTreeClassifier(max_depth = max_depth) # tamanho da decisao\n",
        "\n",
        "  results = cross_validate(modelo, x_azar, y_azar, cv = cv, groups = dados.modelo, return_train_score=False) # Agrupa por modelo\n",
        "\n",
        "# pegou a media dos resultados de cada arvore de decisão\n",
        "  print('max_depth = %d, media = %.2f' % (max_depth, results['test_score'].mean() * 100))\n",
        "\n",
        "for i in range(1, 33): # Vai escolher do 1 até o 33\n",
        "  roda_arvore_de_decisao(i)\n"
      ],
      "metadata": {
        "colab": {
          "base_uri": "https://localhost:8080/"
        },
        "id": "7dQDxWOupR2M",
        "outputId": "707ba137-063a-4a8f-dffb-fb5edef576a4"
      },
      "execution_count": 88,
      "outputs": [
        {
          "output_type": "stream",
          "name": "stdout",
          "text": [
            "max_depth = 1, media = 75.78\n",
            "max_depth = 2, media = 75.78\n",
            "max_depth = 3, media = 78.67\n",
            "max_depth = 4, media = 78.63\n",
            "max_depth = 5, media = 78.56\n",
            "max_depth = 6, media = 78.12\n",
            "max_depth = 7, media = 77.96\n",
            "max_depth = 8, media = 77.86\n",
            "max_depth = 9, media = 77.38\n",
            "max_depth = 10, media = 77.19\n",
            "max_depth = 11, media = 76.97\n",
            "max_depth = 12, media = 76.49\n",
            "max_depth = 13, media = 75.81\n",
            "max_depth = 14, media = 75.66\n",
            "max_depth = 15, media = 75.16\n",
            "max_depth = 16, media = 75.11\n",
            "max_depth = 17, media = 74.74\n",
            "max_depth = 18, media = 74.33\n",
            "max_depth = 19, media = 74.34\n",
            "max_depth = 20, media = 74.22\n",
            "max_depth = 21, media = 73.80\n",
            "max_depth = 22, media = 73.81\n",
            "max_depth = 23, media = 73.38\n",
            "max_depth = 24, media = 73.43\n",
            "max_depth = 25, media = 73.14\n",
            "max_depth = 26, media = 73.04\n",
            "max_depth = 27, media = 72.91\n",
            "max_depth = 28, media = 72.66\n",
            "max_depth = 29, media = 72.73\n",
            "max_depth = 30, media = 72.81\n",
            "max_depth = 31, media = 72.86\n",
            "max_depth = 32, media = 72.52\n"
          ]
        }
      ]
    },
    {
      "cell_type": "markdown",
      "source": [
        "# Imprimindo o treino com o teste"
      ],
      "metadata": {
        "id": "wp1RT4HVswT_"
      }
    },
    {
      "cell_type": "code",
      "source": [
        "def roda_arvore_de_decisao(max_depth):\n",
        "\n",
        "  SEED = 301\n",
        "  np.random.seed(SEED)\n",
        "\n",
        "  cv = GroupKFold(n_splits = 10)\n",
        "  modelo = DecisionTreeClassifier(max_depth = max_depth) # tamanho da decisao\n",
        "\n",
        "  results = cross_validate(modelo, x_azar, y_azar, cv = cv, groups = dados.modelo, return_train_score=True) # Agrupa por modelo\n",
        "\n",
        "  train_score = results['train_score'].mean() * 100\n",
        "  test_score = results['test_score'].mean() * 100\n",
        "\n",
        "# pegou a media dos resultados de cada arvore de decisão\n",
        "  print('max_depth = %d, treino = %.2f teste = %.2f' % (max_depth, train_score, test_score))\n",
        "\n",
        "  tabela = [max_depth, train_score, test_score]\n",
        "\n",
        "  return tabela\n",
        "\n",
        "resultados = [roda_arvore_de_decisao(i) for i in range(1, 33)] # Vai escolher do 1 até o 33\n",
        "\n",
        "# transformando em data frame\n",
        "resultados = pd.DataFrame(resultados, columns = ['max_depth', 'treino', 'teste'])"
      ],
      "metadata": {
        "colab": {
          "base_uri": "https://localhost:8080/"
        },
        "id": "1sN0VDZPsvn-",
        "outputId": "75cc4618-68a0-4f89-b709-9adff72fbe7c"
      },
      "execution_count": 89,
      "outputs": [
        {
          "output_type": "stream",
          "name": "stdout",
          "text": [
            "max_depth = 1, treino = 75.79 teste = 75.78\n",
            "max_depth = 2, treino = 75.79 teste = 75.78\n",
            "max_depth = 3, treino = 78.75 teste = 78.67\n",
            "max_depth = 4, treino = 78.79 teste = 78.63\n",
            "max_depth = 5, treino = 78.94 teste = 78.56\n",
            "max_depth = 6, treino = 79.17 teste = 78.12\n",
            "max_depth = 7, treino = 79.50 teste = 77.96\n",
            "max_depth = 8, treino = 79.89 teste = 77.86\n",
            "max_depth = 9, treino = 80.46 teste = 77.38\n",
            "max_depth = 10, treino = 81.16 teste = 77.19\n",
            "max_depth = 11, treino = 82.03 teste = 76.97\n",
            "max_depth = 12, treino = 82.89 teste = 76.49\n",
            "max_depth = 13, treino = 83.95 teste = 75.81\n",
            "max_depth = 14, treino = 85.03 teste = 75.66\n",
            "max_depth = 15, treino = 86.14 teste = 75.16\n",
            "max_depth = 16, treino = 87.19 teste = 75.11\n",
            "max_depth = 17, treino = 88.31 teste = 74.74\n",
            "max_depth = 18, treino = 89.26 teste = 74.33\n",
            "max_depth = 19, treino = 90.32 teste = 74.34\n",
            "max_depth = 20, treino = 91.32 teste = 74.22\n",
            "max_depth = 21, treino = 92.14 teste = 73.80\n",
            "max_depth = 22, treino = 93.02 teste = 73.81\n",
            "max_depth = 23, treino = 93.80 teste = 73.38\n",
            "max_depth = 24, treino = 94.47 teste = 73.43\n",
            "max_depth = 25, treino = 95.16 teste = 73.14\n",
            "max_depth = 26, treino = 95.74 teste = 73.04\n",
            "max_depth = 27, treino = 96.33 teste = 72.91\n",
            "max_depth = 28, treino = 96.75 teste = 72.66\n",
            "max_depth = 29, treino = 97.10 teste = 72.73\n",
            "max_depth = 30, treino = 97.43 teste = 72.81\n",
            "max_depth = 31, treino = 97.80 teste = 72.86\n",
            "max_depth = 32, treino = 98.10 teste = 72.52\n"
          ]
        }
      ]
    },
    {
      "cell_type": "markdown",
      "source": [
        "### Podemos trabalhar com essa variaveis agora"
      ],
      "metadata": {
        "id": "dyEqfWhtvmcE"
      }
    },
    {
      "cell_type": "code",
      "source": [
        "resultados.head()"
      ],
      "metadata": {
        "colab": {
          "base_uri": "https://localhost:8080/",
          "height": 206
        },
        "id": "kY3dKrcLutNE",
        "outputId": "3608dc4f-8018-4237-a58a-ba1147faf7dd"
      },
      "execution_count": 90,
      "outputs": [
        {
          "output_type": "execute_result",
          "data": {
            "text/plain": [
              "   max_depth     treino      teste\n",
              "0          1  75.791169  75.784219\n",
              "1          2  75.791169  75.784219\n",
              "2          3  78.750993  78.672633\n",
              "3          4  78.787628  78.632803\n",
              "4          5  78.941007  78.555912"
            ],
            "text/html": [
              "\n",
              "  <div id=\"df-682aba04-8677-4cad-899e-7ec82e74cec4\">\n",
              "    <div class=\"colab-df-container\">\n",
              "      <div>\n",
              "<style scoped>\n",
              "    .dataframe tbody tr th:only-of-type {\n",
              "        vertical-align: middle;\n",
              "    }\n",
              "\n",
              "    .dataframe tbody tr th {\n",
              "        vertical-align: top;\n",
              "    }\n",
              "\n",
              "    .dataframe thead th {\n",
              "        text-align: right;\n",
              "    }\n",
              "</style>\n",
              "<table border=\"1\" class=\"dataframe\">\n",
              "  <thead>\n",
              "    <tr style=\"text-align: right;\">\n",
              "      <th></th>\n",
              "      <th>max_depth</th>\n",
              "      <th>treino</th>\n",
              "      <th>teste</th>\n",
              "    </tr>\n",
              "  </thead>\n",
              "  <tbody>\n",
              "    <tr>\n",
              "      <th>0</th>\n",
              "      <td>1</td>\n",
              "      <td>75.791169</td>\n",
              "      <td>75.784219</td>\n",
              "    </tr>\n",
              "    <tr>\n",
              "      <th>1</th>\n",
              "      <td>2</td>\n",
              "      <td>75.791169</td>\n",
              "      <td>75.784219</td>\n",
              "    </tr>\n",
              "    <tr>\n",
              "      <th>2</th>\n",
              "      <td>3</td>\n",
              "      <td>78.750993</td>\n",
              "      <td>78.672633</td>\n",
              "    </tr>\n",
              "    <tr>\n",
              "      <th>3</th>\n",
              "      <td>4</td>\n",
              "      <td>78.787628</td>\n",
              "      <td>78.632803</td>\n",
              "    </tr>\n",
              "    <tr>\n",
              "      <th>4</th>\n",
              "      <td>5</td>\n",
              "      <td>78.941007</td>\n",
              "      <td>78.555912</td>\n",
              "    </tr>\n",
              "  </tbody>\n",
              "</table>\n",
              "</div>\n",
              "      <button class=\"colab-df-convert\" onclick=\"convertToInteractive('df-682aba04-8677-4cad-899e-7ec82e74cec4')\"\n",
              "              title=\"Convert this dataframe to an interactive table.\"\n",
              "              style=\"display:none;\">\n",
              "        \n",
              "  <svg xmlns=\"http://www.w3.org/2000/svg\" height=\"24px\"viewBox=\"0 0 24 24\"\n",
              "       width=\"24px\">\n",
              "    <path d=\"M0 0h24v24H0V0z\" fill=\"none\"/>\n",
              "    <path d=\"M18.56 5.44l.94 2.06.94-2.06 2.06-.94-2.06-.94-.94-2.06-.94 2.06-2.06.94zm-11 1L8.5 8.5l.94-2.06 2.06-.94-2.06-.94L8.5 2.5l-.94 2.06-2.06.94zm10 10l.94 2.06.94-2.06 2.06-.94-2.06-.94-.94-2.06-.94 2.06-2.06.94z\"/><path d=\"M17.41 7.96l-1.37-1.37c-.4-.4-.92-.59-1.43-.59-.52 0-1.04.2-1.43.59L10.3 9.45l-7.72 7.72c-.78.78-.78 2.05 0 2.83L4 21.41c.39.39.9.59 1.41.59.51 0 1.02-.2 1.41-.59l7.78-7.78 2.81-2.81c.8-.78.8-2.07 0-2.86zM5.41 20L4 18.59l7.72-7.72 1.47 1.35L5.41 20z\"/>\n",
              "  </svg>\n",
              "      </button>\n",
              "      \n",
              "  <style>\n",
              "    .colab-df-container {\n",
              "      display:flex;\n",
              "      flex-wrap:wrap;\n",
              "      gap: 12px;\n",
              "    }\n",
              "\n",
              "    .colab-df-convert {\n",
              "      background-color: #E8F0FE;\n",
              "      border: none;\n",
              "      border-radius: 50%;\n",
              "      cursor: pointer;\n",
              "      display: none;\n",
              "      fill: #1967D2;\n",
              "      height: 32px;\n",
              "      padding: 0 0 0 0;\n",
              "      width: 32px;\n",
              "    }\n",
              "\n",
              "    .colab-df-convert:hover {\n",
              "      background-color: #E2EBFA;\n",
              "      box-shadow: 0px 1px 2px rgba(60, 64, 67, 0.3), 0px 1px 3px 1px rgba(60, 64, 67, 0.15);\n",
              "      fill: #174EA6;\n",
              "    }\n",
              "\n",
              "    [theme=dark] .colab-df-convert {\n",
              "      background-color: #3B4455;\n",
              "      fill: #D2E3FC;\n",
              "    }\n",
              "\n",
              "    [theme=dark] .colab-df-convert:hover {\n",
              "      background-color: #434B5C;\n",
              "      box-shadow: 0px 1px 3px 1px rgba(0, 0, 0, 0.15);\n",
              "      filter: drop-shadow(0px 1px 2px rgba(0, 0, 0, 0.3));\n",
              "      fill: #FFFFFF;\n",
              "    }\n",
              "  </style>\n",
              "\n",
              "      <script>\n",
              "        const buttonEl =\n",
              "          document.querySelector('#df-682aba04-8677-4cad-899e-7ec82e74cec4 button.colab-df-convert');\n",
              "        buttonEl.style.display =\n",
              "          google.colab.kernel.accessAllowed ? 'block' : 'none';\n",
              "\n",
              "        async function convertToInteractive(key) {\n",
              "          const element = document.querySelector('#df-682aba04-8677-4cad-899e-7ec82e74cec4');\n",
              "          const dataTable =\n",
              "            await google.colab.kernel.invokeFunction('convertToInteractive',\n",
              "                                                     [key], {});\n",
              "          if (!dataTable) return;\n",
              "\n",
              "          const docLinkHtml = 'Like what you see? Visit the ' +\n",
              "            '<a target=\"_blank\" href=https://colab.research.google.com/notebooks/data_table.ipynb>data table notebook</a>'\n",
              "            + ' to learn more about interactive tables.';\n",
              "          element.innerHTML = '';\n",
              "          dataTable['output_type'] = 'display_data';\n",
              "          await google.colab.output.renderOutput(dataTable, element);\n",
              "          const docLink = document.createElement('div');\n",
              "          docLink.innerHTML = docLinkHtml;\n",
              "          element.appendChild(docLink);\n",
              "        }\n",
              "      </script>\n",
              "    </div>\n",
              "  </div>\n",
              "  "
            ]
          },
          "metadata": {},
          "execution_count": 90
        }
      ]
    },
    {
      "cell_type": "markdown",
      "source": [
        "# OVERFIT: ficou **perfeito** para o treino mas **ruim** para o teste"
      ],
      "metadata": {
        "id": "7vM__pgSwhQq"
      }
    },
    {
      "cell_type": "code",
      "source": [
        "import seaborn as sns\n",
        "import matplotlib.pyplot as plt\n",
        "\n",
        "plt.figure(figsize = (15, 7))\n",
        "sns.lineplot(data = resultados, x = 'max_depth', y = 'treino')\n",
        "sns.lineplot(data = resultados, x = 'max_depth', y = 'teste')\n",
        "\n",
        "plt.legend(['treino', 'teste'], fontsize = 15)"
      ],
      "metadata": {
        "colab": {
          "base_uri": "https://localhost:8080/",
          "height": 465
        },
        "id": "itKJ_7eVuxZu",
        "outputId": "6041db58-acd7-4b9b-c337-d0e6d1c87ca9"
      },
      "execution_count": 91,
      "outputs": [
        {
          "output_type": "execute_result",
          "data": {
            "text/plain": [
              "<matplotlib.legend.Legend at 0x7f2f766e67d0>"
            ]
          },
          "metadata": {},
          "execution_count": 91
        },
        {
          "output_type": "display_data",
          "data": {
            "text/plain": [
              "<Figure size 1080x504 with 1 Axes>"
            ],
            "image/png": "[encoded data removed]"
          },
          "metadata": {}
        }
      ]
    },
    {
      "cell_type": "markdown",
      "source": [
        "## Explorando hiper parametros em 2 dimensões"
      ],
      "metadata": {
        "id": "A6wb_c1Cy9xq"
      }
    },
    {
      "cell_type": "code",
      "source": [
        "def roda_arvore_de_decisao(max_depth, min_samples_leaf):\n",
        "\n",
        "  SEED = 301\n",
        "  np.random.seed(SEED)\n",
        "\n",
        "  cv = GroupKFold(n_splits = 10)\n",
        "  modelo = DecisionTreeClassifier(max_depth = max_depth, min_samples_leaf=min_samples_leaf) # tamanho da decisao\n",
        "\n",
        "  results = cross_validate(modelo, x_azar, y_azar, cv = cv, groups = dados.modelo, return_train_score=True) # Agrupa por modelo\n",
        "\n",
        "  train_score = results['train_score'].mean() * 100\n",
        "  test_score = results['test_score'].mean() * 100\n",
        "\n",
        "# pegou a media dos resultados de cada arvore de decisão\n",
        "  print('max_depth = %d, min_samples_leaf = %d, treino = %.2f teste = %.2f' % (max_depth, min_samples_leaf, train_score, test_score))\n",
        "\n",
        "  tabela = [max_depth, min_samples_leaf, train_score, test_score]\n",
        "\n",
        "  return tabela\n",
        "\n",
        "def busca():\n",
        "  resultados = []\n",
        "  for max_depth in range(1, 33):\n",
        "      for min_samples_leaf in [128, 192, 256, 512]:\n",
        "\n",
        "        tabela = roda_arvore_de_decisao(max_depth, min_samples_leaf)\n",
        "        resultados.append(tabela)\n",
        "\n",
        "  # transformando em data frame\n",
        "  resultados = pd.DataFrame(resultados, columns = ['max_depth', 'min_samples_leaf', 'treino', 'teste'])\n",
        "  return resultados\n",
        "\n",
        "resultados = busca()\n",
        "resultados.head()"
      ],
      "metadata": {
        "colab": {
          "base_uri": "https://localhost:8080/",
          "height": 1000
        },
        "id": "yjVh0fpTysA2",
        "outputId": "284a0a4f-d3b5-44f1-f1e2-b6633285d36b"
      },
      "execution_count": 92,
      "outputs": [
        {
          "output_type": "stream",
          "name": "stdout",
          "text": [
            "max_depth = 1, min_samples_leaf = 128, treino = 75.79 teste = 75.78\n",
            "max_depth = 1, min_samples_leaf = 192, treino = 75.79 teste = 75.78\n",
            "max_depth = 1, min_samples_leaf = 256, treino = 75.79 teste = 75.78\n",
            "max_depth = 1, min_samples_leaf = 512, treino = 75.79 teste = 75.78\n",
            "max_depth = 2, min_samples_leaf = 128, treino = 75.79 teste = 75.78\n",
            "max_depth = 2, min_samples_leaf = 192, treino = 75.79 teste = 75.78\n",
            "max_depth = 2, min_samples_leaf = 256, treino = 75.79 teste = 75.78\n",
            "max_depth = 2, min_samples_leaf = 512, treino = 75.79 teste = 75.78\n",
            "max_depth = 3, min_samples_leaf = 128, treino = 78.75 teste = 78.67\n",
            "max_depth = 3, min_samples_leaf = 192, treino = 78.75 teste = 78.67\n",
            "max_depth = 3, min_samples_leaf = 256, treino = 78.75 teste = 78.67\n",
            "max_depth = 3, min_samples_leaf = 512, treino = 77.53 teste = 77.50\n",
            "max_depth = 4, min_samples_leaf = 128, treino = 78.75 teste = 78.67\n",
            "max_depth = 4, min_samples_leaf = 192, treino = 78.75 teste = 78.67\n",
            "max_depth = 4, min_samples_leaf = 256, treino = 78.75 teste = 78.67\n",
            "max_depth = 4, min_samples_leaf = 512, treino = 77.53 teste = 77.50\n",
            "max_depth = 5, min_samples_leaf = 128, treino = 78.77 teste = 78.44\n",
            "max_depth = 5, min_samples_leaf = 192, treino = 78.77 teste = 78.44\n",
            "max_depth = 5, min_samples_leaf = 256, treino = 78.77 teste = 78.44\n",
            "max_depth = 5, min_samples_leaf = 512, treino = 77.53 teste = 77.50\n",
            "max_depth = 6, min_samples_leaf = 128, treino = 78.85 teste = 78.27\n",
            "max_depth = 6, min_samples_leaf = 192, treino = 78.79 teste = 78.31\n",
            "max_depth = 6, min_samples_leaf = 256, treino = 78.79 teste = 78.27\n",
            "max_depth = 6, min_samples_leaf = 512, treino = 77.53 teste = 77.50\n",
            "max_depth = 7, min_samples_leaf = 128, treino = 79.01 teste = 78.21\n",
            "max_depth = 7, min_samples_leaf = 192, treino = 78.92 teste = 78.10\n",
            "max_depth = 7, min_samples_leaf = 256, treino = 78.85 teste = 78.08\n",
            "max_depth = 7, min_samples_leaf = 512, treino = 77.53 teste = 77.50\n",
            "max_depth = 8, min_samples_leaf = 128, treino = 79.05 teste = 78.37\n",
            "max_depth = 8, min_samples_leaf = 192, treino = 78.98 teste = 78.20\n",
            "max_depth = 8, min_samples_leaf = 256, treino = 78.89 teste = 77.94\n",
            "max_depth = 8, min_samples_leaf = 512, treino = 77.53 teste = 77.50\n",
            "max_depth = 9, min_samples_leaf = 128, treino = 79.12 teste = 78.30\n",
            "max_depth = 9, min_samples_leaf = 192, treino = 78.99 teste = 78.11\n",
            "max_depth = 9, min_samples_leaf = 256, treino = 78.90 teste = 77.85\n",
            "max_depth = 9, min_samples_leaf = 512, treino = 77.53 teste = 77.50\n",
            "max_depth = 10, min_samples_leaf = 128, treino = 79.16 teste = 78.29\n",
            "max_depth = 10, min_samples_leaf = 192, treino = 79.01 teste = 78.05\n",
            "max_depth = 10, min_samples_leaf = 256, treino = 78.90 teste = 77.85\n",
            "max_depth = 10, min_samples_leaf = 512, treino = 77.53 teste = 77.50\n",
            "max_depth = 11, min_samples_leaf = 128, treino = 79.19 teste = 78.31\n",
            "max_depth = 11, min_samples_leaf = 192, treino = 79.01 teste = 78.05\n",
            "max_depth = 11, min_samples_leaf = 256, treino = 78.90 teste = 77.85\n",
            "max_depth = 11, min_samples_leaf = 512, treino = 77.53 teste = 77.50\n",
            "max_depth = 12, min_samples_leaf = 128, treino = 79.21 teste = 78.22\n",
            "max_depth = 12, min_samples_leaf = 192, treino = 79.01 teste = 78.05\n",
            "max_depth = 12, min_samples_leaf = 256, treino = 78.90 teste = 77.85\n",
            "max_depth = 12, min_samples_leaf = 512, treino = 77.53 teste = 77.50\n",
            "max_depth = 13, min_samples_leaf = 128, treino = 79.21 teste = 78.22\n",
            "max_depth = 13, min_samples_leaf = 192, treino = 79.01 teste = 78.05\n",
            "max_depth = 13, min_samples_leaf = 256, treino = 78.90 teste = 77.85\n",
            "max_depth = 13, min_samples_leaf = 512, treino = 77.53 teste = 77.50\n",
            "max_depth = 14, min_samples_leaf = 128, treino = 79.21 teste = 78.22\n",
            "max_depth = 14, min_samples_leaf = 192, treino = 79.01 teste = 78.05\n",
            "max_depth = 14, min_samples_leaf = 256, treino = 78.90 teste = 77.85\n",
            "max_depth = 14, min_samples_leaf = 512, treino = 77.53 teste = 77.50\n",
            "max_depth = 15, min_samples_leaf = 128, treino = 79.21 teste = 78.22\n",
            "max_depth = 15, min_samples_leaf = 192, treino = 79.01 teste = 78.05\n",
            "max_depth = 15, min_samples_leaf = 256, treino = 78.90 teste = 77.85\n",
            "max_depth = 15, min_samples_leaf = 512, treino = 77.53 teste = 77.50\n",
            "max_depth = 16, min_samples_leaf = 128, treino = 79.21 teste = 78.22\n",
            "max_depth = 16, min_samples_leaf = 192, treino = 79.01 teste = 78.05\n",
            "max_depth = 16, min_samples_leaf = 256, treino = 78.90 teste = 77.85\n",
            "max_depth = 16, min_samples_leaf = 512, treino = 77.53 teste = 77.50\n",
            "max_depth = 17, min_samples_leaf = 128, treino = 79.21 teste = 78.22\n",
            "max_depth = 17, min_samples_leaf = 192, treino = 79.01 teste = 78.05\n",
            "max_depth = 17, min_samples_leaf = 256, treino = 78.90 teste = 77.85\n",
            "max_depth = 17, min_samples_leaf = 512, treino = 77.53 teste = 77.50\n",
            "max_depth = 18, min_samples_leaf = 128, treino = 79.21 teste = 78.22\n",
            "max_depth = 18, min_samples_leaf = 192, treino = 79.01 teste = 78.05\n",
            "max_depth = 18, min_samples_leaf = 256, treino = 78.90 teste = 77.85\n",
            "max_depth = 18, min_samples_leaf = 512, treino = 77.53 teste = 77.50\n",
            "max_depth = 19, min_samples_leaf = 128, treino = 79.21 teste = 78.22\n",
            "max_depth = 19, min_samples_leaf = 192, treino = 79.01 teste = 78.05\n",
            "max_depth = 19, min_samples_leaf = 256, treino = 78.90 teste = 77.85\n",
            "max_depth = 19, min_samples_leaf = 512, treino = 77.53 teste = 77.50\n",
            "max_depth = 20, min_samples_leaf = 128, treino = 79.21 teste = 78.22\n",
            "max_depth = 20, min_samples_leaf = 192, treino = 79.01 teste = 78.05\n",
            "max_depth = 20, min_samples_leaf = 256, treino = 78.90 teste = 77.85\n",
            "max_depth = 20, min_samples_leaf = 512, treino = 77.53 teste = 77.50\n",
            "max_depth = 21, min_samples_leaf = 128, treino = 79.21 teste = 78.22\n",
            "max_depth = 21, min_samples_leaf = 192, treino = 79.01 teste = 78.05\n",
            "max_depth = 21, min_samples_leaf = 256, treino = 78.90 teste = 77.85\n",
            "max_depth = 21, min_samples_leaf = 512, treino = 77.53 teste = 77.50\n",
            "max_depth = 22, min_samples_leaf = 128, treino = 79.21 teste = 78.22\n",
            "max_depth = 22, min_samples_leaf = 192, treino = 79.01 teste = 78.05\n",
            "max_depth = 22, min_samples_leaf = 256, treino = 78.90 teste = 77.85\n",
            "max_depth = 22, min_samples_leaf = 512, treino = 77.53 teste = 77.50\n",
            "max_depth = 23, min_samples_leaf = 128, treino = 79.21 teste = 78.22\n",
            "max_depth = 23, min_samples_leaf = 192, treino = 79.01 teste = 78.05\n",
            "max_depth = 23, min_samples_leaf = 256, treino = 78.90 teste = 77.85\n",
            "max_depth = 23, min_samples_leaf = 512, treino = 77.53 teste = 77.50\n",
            "max_depth = 24, min_samples_leaf = 128, treino = 79.21 teste = 78.22\n",
            "max_depth = 24, min_samples_leaf = 192, treino = 79.01 teste = 78.05\n",
            "max_depth = 24, min_samples_leaf = 256, treino = 78.90 teste = 77.85\n",
            "max_depth = 24, min_samples_leaf = 512, treino = 77.53 teste = 77.50\n",
            "max_depth = 25, min_samples_leaf = 128, treino = 79.21 teste = 78.22\n",
            "max_depth = 25, min_samples_leaf = 192, treino = 79.01 teste = 78.05\n",
            "max_depth = 25, min_samples_leaf = 256, treino = 78.90 teste = 77.85\n",
            "max_depth = 25, min_samples_leaf = 512, treino = 77.53 teste = 77.50\n",
            "max_depth = 26, min_samples_leaf = 128, treino = 79.21 teste = 78.22\n",
            "max_depth = 26, min_samples_leaf = 192, treino = 79.01 teste = 78.05\n",
            "max_depth = 26, min_samples_leaf = 256, treino = 78.90 teste = 77.85\n",
            "max_depth = 26, min_samples_leaf = 512, treino = 77.53 teste = 77.50\n",
            "max_depth = 27, min_samples_leaf = 128, treino = 79.21 teste = 78.22\n",
            "max_depth = 27, min_samples_leaf = 192, treino = 79.01 teste = 78.05\n",
            "max_depth = 27, min_samples_leaf = 256, treino = 78.90 teste = 77.85\n",
            "max_depth = 27, min_samples_leaf = 512, treino = 77.53 teste = 77.50\n",
            "max_depth = 28, min_samples_leaf = 128, treino = 79.21 teste = 78.22\n",
            "max_depth = 28, min_samples_leaf = 192, treino = 79.01 teste = 78.05\n",
            "max_depth = 28, min_samples_leaf = 256, treino = 78.90 teste = 77.85\n",
            "max_depth = 28, min_samples_leaf = 512, treino = 77.53 teste = 77.50\n",
            "max_depth = 29, min_samples_leaf = 128, treino = 79.21 teste = 78.22\n",
            "max_depth = 29, min_samples_leaf = 192, treino = 79.01 teste = 78.05\n",
            "max_depth = 29, min_samples_leaf = 256, treino = 78.90 teste = 77.85\n",
            "max_depth = 29, min_samples_leaf = 512, treino = 77.53 teste = 77.50\n",
            "max_depth = 30, min_samples_leaf = 128, treino = 79.21 teste = 78.22\n",
            "max_depth = 30, min_samples_leaf = 192, treino = 79.01 teste = 78.05\n",
            "max_depth = 30, min_samples_leaf = 256, treino = 78.90 teste = 77.85\n",
            "max_depth = 30, min_samples_leaf = 512, treino = 77.53 teste = 77.50\n",
            "max_depth = 31, min_samples_leaf = 128, treino = 79.21 teste = 78.22\n",
            "max_depth = 31, min_samples_leaf = 192, treino = 79.01 teste = 78.05\n",
            "max_depth = 31, min_samples_leaf = 256, treino = 78.90 teste = 77.85\n",
            "max_depth = 31, min_samples_leaf = 512, treino = 77.53 teste = 77.50\n",
            "max_depth = 32, min_samples_leaf = 128, treino = 79.21 teste = 78.22\n",
            "max_depth = 32, min_samples_leaf = 192, treino = 79.01 teste = 78.05\n",
            "max_depth = 32, min_samples_leaf = 256, treino = 78.90 teste = 77.85\n",
            "max_depth = 32, min_samples_leaf = 512, treino = 77.53 teste = 77.50\n"
          ]
        },
        {
          "output_type": "execute_result",
          "data": {
            "text/plain": [
              "   max_depth  min_samples_leaf     treino      teste\n",
              "0          1               128  75.791169  75.784219\n",
              "1          1               192  75.791169  75.784219\n",
              "2          1               256  75.791169  75.784219\n",
              "3          1               512  75.791169  75.784219\n",
              "4          2               128  75.791169  75.784219"
            ],
            "text/html": [
              "\n",
              "  <div id=\"df-49d1e89e-efc8-4ade-abc3-eb5a2cdc99d2\">\n",
              "    <div class=\"colab-df-container\">\n",
              "      <div>\n",
              "<style scoped>\n",
              "    .dataframe tbody tr th:only-of-type {\n",
              "        vertical-align: middle;\n",
              "    }\n",
              "\n",
              "    .dataframe tbody tr th {\n",
              "        vertical-align: top;\n",
              "    }\n",
              "\n",
              "    .dataframe thead th {\n",
              "        text-align: right;\n",
              "    }\n",
              "</style>\n",
              "<table border=\"1\" class=\"dataframe\">\n",
              "  <thead>\n",
              "    <tr style=\"text-align: right;\">\n",
              "      <th></th>\n",
              "      <th>max_depth</th>\n",
              "      <th>min_samples_leaf</th>\n",
              "      <th>treino</th>\n",
              "      <th>teste</th>\n",
              "    </tr>\n",
              "  </thead>\n",
              "  <tbody>\n",
              "    <tr>\n",
              "      <th>0</th>\n",
              "      <td>1</td>\n",
              "      <td>128</td>\n",
              "      <td>75.791169</td>\n",
              "      <td>75.784219</td>\n",
              "    </tr>\n",
              "    <tr>\n",
              "      <th>1</th>\n",
              "      <td>1</td>\n",
              "      <td>192</td>\n",
              "      <td>75.791169</td>\n",
              "      <td>75.784219</td>\n",
              "    </tr>\n",
              "    <tr>\n",
              "      <th>2</th>\n",
              "      <td>1</td>\n",
              "      <td>256</td>\n",
              "      <td>75.791169</td>\n",
              "      <td>75.784219</td>\n",
              "    </tr>\n",
              "    <tr>\n",
              "      <th>3</th>\n",
              "      <td>1</td>\n",
              "      <td>512</td>\n",
              "      <td>75.791169</td>\n",
              "      <td>75.784219</td>\n",
              "    </tr>\n",
              "    <tr>\n",
              "      <th>4</th>\n",
              "      <td>2</td>\n",
              "      <td>128</td>\n",
              "      <td>75.791169</td>\n",
              "      <td>75.784219</td>\n",
              "    </tr>\n",
              "  </tbody>\n",
              "</table>\n",
              "</div>\n",
              "      <button class=\"colab-df-convert\" onclick=\"convertToInteractive('df-49d1e89e-efc8-4ade-abc3-eb5a2cdc99d2')\"\n",
              "              title=\"Convert this dataframe to an interactive table.\"\n",
              "              style=\"display:none;\">\n",
              "        \n",
              "  <svg xmlns=\"http://www.w3.org/2000/svg\" height=\"24px\"viewBox=\"0 0 24 24\"\n",
              "       width=\"24px\">\n",
              "    <path d=\"M0 0h24v24H0V0z\" fill=\"none\"/>\n",
              "    <path d=\"M18.56 5.44l.94 2.06.94-2.06 2.06-.94-2.06-.94-.94-2.06-.94 2.06-2.06.94zm-11 1L8.5 8.5l.94-2.06 2.06-.94-2.06-.94L8.5 2.5l-.94 2.06-2.06.94zm10 10l.94 2.06.94-2.06 2.06-.94-2.06-.94-.94-2.06-.94 2.06-2.06.94z\"/><path d=\"M17.41 7.96l-1.37-1.37c-.4-.4-.92-.59-1.43-.59-.52 0-1.04.2-1.43.59L10.3 9.45l-7.72 7.72c-.78.78-.78 2.05 0 2.83L4 21.41c.39.39.9.59 1.41.59.51 0 1.02-.2 1.41-.59l7.78-7.78 2.81-2.81c.8-.78.8-2.07 0-2.86zM5.41 20L4 18.59l7.72-7.72 1.47 1.35L5.41 20z\"/>\n",
              "  </svg>\n",
              "      </button>\n",
              "      \n",
              "  <style>\n",
              "    .colab-df-container {\n",
              "      display:flex;\n",
              "      flex-wrap:wrap;\n",
              "      gap: 12px;\n",
              "    }\n",
              "\n",
              "    .colab-df-convert {\n",
              "      background-color: #E8F0FE;\n",
              "      border: none;\n",
              "      border-radius: 50%;\n",
              "      cursor: pointer;\n",
              "      display: none;\n",
              "      fill: #1967D2;\n",
              "      height: 32px;\n",
              "      padding: 0 0 0 0;\n",
              "      width: 32px;\n",
              "    }\n",
              "\n",
              "    .colab-df-convert:hover {\n",
              "      background-color: #E2EBFA;\n",
              "      box-shadow: 0px 1px 2px rgba(60, 64, 67, 0.3), 0px 1px 3px 1px rgba(60, 64, 67, 0.15);\n",
              "      fill: #174EA6;\n",
              "    }\n",
              "\n",
              "    [theme=dark] .colab-df-convert {\n",
              "      background-color: #3B4455;\n",
              "      fill: #D2E3FC;\n",
              "    }\n",
              "\n",
              "    [theme=dark] .colab-df-convert:hover {\n",
              "      background-color: #434B5C;\n",
              "      box-shadow: 0px 1px 3px 1px rgba(0, 0, 0, 0.15);\n",
              "      filter: drop-shadow(0px 1px 2px rgba(0, 0, 0, 0.3));\n",
              "      fill: #FFFFFF;\n",
              "    }\n",
              "  </style>\n",
              "\n",
              "      <script>\n",
              "        const buttonEl =\n",
              "          document.querySelector('#df-49d1e89e-efc8-4ade-abc3-eb5a2cdc99d2 button.colab-df-convert');\n",
              "        buttonEl.style.display =\n",
              "          google.colab.kernel.accessAllowed ? 'block' : 'none';\n",
              "\n",
              "        async function convertToInteractive(key) {\n",
              "          const element = document.querySelector('#df-49d1e89e-efc8-4ade-abc3-eb5a2cdc99d2');\n",
              "          const dataTable =\n",
              "            await google.colab.kernel.invokeFunction('convertToInteractive',\n",
              "                                                     [key], {});\n",
              "          if (!dataTable) return;\n",
              "\n",
              "          const docLinkHtml = 'Like what you see? Visit the ' +\n",
              "            '<a target=\"_blank\" href=https://colab.research.google.com/notebooks/data_table.ipynb>data table notebook</a>'\n",
              "            + ' to learn more about interactive tables.';\n",
              "          element.innerHTML = '';\n",
              "          dataTable['output_type'] = 'display_data';\n",
              "          await google.colab.output.renderOutput(dataTable, element);\n",
              "          const docLink = document.createElement('div');\n",
              "          docLink.innerHTML = docLinkHtml;\n",
              "          element.appendChild(docLink);\n",
              "        }\n",
              "      </script>\n",
              "    </div>\n",
              "  </div>\n",
              "  "
            ]
          },
          "metadata": {},
          "execution_count": 92
        }
      ]
    },
    {
      "cell_type": "markdown",
      "source": [
        "## Os melhores resultados "
      ],
      "metadata": {
        "id": "zNnKf1He3Bhj"
      }
    },
    {
      "cell_type": "code",
      "source": [
        "resultados.sort_values('teste', ascending=False).head()"
      ],
      "metadata": {
        "colab": {
          "base_uri": "https://localhost:8080/",
          "height": 206
        },
        "id": "7dwq7fBDyr7a",
        "outputId": "8852f4df-4fa2-4327-df4a-fd3439d75a24"
      },
      "execution_count": 93,
      "outputs": [
        {
          "output_type": "execute_result",
          "data": {
            "text/plain": [
              "    max_depth  min_samples_leaf     treino      teste\n",
              "13          4               192  78.750993  78.672633\n",
              "8           3               128  78.750993  78.672633\n",
              "9           3               192  78.750993  78.672633\n",
              "10          3               256  78.750993  78.672633\n",
              "14          4               256  78.750993  78.672633"
            ],
            "text/html": [
              "\n",
              "  <div id=\"df-6d44113b-7ccc-42c7-96bb-f9f1fe603690\">\n",
              "    <div class=\"colab-df-container\">\n",
              "      <div>\n",
              "<style scoped>\n",
              "    .dataframe tbody tr th:only-of-type {\n",
              "        vertical-align: middle;\n",
              "    }\n",
              "\n",
              "    .dataframe tbody tr th {\n",
              "        vertical-align: top;\n",
              "    }\n",
              "\n",
              "    .dataframe thead th {\n",
              "        text-align: right;\n",
              "    }\n",
              "</style>\n",
              "<table border=\"1\" class=\"dataframe\">\n",
              "  <thead>\n",
              "    <tr style=\"text-align: right;\">\n",
              "      <th></th>\n",
              "      <th>max_depth</th>\n",
              "      <th>min_samples_leaf</th>\n",
              "      <th>treino</th>\n",
              "      <th>teste</th>\n",
              "    </tr>\n",
              "  </thead>\n",
              "  <tbody>\n",
              "    <tr>\n",
              "      <th>13</th>\n",
              "      <td>4</td>\n",
              "      <td>192</td>\n",
              "      <td>78.750993</td>\n",
              "      <td>78.672633</td>\n",
              "    </tr>\n",
              "    <tr>\n",
              "      <th>8</th>\n",
              "      <td>3</td>\n",
              "      <td>128</td>\n",
              "      <td>78.750993</td>\n",
              "      <td>78.672633</td>\n",
              "    </tr>\n",
              "    <tr>\n",
              "      <th>9</th>\n",
              "      <td>3</td>\n",
              "      <td>192</td>\n",
              "      <td>78.750993</td>\n",
              "      <td>78.672633</td>\n",
              "    </tr>\n",
              "    <tr>\n",
              "      <th>10</th>\n",
              "      <td>3</td>\n",
              "      <td>256</td>\n",
              "      <td>78.750993</td>\n",
              "      <td>78.672633</td>\n",
              "    </tr>\n",
              "    <tr>\n",
              "      <th>14</th>\n",
              "      <td>4</td>\n",
              "      <td>256</td>\n",
              "      <td>78.750993</td>\n",
              "      <td>78.672633</td>\n",
              "    </tr>\n",
              "  </tbody>\n",
              "</table>\n",
              "</div>\n",
              "      <button class=\"colab-df-convert\" onclick=\"convertToInteractive('df-6d44113b-7ccc-42c7-96bb-f9f1fe603690')\"\n",
              "              title=\"Convert this dataframe to an interactive table.\"\n",
              "              style=\"display:none;\">\n",
              "        \n",
              "  <svg xmlns=\"http://www.w3.org/2000/svg\" height=\"24px\"viewBox=\"0 0 24 24\"\n",
              "       width=\"24px\">\n",
              "    <path d=\"M0 0h24v24H0V0z\" fill=\"none\"/>\n",
              "    <path d=\"M18.56 5.44l.94 2.06.94-2.06 2.06-.94-2.06-.94-.94-2.06-.94 2.06-2.06.94zm-11 1L8.5 8.5l.94-2.06 2.06-.94-2.06-.94L8.5 2.5l-.94 2.06-2.06.94zm10 10l.94 2.06.94-2.06 2.06-.94-2.06-.94-.94-2.06-.94 2.06-2.06.94z\"/><path d=\"M17.41 7.96l-1.37-1.37c-.4-.4-.92-.59-1.43-.59-.52 0-1.04.2-1.43.59L10.3 9.45l-7.72 7.72c-.78.78-.78 2.05 0 2.83L4 21.41c.39.39.9.59 1.41.59.51 0 1.02-.2 1.41-.59l7.78-7.78 2.81-2.81c.8-.78.8-2.07 0-2.86zM5.41 20L4 18.59l7.72-7.72 1.47 1.35L5.41 20z\"/>\n",
              "  </svg>\n",
              "      </button>\n",
              "      \n",
              "  <style>\n",
              "    .colab-df-container {\n",
              "      display:flex;\n",
              "      flex-wrap:wrap;\n",
              "      gap: 12px;\n",
              "    }\n",
              "\n",
              "    .colab-df-convert {\n",
              "      background-color: #E8F0FE;\n",
              "      border: none;\n",
              "      border-radius: 50%;\n",
              "      cursor: pointer;\n",
              "      display: none;\n",
              "      fill: #1967D2;\n",
              "      height: 32px;\n",
              "      padding: 0 0 0 0;\n",
              "      width: 32px;\n",
              "    }\n",
              "\n",
              "    .colab-df-convert:hover {\n",
              "      background-color: #E2EBFA;\n",
              "      box-shadow: 0px 1px 2px rgba(60, 64, 67, 0.3), 0px 1px 3px 1px rgba(60, 64, 67, 0.15);\n",
              "      fill: #174EA6;\n",
              "    }\n",
              "\n",
              "    [theme=dark] .colab-df-convert {\n",
              "      background-color: #3B4455;\n",
              "      fill: #D2E3FC;\n",
              "    }\n",
              "\n",
              "    [theme=dark] .colab-df-convert:hover {\n",
              "      background-color: #434B5C;\n",
              "      box-shadow: 0px 1px 3px 1px rgba(0, 0, 0, 0.15);\n",
              "      filter: drop-shadow(0px 1px 2px rgba(0, 0, 0, 0.3));\n",
              "      fill: #FFFFFF;\n",
              "    }\n",
              "  </style>\n",
              "\n",
              "      <script>\n",
              "        const buttonEl =\n",
              "          document.querySelector('#df-6d44113b-7ccc-42c7-96bb-f9f1fe603690 button.colab-df-convert');\n",
              "        buttonEl.style.display =\n",
              "          google.colab.kernel.accessAllowed ? 'block' : 'none';\n",
              "\n",
              "        async function convertToInteractive(key) {\n",
              "          const element = document.querySelector('#df-6d44113b-7ccc-42c7-96bb-f9f1fe603690');\n",
              "          const dataTable =\n",
              "            await google.colab.kernel.invokeFunction('convertToInteractive',\n",
              "                                                     [key], {});\n",
              "          if (!dataTable) return;\n",
              "\n",
              "          const docLinkHtml = 'Like what you see? Visit the ' +\n",
              "            '<a target=\"_blank\" href=https://colab.research.google.com/notebooks/data_table.ipynb>data table notebook</a>'\n",
              "            + ' to learn more about interactive tables.';\n",
              "          element.innerHTML = '';\n",
              "          dataTable['output_type'] = 'display_data';\n",
              "          await google.colab.output.renderOutput(dataTable, element);\n",
              "          const docLink = document.createElement('div');\n",
              "          docLink.innerHTML = docLinkHtml;\n",
              "          element.appendChild(docLink);\n",
              "        }\n",
              "      </script>\n",
              "    </div>\n",
              "  </div>\n",
              "  "
            ]
          },
          "metadata": {},
          "execution_count": 93
        }
      ]
    },
    {
      "cell_type": "code",
      "source": [
        "corr = resultados.corr()\n",
        "corr"
      ],
      "metadata": {
        "id": "8sqpTRxEyr3N",
        "colab": {
          "base_uri": "https://localhost:8080/",
          "height": 175
        },
        "outputId": "ac99922d-200a-4beb-fc46-2888b3a9f6f0"
      },
      "execution_count": 94,
      "outputs": [
        {
          "output_type": "execute_result",
          "data": {
            "text/plain": [
              "                     max_depth  min_samples_leaf    treino     teste\n",
              "max_depth         1.000000e+00      6.863211e-17  0.354588  0.240852\n",
              "min_samples_leaf  6.863211e-17      1.000000e+00 -0.637649 -0.440661\n",
              "treino            3.545878e-01     -6.376494e-01  1.000000  0.909222\n",
              "teste             2.408525e-01     -4.406611e-01  0.909222  1.000000"
            ],
            "text/html": [
              "\n",
              "  <div id=\"df-844393c9-fbe1-42c9-8638-713d0658cf02\">\n",
              "    <div class=\"colab-df-container\">\n",
              "      <div>\n",
              "<style scoped>\n",
              "    .dataframe tbody tr th:only-of-type {\n",
              "        vertical-align: middle;\n",
              "    }\n",
              "\n",
              "    .dataframe tbody tr th {\n",
              "        vertical-align: top;\n",
              "    }\n",
              "\n",
              "    .dataframe thead th {\n",
              "        text-align: right;\n",
              "    }\n",
              "</style>\n",
              "<table border=\"1\" class=\"dataframe\">\n",
              "  <thead>\n",
              "    <tr style=\"text-align: right;\">\n",
              "      <th></th>\n",
              "      <th>max_depth</th>\n",
              "      <th>min_samples_leaf</th>\n",
              "      <th>treino</th>\n",
              "      <th>teste</th>\n",
              "    </tr>\n",
              "  </thead>\n",
              "  <tbody>\n",
              "    <tr>\n",
              "      <th>max_depth</th>\n",
              "      <td>1.000000e+00</td>\n",
              "      <td>6.863211e-17</td>\n",
              "      <td>0.354588</td>\n",
              "      <td>0.240852</td>\n",
              "    </tr>\n",
              "    <tr>\n",
              "      <th>min_samples_leaf</th>\n",
              "      <td>6.863211e-17</td>\n",
              "      <td>1.000000e+00</td>\n",
              "      <td>-0.637649</td>\n",
              "      <td>-0.440661</td>\n",
              "    </tr>\n",
              "    <tr>\n",
              "      <th>treino</th>\n",
              "      <td>3.545878e-01</td>\n",
              "      <td>-6.376494e-01</td>\n",
              "      <td>1.000000</td>\n",
              "      <td>0.909222</td>\n",
              "    </tr>\n",
              "    <tr>\n",
              "      <th>teste</th>\n",
              "      <td>2.408525e-01</td>\n",
              "      <td>-4.406611e-01</td>\n",
              "      <td>0.909222</td>\n",
              "      <td>1.000000</td>\n",
              "    </tr>\n",
              "  </tbody>\n",
              "</table>\n",
              "</div>\n",
              "      <button class=\"colab-df-convert\" onclick=\"convertToInteractive('df-844393c9-fbe1-42c9-8638-713d0658cf02')\"\n",
              "              title=\"Convert this dataframe to an interactive table.\"\n",
              "              style=\"display:none;\">\n",
              "        \n",
              "  <svg xmlns=\"http://www.w3.org/2000/svg\" height=\"24px\"viewBox=\"0 0 24 24\"\n",
              "       width=\"24px\">\n",
              "    <path d=\"M0 0h24v24H0V0z\" fill=\"none\"/>\n",
              "    <path d=\"M18.56 5.44l.94 2.06.94-2.06 2.06-.94-2.06-.94-.94-2.06-.94 2.06-2.06.94zm-11 1L8.5 8.5l.94-2.06 2.06-.94-2.06-.94L8.5 2.5l-.94 2.06-2.06.94zm10 10l.94 2.06.94-2.06 2.06-.94-2.06-.94-.94-2.06-.94 2.06-2.06.94z\"/><path d=\"M17.41 7.96l-1.37-1.37c-.4-.4-.92-.59-1.43-.59-.52 0-1.04.2-1.43.59L10.3 9.45l-7.72 7.72c-.78.78-.78 2.05 0 2.83L4 21.41c.39.39.9.59 1.41.59.51 0 1.02-.2 1.41-.59l7.78-7.78 2.81-2.81c.8-.78.8-2.07 0-2.86zM5.41 20L4 18.59l7.72-7.72 1.47 1.35L5.41 20z\"/>\n",
              "  </svg>\n",
              "      </button>\n",
              "      \n",
              "  <style>\n",
              "    .colab-df-container {\n",
              "      display:flex;\n",
              "      flex-wrap:wrap;\n",
              "      gap: 12px;\n",
              "    }\n",
              "\n",
              "    .colab-df-convert {\n",
              "      background-color: #E8F0FE;\n",
              "      border: none;\n",
              "      border-radius: 50%;\n",
              "      cursor: pointer;\n",
              "      display: none;\n",
              "      fill: #1967D2;\n",
              "      height: 32px;\n",
              "      padding: 0 0 0 0;\n",
              "      width: 32px;\n",
              "    }\n",
              "\n",
              "    .colab-df-convert:hover {\n",
              "      background-color: #E2EBFA;\n",
              "      box-shadow: 0px 1px 2px rgba(60, 64, 67, 0.3), 0px 1px 3px 1px rgba(60, 64, 67, 0.15);\n",
              "      fill: #174EA6;\n",
              "    }\n",
              "\n",
              "    [theme=dark] .colab-df-convert {\n",
              "      background-color: #3B4455;\n",
              "      fill: #D2E3FC;\n",
              "    }\n",
              "\n",
              "    [theme=dark] .colab-df-convert:hover {\n",
              "      background-color: #434B5C;\n",
              "      box-shadow: 0px 1px 3px 1px rgba(0, 0, 0, 0.15);\n",
              "      filter: drop-shadow(0px 1px 2px rgba(0, 0, 0, 0.3));\n",
              "      fill: #FFFFFF;\n",
              "    }\n",
              "  </style>\n",
              "\n",
              "      <script>\n",
              "        const buttonEl =\n",
              "          document.querySelector('#df-844393c9-fbe1-42c9-8638-713d0658cf02 button.colab-df-convert');\n",
              "        buttonEl.style.display =\n",
              "          google.colab.kernel.accessAllowed ? 'block' : 'none';\n",
              "\n",
              "        async function convertToInteractive(key) {\n",
              "          const element = document.querySelector('#df-844393c9-fbe1-42c9-8638-713d0658cf02');\n",
              "          const dataTable =\n",
              "            await google.colab.kernel.invokeFunction('convertToInteractive',\n",
              "                                                     [key], {});\n",
              "          if (!dataTable) return;\n",
              "\n",
              "          const docLinkHtml = 'Like what you see? Visit the ' +\n",
              "            '<a target=\"_blank\" href=https://colab.research.google.com/notebooks/data_table.ipynb>data table notebook</a>'\n",
              "            + ' to learn more about interactive tables.';\n",
              "          element.innerHTML = '';\n",
              "          dataTable['output_type'] = 'display_data';\n",
              "          await google.colab.output.renderOutput(dataTable, element);\n",
              "          const docLink = document.createElement('div');\n",
              "          docLink.innerHTML = docLinkHtml;\n",
              "          element.appendChild(docLink);\n",
              "        }\n",
              "      </script>\n",
              "    </div>\n",
              "  </div>\n",
              "  "
            ]
          },
          "metadata": {},
          "execution_count": 94
        }
      ]
    },
    {
      "cell_type": "code",
      "source": [
        "sns.heatmap(corr)"
      ],
      "metadata": {
        "id": "ktS2O8mQyrtR",
        "colab": {
          "base_uri": "https://localhost:8080/",
          "height": 377
        },
        "outputId": "b1d3086a-5470-49c5-d3ec-7ea5e38198ae"
      },
      "execution_count": 95,
      "outputs": [
        {
          "output_type": "execute_result",
          "data": {
            "text/plain": [
              "<matplotlib.axes._subplots.AxesSubplot at 0x7f2f765dd490>"
            ]
          },
          "metadata": {},
          "execution_count": 95
        },
        {
          "output_type": "display_data",
          "data": {
            "text/plain": [
              "<Figure size 432x288 with 2 Axes>"
            ],
            "image/png": "[encoded data removed]"
          },
          "metadata": {}
        }
      ]
    },
    {
      "cell_type": "code",
      "source": [
        "import pandas as pd\n",
        "ax = pd.plotting.scatter_matrix(resultados, figsize= (14,8), alpha = 0.3)\n",
        "ax = ax"
      ],
      "metadata": {
        "colab": {
          "base_uri": "https://localhost:8080/",
          "height": 507
        },
        "id": "smrdiHjaH3VI",
        "outputId": "ec71ed07-b440-43d5-ef41-2a15ae4ad01a"
      },
      "execution_count": 96,
      "outputs": [
        {
          "output_type": "display_data",
          "data": {
            "text/plain": [
              "<Figure size 1008x576 with 16 Axes>"
            ],
            "image/png": "[encoded data removed]"
          },
          "metadata": {}
        }
      ]
    },
    {
      "cell_type": "code",
      "source": [
        "sns.pairplot(resultados)"
      ],
      "metadata": {
        "colab": {
          "base_uri": "https://localhost:8080/",
          "height": 742
        },
        "id": "-KDsL2ykJqk3",
        "outputId": "019cbb98-5dd5-4581-ef1f-57066ae61097"
      },
      "execution_count": 97,
      "outputs": [
        {
          "output_type": "execute_result",
          "data": {
            "text/plain": [
              "<seaborn.axisgrid.PairGrid at 0x7f2f760a3890>"
            ]
          },
          "metadata": {},
          "execution_count": 97
        },
        {
          "output_type": "display_data",
          "data": {
            "text/plain": [
              "<Figure size 720x720 with 20 Axes>"
            ],
            "image/png": "[encoded data removed]"
          },
          "metadata": {}
        }
      ]
    },
    {
      "cell_type": "code",
      "source": [
        "sns.set_theme(style=\"white\")\n",
        "\n",
        "# Generate a mask for the upper triangle\n",
        "mask = np.triu(np.ones_like(corr, dtype=bool))\n",
        "\n",
        "# Set up the matplotlib figure\n",
        "f, ax = plt.subplots(figsize=(11, 9))\n",
        "\n",
        "# Generate a custom diverging colormap\n",
        "cmap = sns.diverging_palette(230, 20, as_cmap=True)\n",
        "\n",
        "# Draw the heatmap with the mask and correct aspect ratio\n",
        "sns.heatmap(corr, mask=mask, cmap=cmap, vmax=.3, center=0,\n",
        "            square=True, linewidths=.5, cbar_kws={\"shrink\": .5})"
      ],
      "metadata": {
        "colab": {
          "base_uri": "https://localhost:8080/",
          "height": 558
        },
        "id": "w9SJSrszJqgM",
        "outputId": "f1f9b794-ae45-4678-a560-e3a690b06d2f"
      },
      "execution_count": 98,
      "outputs": [
        {
          "output_type": "execute_result",
          "data": {
            "text/plain": [
              "<matplotlib.axes._subplots.AxesSubplot at 0x7f2f7599a650>"
            ]
          },
          "metadata": {},
          "execution_count": 98
        },
        {
          "output_type": "display_data",
          "data": {
            "text/plain": [
              "<Figure size 792x648 with 2 Axes>"
            ],
            "image/png": "[encoded data removed]"
          },
          "metadata": {}
        }
      ]
    },
    {
      "cell_type": "markdown",
      "source": [
        "## Explorando 3 dimensões"
      ],
      "metadata": {
        "id": "LCpq0GAnM5hF"
      }
    },
    {
      "cell_type": "code",
      "source": [
        "def roda_arvore_de_decisao(max_depth, min_samples_leaf, min_samples_split):\n",
        "\n",
        "  SEED = 301\n",
        "  np.random.seed(SEED)\n",
        "\n",
        "  cv = GroupKFold(n_splits = 10)\n",
        "  modelo = DecisionTreeClassifier(max_depth = max_depth, min_samples_leaf=min_samples_leaf, min_samples_split=min_samples_split) # tamanho da decisao\n",
        "\n",
        "  results = cross_validate(modelo, x_azar, y_azar, cv = cv, groups = dados.modelo, return_train_score=True) # Agrupa por modelo\n",
        "  fit_time = results['fit_time'].mean()\n",
        "  score_time = results['score_time'].mean()\n",
        "\n",
        "  train_score = results['train_score'].mean() * 100\n",
        "  test_score = results['test_score'].mean() * 100\n",
        "\n",
        "# pegou a media dos resultados de cada arvore de decisão\n",
        "#  print('max_depth = %d, min_samples_leaf = %d, min_samples_split = %d, treino = %.2f teste = %.2f' % (max_depth, min_samples_leaf, min_samples_split, train_score, test_score))\n",
        "\n",
        "  tabela = [max_depth, min_samples_leaf, min_samples_split, train_score, test_score, fit_time, score_time]\n",
        "\n",
        "  return tabela\n",
        "\n",
        "def busca():\n",
        "  resultados = []\n",
        "  for max_depth in range(1, 33):\n",
        "      for min_samples_leaf in [128, 192, 256, 512]:\n",
        "          for min_samples_split in [32, 64, 128, 256]:\n",
        "\n",
        "             tabela = roda_arvore_de_decisao(max_depth, min_samples_leaf, min_samples_split)\n",
        "             resultados.append(tabela)\n",
        "\n",
        "  # transformando em data frame\n",
        "  resultados = pd.DataFrame(resultados, columns = ['max_depth', 'min_samples_leaf', 'min_samples_split', 'treino', 'teste', 'fit_time', 'score_time'])\n",
        "  return resultados\n",
        "\n",
        "resultados = busca()\n",
        "resultados.head()"
      ],
      "metadata": {
        "colab": {
          "base_uri": "https://localhost:8080/",
          "height": 206
        },
        "id": "cmjPbGb_Jqcr",
        "outputId": "b1dc89d2-eb00-42d1-b9d0-f99e3c8d9865"
      },
      "execution_count": 99,
      "outputs": [
        {
          "output_type": "execute_result",
          "data": {
            "text/plain": [
              "   max_depth  min_samples_leaf  min_samples_split     treino      teste  \\\n",
              "0          1               128                 32  75.791169  75.784219   \n",
              "1          1               128                 64  75.791169  75.784219   \n",
              "2          1               128                128  75.791169  75.784219   \n",
              "3          1               128                256  75.791169  75.784219   \n",
              "4          1               192                 32  75.791169  75.784219   \n",
              "\n",
              "   fit_time  score_time  \n",
              "0  0.005923    0.001783  \n",
              "1  0.005985    0.002053  \n",
              "2  0.005975    0.001776  \n",
              "3  0.005897    0.001748  \n",
              "4  0.005966    0.001736  "
            ],
            "text/html": [
              "\n",
              "  <div id=\"df-3c22e72e-f521-4f0b-8dcc-0a3b99658d6a\">\n",
              "    <div class=\"colab-df-container\">\n",
              "      <div>\n",
              "<style scoped>\n",
              "    .dataframe tbody tr th:only-of-type {\n",
              "        vertical-align: middle;\n",
              "    }\n",
              "\n",
              "    .dataframe tbody tr th {\n",
              "        vertical-align: top;\n",
              "    }\n",
              "\n",
              "    .dataframe thead th {\n",
              "        text-align: right;\n",
              "    }\n",
              "</style>\n",
              "<table border=\"1\" class=\"dataframe\">\n",
              "  <thead>\n",
              "    <tr style=\"text-align: right;\">\n",
              "      <th></th>\n",
              "      <th>max_depth</th>\n",
              "      <th>min_samples_leaf</th>\n",
              "      <th>min_samples_split</th>\n",
              "      <th>treino</th>\n",
              "      <th>teste</th>\n",
              "      <th>fit_time</th>\n",
              "      <th>score_time</th>\n",
              "    </tr>\n",
              "  </thead>\n",
              "  <tbody>\n",
              "    <tr>\n",
              "      <th>0</th>\n",
              "      <td>1</td>\n",
              "      <td>128</td>\n",
              "      <td>32</td>\n",
              "      <td>75.791169</td>\n",
              "      <td>75.784219</td>\n",
              "      <td>0.005923</td>\n",
              "      <td>0.001783</td>\n",
              "    </tr>\n",
              "    <tr>\n",
              "      <th>1</th>\n",
              "      <td>1</td>\n",
              "      <td>128</td>\n",
              "      <td>64</td>\n",
              "      <td>75.791169</td>\n",
              "      <td>75.784219</td>\n",
              "      <td>0.005985</td>\n",
              "      <td>0.002053</td>\n",
              "    </tr>\n",
              "    <tr>\n",
              "      <th>2</th>\n",
              "      <td>1</td>\n",
              "      <td>128</td>\n",
              "      <td>128</td>\n",
              "      <td>75.791169</td>\n",
              "      <td>75.784219</td>\n",
              "      <td>0.005975</td>\n",
              "      <td>0.001776</td>\n",
              "    </tr>\n",
              "    <tr>\n",
              "      <th>3</th>\n",
              "      <td>1</td>\n",
              "      <td>128</td>\n",
              "      <td>256</td>\n",
              "      <td>75.791169</td>\n",
              "      <td>75.784219</td>\n",
              "      <td>0.005897</td>\n",
              "      <td>0.001748</td>\n",
              "    </tr>\n",
              "    <tr>\n",
              "      <th>4</th>\n",
              "      <td>1</td>\n",
              "      <td>192</td>\n",
              "      <td>32</td>\n",
              "      <td>75.791169</td>\n",
              "      <td>75.784219</td>\n",
              "      <td>0.005966</td>\n",
              "      <td>0.001736</td>\n",
              "    </tr>\n",
              "  </tbody>\n",
              "</table>\n",
              "</div>\n",
              "      <button class=\"colab-df-convert\" onclick=\"convertToInteractive('df-3c22e72e-f521-4f0b-8dcc-0a3b99658d6a')\"\n",
              "              title=\"Convert this dataframe to an interactive table.\"\n",
              "              style=\"display:none;\">\n",
              "        \n",
              "  <svg xmlns=\"http://www.w3.org/2000/svg\" height=\"24px\"viewBox=\"0 0 24 24\"\n",
              "       width=\"24px\">\n",
              "    <path d=\"M0 0h24v24H0V0z\" fill=\"none\"/>\n",
              "    <path d=\"M18.56 5.44l.94 2.06.94-2.06 2.06-.94-2.06-.94-.94-2.06-.94 2.06-2.06.94zm-11 1L8.5 8.5l.94-2.06 2.06-.94-2.06-.94L8.5 2.5l-.94 2.06-2.06.94zm10 10l.94 2.06.94-2.06 2.06-.94-2.06-.94-.94-2.06-.94 2.06-2.06.94z\"/><path d=\"M17.41 7.96l-1.37-1.37c-.4-.4-.92-.59-1.43-.59-.52 0-1.04.2-1.43.59L10.3 9.45l-7.72 7.72c-.78.78-.78 2.05 0 2.83L4 21.41c.39.39.9.59 1.41.59.51 0 1.02-.2 1.41-.59l7.78-7.78 2.81-2.81c.8-.78.8-2.07 0-2.86zM5.41 20L4 18.59l7.72-7.72 1.47 1.35L5.41 20z\"/>\n",
              "  </svg>\n",
              "      </button>\n",
              "      \n",
              "  <style>\n",
              "    .colab-df-container {\n",
              "      display:flex;\n",
              "      flex-wrap:wrap;\n",
              "      gap: 12px;\n",
              "    }\n",
              "\n",
              "    .colab-df-convert {\n",
              "      background-color: #E8F0FE;\n",
              "      border: none;\n",
              "      border-radius: 50%;\n",
              "      cursor: pointer;\n",
              "      display: none;\n",
              "      fill: #1967D2;\n",
              "      height: 32px;\n",
              "      padding: 0 0 0 0;\n",
              "      width: 32px;\n",
              "    }\n",
              "\n",
              "    .colab-df-convert:hover {\n",
              "      background-color: #E2EBFA;\n",
              "      box-shadow: 0px 1px 2px rgba(60, 64, 67, 0.3), 0px 1px 3px 1px rgba(60, 64, 67, 0.15);\n",
              "      fill: #174EA6;\n",
              "    }\n",
              "\n",
              "    [theme=dark] .colab-df-convert {\n",
              "      background-color: #3B4455;\n",
              "      fill: #D2E3FC;\n",
              "    }\n",
              "\n",
              "    [theme=dark] .colab-df-convert:hover {\n",
              "      background-color: #434B5C;\n",
              "      box-shadow: 0px 1px 3px 1px rgba(0, 0, 0, 0.15);\n",
              "      filter: drop-shadow(0px 1px 2px rgba(0, 0, 0, 0.3));\n",
              "      fill: #FFFFFF;\n",
              "    }\n",
              "  </style>\n",
              "\n",
              "      <script>\n",
              "        const buttonEl =\n",
              "          document.querySelector('#df-3c22e72e-f521-4f0b-8dcc-0a3b99658d6a button.colab-df-convert');\n",
              "        buttonEl.style.display =\n",
              "          google.colab.kernel.accessAllowed ? 'block' : 'none';\n",
              "\n",
              "        async function convertToInteractive(key) {\n",
              "          const element = document.querySelector('#df-3c22e72e-f521-4f0b-8dcc-0a3b99658d6a');\n",
              "          const dataTable =\n",
              "            await google.colab.kernel.invokeFunction('convertToInteractive',\n",
              "                                                     [key], {});\n",
              "          if (!dataTable) return;\n",
              "\n",
              "          const docLinkHtml = 'Like what you see? Visit the ' +\n",
              "            '<a target=\"_blank\" href=https://colab.research.google.com/notebooks/data_table.ipynb>data table notebook</a>'\n",
              "            + ' to learn more about interactive tables.';\n",
              "          element.innerHTML = '';\n",
              "          dataTable['output_type'] = 'display_data';\n",
              "          await google.colab.output.renderOutput(dataTable, element);\n",
              "          const docLink = document.createElement('div');\n",
              "          docLink.innerHTML = docLinkHtml;\n",
              "          element.appendChild(docLink);\n",
              "        }\n",
              "      </script>\n",
              "    </div>\n",
              "  </div>\n",
              "  "
            ]
          },
          "metadata": {},
          "execution_count": 99
        }
      ]
    },
    {
      "cell_type": "code",
      "source": [
        "corr = resultados.corr()"
      ],
      "metadata": {
        "id": "wClMawalP3gY"
      },
      "execution_count": 100,
      "outputs": []
    },
    {
      "cell_type": "code",
      "source": [
        "sns.set_theme(style=\"white\")\n",
        "\n",
        "# Generate a mask for the upper triangle\n",
        "mask = np.triu(np.ones_like(corr, dtype=bool))\n",
        "\n",
        "# Set up the matplotlib figure\n",
        "f, ax = plt.subplots(figsize=(11, 9))\n",
        "\n",
        "# Generate a custom diverging colormap\n",
        "cmap = sns.diverging_palette(230, 20, as_cmap=True)\n",
        "\n",
        "# Draw the heatmap with the mask and correct aspect ratio\n",
        "sns.heatmap(corr, mask=mask, cmap=cmap, vmax=.3, center=0,\n",
        "            square=True, linewidths=.5, cbar_kws={\"shrink\": .5})"
      ],
      "metadata": {
        "colab": {
          "base_uri": "https://localhost:8080/",
          "height": 648
        },
        "id": "lM9PJLvwOsLv",
        "outputId": "6eaeffa7-f1ba-411a-daee-3e344090ccec"
      },
      "execution_count": 101,
      "outputs": [
        {
          "output_type": "execute_result",
          "data": {
            "text/plain": [
              "<matplotlib.axes._subplots.AxesSubplot at 0x7f2f75943250>"
            ]
          },
          "metadata": {},
          "execution_count": 101
        },
        {
          "output_type": "display_data",
          "data": {
            "text/plain": [
              "<Figure size 792x648 with 2 Axes>"
            ],
            "image/png": "[encoded data removed]"
          },
          "metadata": {}
        }
      ]
    },
    {
      "cell_type": "code",
      "source": [
        "resultados.sort_values('teste', ascending = False).head()"
      ],
      "metadata": {
        "colab": {
          "base_uri": "https://localhost:8080/",
          "height": 206
        },
        "id": "Ysb_itMqQBtO",
        "outputId": "8acc3c44-5bcd-439e-b130-389412264898"
      },
      "execution_count": 102,
      "outputs": [
        {
          "output_type": "execute_result",
          "data": {
            "text/plain": [
              "    max_depth  min_samples_leaf  min_samples_split     treino      teste  \\\n",
              "54          4               192                128  78.750993  78.672633   \n",
              "55          4               192                256  78.750993  78.672633   \n",
              "32          3               128                 32  78.750993  78.672633   \n",
              "33          3               128                 64  78.750993  78.672633   \n",
              "34          3               128                128  78.750993  78.672633   \n",
              "\n",
              "    fit_time  score_time  \n",
              "54  0.012523    0.001985  \n",
              "55  0.012854    0.002097  \n",
              "32  0.011532    0.002230  \n",
              "33  0.011172    0.002084  \n",
              "34  0.010838    0.002121  "
            ],
            "text/html": [
              "\n",
              "  <div id=\"df-25d7d492-95f9-4568-9bdb-58f7af1bcdd9\">\n",
              "    <div class=\"colab-df-container\">\n",
              "      <div>\n",
              "<style scoped>\n",
              "    .dataframe tbody tr th:only-of-type {\n",
              "        vertical-align: middle;\n",
              "    }\n",
              "\n",
              "    .dataframe tbody tr th {\n",
              "        vertical-align: top;\n",
              "    }\n",
              "\n",
              "    .dataframe thead th {\n",
              "        text-align: right;\n",
              "    }\n",
              "</style>\n",
              "<table border=\"1\" class=\"dataframe\">\n",
              "  <thead>\n",
              "    <tr style=\"text-align: right;\">\n",
              "      <th></th>\n",
              "      <th>max_depth</th>\n",
              "      <th>min_samples_leaf</th>\n",
              "      <th>min_samples_split</th>\n",
              "      <th>treino</th>\n",
              "      <th>teste</th>\n",
              "      <th>fit_time</th>\n",
              "      <th>score_time</th>\n",
              "    </tr>\n",
              "  </thead>\n",
              "  <tbody>\n",
              "    <tr>\n",
              "      <th>54</th>\n",
              "      <td>4</td>\n",
              "      <td>192</td>\n",
              "      <td>128</td>\n",
              "      <td>78.750993</td>\n",
              "      <td>78.672633</td>\n",
              "      <td>0.012523</td>\n",
              "      <td>0.001985</td>\n",
              "    </tr>\n",
              "    <tr>\n",
              "      <th>55</th>\n",
              "      <td>4</td>\n",
              "      <td>192</td>\n",
              "      <td>256</td>\n",
              "      <td>78.750993</td>\n",
              "      <td>78.672633</td>\n",
              "      <td>0.012854</td>\n",
              "      <td>0.002097</td>\n",
              "    </tr>\n",
              "    <tr>\n",
              "      <th>32</th>\n",
              "      <td>3</td>\n",
              "      <td>128</td>\n",
              "      <td>32</td>\n",
              "      <td>78.750993</td>\n",
              "      <td>78.672633</td>\n",
              "      <td>0.011532</td>\n",
              "      <td>0.002230</td>\n",
              "    </tr>\n",
              "    <tr>\n",
              "      <th>33</th>\n",
              "      <td>3</td>\n",
              "      <td>128</td>\n",
              "      <td>64</td>\n",
              "      <td>78.750993</td>\n",
              "      <td>78.672633</td>\n",
              "      <td>0.011172</td>\n",
              "      <td>0.002084</td>\n",
              "    </tr>\n",
              "    <tr>\n",
              "      <th>34</th>\n",
              "      <td>3</td>\n",
              "      <td>128</td>\n",
              "      <td>128</td>\n",
              "      <td>78.750993</td>\n",
              "      <td>78.672633</td>\n",
              "      <td>0.010838</td>\n",
              "      <td>0.002121</td>\n",
              "    </tr>\n",
              "  </tbody>\n",
              "</table>\n",
              "</div>\n",
              "      <button class=\"colab-df-convert\" onclick=\"convertToInteractive('df-25d7d492-95f9-4568-9bdb-58f7af1bcdd9')\"\n",
              "              title=\"Convert this dataframe to an interactive table.\"\n",
              "              style=\"display:none;\">\n",
              "        \n",
              "  <svg xmlns=\"http://www.w3.org/2000/svg\" height=\"24px\"viewBox=\"0 0 24 24\"\n",
              "       width=\"24px\">\n",
              "    <path d=\"M0 0h24v24H0V0z\" fill=\"none\"/>\n",
              "    <path d=\"M18.56 5.44l.94 2.06.94-2.06 2.06-.94-2.06-.94-.94-2.06-.94 2.06-2.06.94zm-11 1L8.5 8.5l.94-2.06 2.06-.94-2.06-.94L8.5 2.5l-.94 2.06-2.06.94zm10 10l.94 2.06.94-2.06 2.06-.94-2.06-.94-.94-2.06-.94 2.06-2.06.94z\"/><path d=\"M17.41 7.96l-1.37-1.37c-.4-.4-.92-.59-1.43-.59-.52 0-1.04.2-1.43.59L10.3 9.45l-7.72 7.72c-.78.78-.78 2.05 0 2.83L4 21.41c.39.39.9.59 1.41.59.51 0 1.02-.2 1.41-.59l7.78-7.78 2.81-2.81c.8-.78.8-2.07 0-2.86zM5.41 20L4 18.59l7.72-7.72 1.47 1.35L5.41 20z\"/>\n",
              "  </svg>\n",
              "      </button>\n",
              "      \n",
              "  <style>\n",
              "    .colab-df-container {\n",
              "      display:flex;\n",
              "      flex-wrap:wrap;\n",
              "      gap: 12px;\n",
              "    }\n",
              "\n",
              "    .colab-df-convert {\n",
              "      background-color: #E8F0FE;\n",
              "      border: none;\n",
              "      border-radius: 50%;\n",
              "      cursor: pointer;\n",
              "      display: none;\n",
              "      fill: #1967D2;\n",
              "      height: 32px;\n",
              "      padding: 0 0 0 0;\n",
              "      width: 32px;\n",
              "    }\n",
              "\n",
              "    .colab-df-convert:hover {\n",
              "      background-color: #E2EBFA;\n",
              "      box-shadow: 0px 1px 2px rgba(60, 64, 67, 0.3), 0px 1px 3px 1px rgba(60, 64, 67, 0.15);\n",
              "      fill: #174EA6;\n",
              "    }\n",
              "\n",
              "    [theme=dark] .colab-df-convert {\n",
              "      background-color: #3B4455;\n",
              "      fill: #D2E3FC;\n",
              "    }\n",
              "\n",
              "    [theme=dark] .colab-df-convert:hover {\n",
              "      background-color: #434B5C;\n",
              "      box-shadow: 0px 1px 3px 1px rgba(0, 0, 0, 0.15);\n",
              "      filter: drop-shadow(0px 1px 2px rgba(0, 0, 0, 0.3));\n",
              "      fill: #FFFFFF;\n",
              "    }\n",
              "  </style>\n",
              "\n",
              "      <script>\n",
              "        const buttonEl =\n",
              "          document.querySelector('#df-25d7d492-95f9-4568-9bdb-58f7af1bcdd9 button.colab-df-convert');\n",
              "        buttonEl.style.display =\n",
              "          google.colab.kernel.accessAllowed ? 'block' : 'none';\n",
              "\n",
              "        async function convertToInteractive(key) {\n",
              "          const element = document.querySelector('#df-25d7d492-95f9-4568-9bdb-58f7af1bcdd9');\n",
              "          const dataTable =\n",
              "            await google.colab.kernel.invokeFunction('convertToInteractive',\n",
              "                                                     [key], {});\n",
              "          if (!dataTable) return;\n",
              "\n",
              "          const docLinkHtml = 'Like what you see? Visit the ' +\n",
              "            '<a target=\"_blank\" href=https://colab.research.google.com/notebooks/data_table.ipynb>data table notebook</a>'\n",
              "            + ' to learn more about interactive tables.';\n",
              "          element.innerHTML = '';\n",
              "          dataTable['output_type'] = 'display_data';\n",
              "          await google.colab.output.renderOutput(dataTable, element);\n",
              "          const docLink = document.createElement('div');\n",
              "          docLink.innerHTML = docLinkHtml;\n",
              "          element.appendChild(docLink);\n",
              "        }\n",
              "      </script>\n",
              "    </div>\n",
              "  </div>\n",
              "  "
            ]
          },
          "metadata": {},
          "execution_count": 102
        }
      ]
    },
    {
      "cell_type": "markdown",
      "source": [
        "#Explorando espaço de hiper parâmetros com GridSearchCV\n",
        "\n",
        "<font color='red'>Buscou o melhor resultado para o meu modelo"
      ],
      "metadata": {
        "id": "5yyu91dxRTps"
      }
    },
    {
      "cell_type": "code",
      "source": [
        "from sklearn.model_selection import GridSearchCV\n",
        "\n",
        "SEED = 301\n",
        "np.random.seed(SEED)\n",
        "\n",
        "espaço_de_parametros = {\n",
        "    'max_depth': [3, 5],\n",
        "    'min_samples_split': [32, 64, 128],\n",
        "    'min_samples_leaf': [32,64,128],\n",
        "    'criterion': ['gini', 'entropy']\n",
        "}\n",
        "\n",
        "busca = GridSearchCV(DecisionTreeClassifier(),\n",
        "                     espaço_de_parametros, \n",
        "                     cv = GroupKFold(n_splits = 10))\n",
        "\n",
        "busca.fit(x_azar, y_azar, groups = dados.modelo)\n",
        "\n",
        "resultados = pd.DataFrame(busca.cv_results_)\n",
        "resultados.head()"
      ],
      "metadata": {
        "colab": {
          "base_uri": "https://localhost:8080/",
          "height": 646
        },
        "id": "DA0TE9OdRfdC",
        "outputId": "c61d239b-c746-4cb3-e001-46816d006e8e"
      },
      "execution_count": 105,
      "outputs": [
        {
          "output_type": "execute_result",
          "data": {
            "text/plain": [
              "   mean_fit_time  std_fit_time  mean_score_time  std_score_time  \\\n",
              "0       0.012310      0.001717         0.002414        0.000738   \n",
              "1       0.011498      0.000804         0.002079        0.000105   \n",
              "2       0.011097      0.000260         0.002032        0.000051   \n",
              "3       0.011328      0.000621         0.002055        0.000067   \n",
              "4       0.010957      0.000172         0.002093        0.000187   \n",
              "\n",
              "  param_criterion param_max_depth param_min_samples_leaf  \\\n",
              "0            gini               3                     32   \n",
              "1            gini               3                     32   \n",
              "2            gini               3                     32   \n",
              "3            gini               3                     64   \n",
              "4            gini               3                     64   \n",
              "\n",
              "  param_min_samples_split                                             params  \\\n",
              "0                      32  {'criterion': 'gini', 'max_depth': 3, 'min_sam...   \n",
              "1                      64  {'criterion': 'gini', 'max_depth': 3, 'min_sam...   \n",
              "2                     128  {'criterion': 'gini', 'max_depth': 3, 'min_sam...   \n",
              "3                      32  {'criterion': 'gini', 'max_depth': 3, 'min_sam...   \n",
              "4                      64  {'criterion': 'gini', 'max_depth': 3, 'min_sam...   \n",
              "\n",
              "   split0_test_score  ...  split3_test_score  split4_test_score  \\\n",
              "0           0.804757  ...            0.78408           0.783181   \n",
              "1           0.804757  ...            0.78408           0.783181   \n",
              "2           0.804757  ...            0.78408           0.783181   \n",
              "3           0.804757  ...            0.78408           0.783181   \n",
              "4           0.804757  ...            0.78408           0.783181   \n",
              "\n",
              "   split5_test_score  split6_test_score  split7_test_score  split8_test_score  \\\n",
              "0           0.797809           0.762866           0.781818            0.77551   \n",
              "1           0.797809           0.762866           0.781818            0.77551   \n",
              "2           0.797809           0.762866           0.781818            0.77551   \n",
              "3           0.797809           0.762866           0.781818            0.77551   \n",
              "4           0.797809           0.762866           0.781818            0.77551   \n",
              "\n",
              "   split9_test_score  mean_test_score  std_test_score  rank_test_score  \n",
              "0           0.790262         0.786726        0.011361                1  \n",
              "1           0.790262         0.786726        0.011361                1  \n",
              "2           0.790262         0.786726        0.011361                1  \n",
              "3           0.790262         0.786726        0.011361                1  \n",
              "4           0.790262         0.786726        0.011361                1  \n",
              "\n",
              "[5 rows x 22 columns]"
            ],
            "text/html": [
              "\n",
              "  <div id=\"df-698c2072-c425-4736-a652-fb6f3b324370\">\n",
              "    <div class=\"colab-df-container\">\n",
              "      <div>\n",
              "<style scoped>\n",
              "    .dataframe tbody tr th:only-of-type {\n",
              "        vertical-align: middle;\n",
              "    }\n",
              "\n",
              "    .dataframe tbody tr th {\n",
              "        vertical-align: top;\n",
              "    }\n",
              "\n",
              "    .dataframe thead th {\n",
              "        text-align: right;\n",
              "    }\n",
              "</style>\n",
              "<table border=\"1\" class=\"dataframe\">\n",
              "  <thead>\n",
              "    <tr style=\"text-align: right;\">\n",
              "      <th></th>\n",
              "      <th>mean_fit_time</th>\n",
              "      <th>std_fit_time</th>\n",
              "      <th>mean_score_time</th>\n",
              "      <th>std_score_time</th>\n",
              "      <th>param_criterion</th>\n",
              "      <th>param_max_depth</th>\n",
              "      <th>param_min_samples_leaf</th>\n",
              "      <th>param_min_samples_split</th>\n",
              "      <th>params</th>\n",
              "      <th>split0_test_score</th>\n",
              "      <th>...</th>\n",
              "      <th>split3_test_score</th>\n",
              "      <th>split4_test_score</th>\n",
              "      <th>split5_test_score</th>\n",
              "      <th>split6_test_score</th>\n",
              "      <th>split7_test_score</th>\n",
              "      <th>split8_test_score</th>\n",
              "      <th>split9_test_score</th>\n",
              "      <th>mean_test_score</th>\n",
              "      <th>std_test_score</th>\n",
              "      <th>rank_test_score</th>\n",
              "    </tr>\n",
              "  </thead>\n",
              "  <tbody>\n",
              "    <tr>\n",
              "      <th>0</th>\n",
              "      <td>0.012310</td>\n",
              "      <td>0.001717</td>\n",
              "      <td>0.002414</td>\n",
              "      <td>0.000738</td>\n",
              "      <td>gini</td>\n",
              "      <td>3</td>\n",
              "      <td>32</td>\n",
              "      <td>32</td>\n",
              "      <td>{'criterion': 'gini', 'max_depth': 3, 'min_sam...</td>\n",
              "      <td>0.804757</td>\n",
              "      <td>...</td>\n",
              "      <td>0.78408</td>\n",
              "      <td>0.783181</td>\n",
              "      <td>0.797809</td>\n",
              "      <td>0.762866</td>\n",
              "      <td>0.781818</td>\n",
              "      <td>0.77551</td>\n",
              "      <td>0.790262</td>\n",
              "      <td>0.786726</td>\n",
              "      <td>0.011361</td>\n",
              "      <td>1</td>\n",
              "    </tr>\n",
              "    <tr>\n",
              "      <th>1</th>\n",
              "      <td>0.011498</td>\n",
              "      <td>0.000804</td>\n",
              "      <td>0.002079</td>\n",
              "      <td>0.000105</td>\n",
              "      <td>gini</td>\n",
              "      <td>3</td>\n",
              "      <td>32</td>\n",
              "      <td>64</td>\n",
              "      <td>{'criterion': 'gini', 'max_depth': 3, 'min_sam...</td>\n",
              "      <td>0.804757</td>\n",
              "      <td>...</td>\n",
              "      <td>0.78408</td>\n",
              "      <td>0.783181</td>\n",
              "      <td>0.797809</td>\n",
              "      <td>0.762866</td>\n",
              "      <td>0.781818</td>\n",
              "      <td>0.77551</td>\n",
              "      <td>0.790262</td>\n",
              "      <td>0.786726</td>\n",
              "      <td>0.011361</td>\n",
              "      <td>1</td>\n",
              "    </tr>\n",
              "    <tr>\n",
              "      <th>2</th>\n",
              "      <td>0.011097</td>\n",
              "      <td>0.000260</td>\n",
              "      <td>0.002032</td>\n",
              "      <td>0.000051</td>\n",
              "      <td>gini</td>\n",
              "      <td>3</td>\n",
              "      <td>32</td>\n",
              "      <td>128</td>\n",
              "      <td>{'criterion': 'gini', 'max_depth': 3, 'min_sam...</td>\n",
              "      <td>0.804757</td>\n",
              "      <td>...</td>\n",
              "      <td>0.78408</td>\n",
              "      <td>0.783181</td>\n",
              "      <td>0.797809</td>\n",
              "      <td>0.762866</td>\n",
              "      <td>0.781818</td>\n",
              "      <td>0.77551</td>\n",
              "      <td>0.790262</td>\n",
              "      <td>0.786726</td>\n",
              "      <td>0.011361</td>\n",
              "      <td>1</td>\n",
              "    </tr>\n",
              "    <tr>\n",
              "      <th>3</th>\n",
              "      <td>0.011328</td>\n",
              "      <td>0.000621</td>\n",
              "      <td>0.002055</td>\n",
              "      <td>0.000067</td>\n",
              "      <td>gini</td>\n",
              "      <td>3</td>\n",
              "      <td>64</td>\n",
              "      <td>32</td>\n",
              "      <td>{'criterion': 'gini', 'max_depth': 3, 'min_sam...</td>\n",
              "      <td>0.804757</td>\n",
              "      <td>...</td>\n",
              "      <td>0.78408</td>\n",
              "      <td>0.783181</td>\n",
              "      <td>0.797809</td>\n",
              "      <td>0.762866</td>\n",
              "      <td>0.781818</td>\n",
              "      <td>0.77551</td>\n",
              "      <td>0.790262</td>\n",
              "      <td>0.786726</td>\n",
              "      <td>0.011361</td>\n",
              "      <td>1</td>\n",
              "    </tr>\n",
              "    <tr>\n",
              "      <th>4</th>\n",
              "      <td>0.010957</td>\n",
              "      <td>0.000172</td>\n",
              "      <td>0.002093</td>\n",
              "      <td>0.000187</td>\n",
              "      <td>gini</td>\n",
              "      <td>3</td>\n",
              "      <td>64</td>\n",
              "      <td>64</td>\n",
              "      <td>{'criterion': 'gini', 'max_depth': 3, 'min_sam...</td>\n",
              "      <td>0.804757</td>\n",
              "      <td>...</td>\n",
              "      <td>0.78408</td>\n",
              "      <td>0.783181</td>\n",
              "      <td>0.797809</td>\n",
              "      <td>0.762866</td>\n",
              "      <td>0.781818</td>\n",
              "      <td>0.77551</td>\n",
              "      <td>0.790262</td>\n",
              "      <td>0.786726</td>\n",
              "      <td>0.011361</td>\n",
              "      <td>1</td>\n",
              "    </tr>\n",
              "  </tbody>\n",
              "</table>\n",
              "<p>5 rows × 22 columns</p>\n",
              "</div>\n",
              "      <button class=\"colab-df-convert\" onclick=\"convertToInteractive('df-698c2072-c425-4736-a652-fb6f3b324370')\"\n",
              "              title=\"Convert this dataframe to an interactive table.\"\n",
              "              style=\"display:none;\">\n",
              "        \n",
              "  <svg xmlns=\"http://www.w3.org/2000/svg\" height=\"24px\"viewBox=\"0 0 24 24\"\n",
              "       width=\"24px\">\n",
              "    <path d=\"M0 0h24v24H0V0z\" fill=\"none\"/>\n",
              "    <path d=\"M18.56 5.44l.94 2.06.94-2.06 2.06-.94-2.06-.94-.94-2.06-.94 2.06-2.06.94zm-11 1L8.5 8.5l.94-2.06 2.06-.94-2.06-.94L8.5 2.5l-.94 2.06-2.06.94zm10 10l.94 2.06.94-2.06 2.06-.94-2.06-.94-.94-2.06-.94 2.06-2.06.94z\"/><path d=\"M17.41 7.96l-1.37-1.37c-.4-.4-.92-.59-1.43-.59-.52 0-1.04.2-1.43.59L10.3 9.45l-7.72 7.72c-.78.78-.78 2.05 0 2.83L4 21.41c.39.39.9.59 1.41.59.51 0 1.02-.2 1.41-.59l7.78-7.78 2.81-2.81c.8-.78.8-2.07 0-2.86zM5.41 20L4 18.59l7.72-7.72 1.47 1.35L5.41 20z\"/>\n",
              "  </svg>\n",
              "      </button>\n",
              "      \n",
              "  <style>\n",
              "    .colab-df-container {\n",
              "      display:flex;\n",
              "      flex-wrap:wrap;\n",
              "      gap: 12px;\n",
              "    }\n",
              "\n",
              "    .colab-df-convert {\n",
              "      background-color: #E8F0FE;\n",
              "      border: none;\n",
              "      border-radius: 50%;\n",
              "      cursor: pointer;\n",
              "      display: none;\n",
              "      fill: #1967D2;\n",
              "      height: 32px;\n",
              "      padding: 0 0 0 0;\n",
              "      width: 32px;\n",
              "    }\n",
              "\n",
              "    .colab-df-convert:hover {\n",
              "      background-color: #E2EBFA;\n",
              "      box-shadow: 0px 1px 2px rgba(60, 64, 67, 0.3), 0px 1px 3px 1px rgba(60, 64, 67, 0.15);\n",
              "      fill: #174EA6;\n",
              "    }\n",
              "\n",
              "    [theme=dark] .colab-df-convert {\n",
              "      background-color: #3B4455;\n",
              "      fill: #D2E3FC;\n",
              "    }\n",
              "\n",
              "    [theme=dark] .colab-df-convert:hover {\n",
              "      background-color: #434B5C;\n",
              "      box-shadow: 0px 1px 3px 1px rgba(0, 0, 0, 0.15);\n",
              "      filter: drop-shadow(0px 1px 2px rgba(0, 0, 0, 0.3));\n",
              "      fill: #FFFFFF;\n",
              "    }\n",
              "  </style>\n",
              "\n",
              "      <script>\n",
              "        const buttonEl =\n",
              "          document.querySelector('#df-698c2072-c425-4736-a652-fb6f3b324370 button.colab-df-convert');\n",
              "        buttonEl.style.display =\n",
              "          google.colab.kernel.accessAllowed ? 'block' : 'none';\n",
              "\n",
              "        async function convertToInteractive(key) {\n",
              "          const element = document.querySelector('#df-698c2072-c425-4736-a652-fb6f3b324370');\n",
              "          const dataTable =\n",
              "            await google.colab.kernel.invokeFunction('convertToInteractive',\n",
              "                                                     [key], {});\n",
              "          if (!dataTable) return;\n",
              "\n",
              "          const docLinkHtml = 'Like what you see? Visit the ' +\n",
              "            '<a target=\"_blank\" href=https://colab.research.google.com/notebooks/data_table.ipynb>data table notebook</a>'\n",
              "            + ' to learn more about interactive tables.';\n",
              "          element.innerHTML = '';\n",
              "          dataTable['output_type'] = 'display_data';\n",
              "          await google.colab.output.renderOutput(dataTable, element);\n",
              "          const docLink = document.createElement('div');\n",
              "          docLink.innerHTML = docLinkHtml;\n",
              "          element.appendChild(docLink);\n",
              "        }\n",
              "      </script>\n",
              "    </div>\n",
              "  </div>\n",
              "  "
            ]
          },
          "metadata": {},
          "execution_count": 105
        }
      ]
    },
    {
      "cell_type": "code",
      "source": [
        "print(busca.best_params_)\n",
        "print(busca.best_score_ * 100)"
      ],
      "metadata": {
        "colab": {
          "base_uri": "https://localhost:8080/"
        },
        "id": "WyIK_O43UBGe",
        "outputId": "f0d1ee58-318a-43bb-b579-04ac2d80e31e"
      },
      "execution_count": 113,
      "outputs": [
        {
          "output_type": "stream",
          "name": "stdout",
          "text": [
            "{'criterion': 'gini', 'max_depth': 3, 'min_samples_leaf': 32, 'min_samples_split': 32}\n",
            "78.67263337284332\n"
          ]
        }
      ]
    },
    {
      "cell_type": "markdown",
      "source": [
        "## Melhor modelo ?"
      ],
      "metadata": {
        "id": "rRe07HrVU3oM"
      }
    },
    {
      "cell_type": "code",
      "source": [
        "melhor = busca.best_estimator_\n",
        "melhor"
      ],
      "metadata": {
        "colab": {
          "base_uri": "https://localhost:8080/"
        },
        "id": "Lanaosk1Uned",
        "outputId": "b80e7d61-5838-4236-b2c9-d6163b52769e"
      },
      "execution_count": 116,
      "outputs": [
        {
          "output_type": "execute_result",
          "data": {
            "text/plain": [
              "DecisionTreeClassifier(max_depth=3, min_samples_leaf=32, min_samples_split=32)"
            ]
          },
          "metadata": {},
          "execution_count": 116
        }
      ]
    },
    {
      "cell_type": "code",
      "source": [
        "from sklearn.metrics import accuracy_score\n",
        "\n",
        "# evitar essa abordagem pois estara sendo otimista\n",
        "previsoes = melhor.predict(x_azar)\n",
        "\n",
        "acuracia = accuracy_score(previsoes, y_azar)* 100\n",
        "print('A acuracia para os dados %.2f%%' % acuracia)"
      ],
      "metadata": {
        "colab": {
          "base_uri": "https://localhost:8080/"
        },
        "id": "dHvBnjwzU28k",
        "outputId": "8dacc031-0eec-4dbc-fb07-ee168f00a608"
      },
      "execution_count": 117,
      "outputs": [
        {
          "output_type": "stream",
          "name": "stdout",
          "text": [
            "A acuracia para os dados 78.75%\n"
          ]
        }
      ]
    },
    {
      "cell_type": "markdown",
      "source": [
        "# Como ter uma estimativa sem esse vício nos dados que ja vi ?\n",
        "\n",
        "No caso de cross_validate com busca de hiper parametros, fazemos uma nova validação cruzada. Chama-se nested cross_validate"
      ],
      "metadata": {
        "id": "HFbnpQU8Wvms"
      }
    },
    {
      "cell_type": "code",
      "source": [
        "from sklearn.model_selection import cross_val_score\n",
        "\n",
        "scores = cross_val_score(busca, x_azar, y_azar, cv = GroupKFold(n_splits = 10), groups = dados.modelo)"
      ],
      "metadata": {
        "colab": {
          "base_uri": "https://localhost:8080/"
        },
        "id": "I_YE8zLvW-vR",
        "outputId": "774cd5c7-cfbe-4b75-e216-bb74065a5f4f"
      },
      "execution_count": 122,
      "outputs": [
        {
          "output_type": "stream",
          "name": "stderr",
          "text": [
            "/usr/local/lib/python3.7/dist-packages/sklearn/model_selection/_validation.py:372: FitFailedWarning: \n",
            "10 fits failed out of a total of 10.\n",
            "The score on these train-test partitions for these parameters will be set to nan.\n",
            "If these failures are not expected, you can try to debug them by setting error_score='raise'.\n",
            "\n",
            "Below are more details about the failures:\n",
            "--------------------------------------------------------------------------------\n",
            "10 fits failed with the following error:\n",
            "Traceback (most recent call last):\n",
            "  File \"/usr/local/lib/python3.7/dist-packages/sklearn/model_selection/_validation.py\", line 680, in _fit_and_score\n",
            "    estimator.fit(X_train, y_train, **fit_params)\n",
            "  File \"/usr/local/lib/python3.7/dist-packages/sklearn/model_selection/_search.py\", line 891, in fit\n",
            "    self._run_search(evaluate_candidates)\n",
            "  File \"/usr/local/lib/python3.7/dist-packages/sklearn/model_selection/_search.py\", line 1392, in _run_search\n",
            "    evaluate_candidates(ParameterGrid(self.param_grid))\n",
            "  File \"/usr/local/lib/python3.7/dist-packages/sklearn/model_selection/_search.py\", line 851, in evaluate_candidates\n",
            "    enumerate(candidate_params), enumerate(cv.split(X, y, groups))\n",
            "  File \"/usr/local/lib/python3.7/dist-packages/sklearn/model_selection/_split.py\", line 340, in split\n",
            "    for train, test in super().split(X, y, groups):\n",
            "  File \"/usr/local/lib/python3.7/dist-packages/sklearn/model_selection/_split.py\", line 86, in split\n",
            "    for test_index in self._iter_test_masks(X, y, groups):\n",
            "  File \"/usr/local/lib/python3.7/dist-packages/sklearn/model_selection/_split.py\", line 98, in _iter_test_masks\n",
            "    for test_index in self._iter_test_indices(X, y, groups):\n",
            "  File \"/usr/local/lib/python3.7/dist-packages/sklearn/model_selection/_split.py\", line 510, in _iter_test_indices\n",
            "    raise ValueError(\"The 'groups' parameter should not be None.\")\n",
            "ValueError: The 'groups' parameter should not be None.\n",
            "\n",
            "  warnings.warn(some_fits_failed_message, FitFailedWarning)\n"
          ]
        }
      ]
    },
    {
      "cell_type": "markdown",
      "source": [
        "# Infelizmente como O Pandas não suporta nested validation com groupKFold não conseguimos prever resultados para novos grupos"
      ],
      "metadata": {
        "id": "N-_kugMTX7Cj"
      }
    },
    {
      "cell_type": "code",
      "source": [
        "from sklearn.model_selection import GridSearchCV\n",
        "from sklearn.model_selection import KFold\n",
        "\n",
        "\n",
        "SEED = 301\n",
        "np.random.seed(SEED)\n",
        "\n",
        "espaço_de_parametros = {\n",
        "    'max_depth': [3, 5],\n",
        "    'min_samples_split': [32, 64, 128],\n",
        "    'min_samples_leaf': [32,64,128],\n",
        "    'criterion': ['gini', 'entropy']\n",
        "}\n",
        "\n",
        "busca = GridSearchCV(DecisionTreeClassifier(),\n",
        "                     espaço_de_parametros, \n",
        "                     cv = KFold(n_splits = 5, shuffle = True))\n",
        "\n",
        "busca.fit(x_azar, y_azar)\n",
        "\n",
        "resultados = pd.DataFrame(busca.cv_results_)\n",
        "resultados.head()"
      ],
      "metadata": {
        "colab": {
          "base_uri": "https://localhost:8080/",
          "height": 617
        },
        "id": "nlpnj6SQX6nU",
        "outputId": "a4a1eafb-5a36-409b-9c4d-37de6b2a3991"
      },
      "execution_count": 124,
      "outputs": [
        {
          "output_type": "execute_result",
          "data": {
            "text/plain": [
              "   mean_fit_time  std_fit_time  mean_score_time  std_score_time  \\\n",
              "0       0.015037      0.001416         0.003714        0.000031   \n",
              "1       0.015400      0.002182         0.003528        0.000163   \n",
              "2       0.014438      0.000355         0.003555        0.000084   \n",
              "3       0.015363      0.001833         0.003729        0.000243   \n",
              "4       0.015774      0.001985         0.005030        0.001572   \n",
              "\n",
              "  param_criterion param_max_depth param_min_samples_leaf  \\\n",
              "0            gini               3                     32   \n",
              "1            gini               3                     32   \n",
              "2            gini               3                     32   \n",
              "3            gini               3                     64   \n",
              "4            gini               3                     64   \n",
              "\n",
              "  param_min_samples_split                                             params  \\\n",
              "0                      32  {'criterion': 'gini', 'max_depth': 3, 'min_sam...   \n",
              "1                      64  {'criterion': 'gini', 'max_depth': 3, 'min_sam...   \n",
              "2                     128  {'criterion': 'gini', 'max_depth': 3, 'min_sam...   \n",
              "3                      32  {'criterion': 'gini', 'max_depth': 3, 'min_sam...   \n",
              "4                      64  {'criterion': 'gini', 'max_depth': 3, 'min_sam...   \n",
              "\n",
              "   split0_test_score  split1_test_score  split2_test_score  split3_test_score  \\\n",
              "0              0.784              0.776             0.8025              0.793   \n",
              "1              0.784              0.776             0.8025              0.793   \n",
              "2              0.784              0.776             0.8025              0.793   \n",
              "3              0.784              0.776             0.8025              0.793   \n",
              "4              0.784              0.776             0.8025              0.793   \n",
              "\n",
              "   split4_test_score  mean_test_score  std_test_score  rank_test_score  \n",
              "0             0.7795            0.787        0.009618                1  \n",
              "1             0.7795            0.787        0.009618                1  \n",
              "2             0.7795            0.787        0.009618                1  \n",
              "3             0.7795            0.787        0.009618                1  \n",
              "4             0.7795            0.787        0.009618                1  "
            ],
            "text/html": [
              "\n",
              "  <div id=\"df-aa8eb1ad-27ce-4719-9941-7c4713b78a98\">\n",
              "    <div class=\"colab-df-container\">\n",
              "      <div>\n",
              "<style scoped>\n",
              "    .dataframe tbody tr th:only-of-type {\n",
              "        vertical-align: middle;\n",
              "    }\n",
              "\n",
              "    .dataframe tbody tr th {\n",
              "        vertical-align: top;\n",
              "    }\n",
              "\n",
              "    .dataframe thead th {\n",
              "        text-align: right;\n",
              "    }\n",
              "</style>\n",
              "<table border=\"1\" class=\"dataframe\">\n",
              "  <thead>\n",
              "    <tr style=\"text-align: right;\">\n",
              "      <th></th>\n",
              "      <th>mean_fit_time</th>\n",
              "      <th>std_fit_time</th>\n",
              "      <th>mean_score_time</th>\n",
              "      <th>std_score_time</th>\n",
              "      <th>param_criterion</th>\n",
              "      <th>param_max_depth</th>\n",
              "      <th>param_min_samples_leaf</th>\n",
              "      <th>param_min_samples_split</th>\n",
              "      <th>params</th>\n",
              "      <th>split0_test_score</th>\n",
              "      <th>split1_test_score</th>\n",
              "      <th>split2_test_score</th>\n",
              "      <th>split3_test_score</th>\n",
              "      <th>split4_test_score</th>\n",
              "      <th>mean_test_score</th>\n",
              "      <th>std_test_score</th>\n",
              "      <th>rank_test_score</th>\n",
              "    </tr>\n",
              "  </thead>\n",
              "  <tbody>\n",
              "    <tr>\n",
              "      <th>0</th>\n",
              "      <td>0.015037</td>\n",
              "      <td>0.001416</td>\n",
              "      <td>0.003714</td>\n",
              "      <td>0.000031</td>\n",
              "      <td>gini</td>\n",
              "      <td>3</td>\n",
              "      <td>32</td>\n",
              "      <td>32</td>\n",
              "      <td>{'criterion': 'gini', 'max_depth': 3, 'min_sam...</td>\n",
              "      <td>0.784</td>\n",
              "      <td>0.776</td>\n",
              "      <td>0.8025</td>\n",
              "      <td>0.793</td>\n",
              "      <td>0.7795</td>\n",
              "      <td>0.787</td>\n",
              "      <td>0.009618</td>\n",
              "      <td>1</td>\n",
              "    </tr>\n",
              "    <tr>\n",
              "      <th>1</th>\n",
              "      <td>0.015400</td>\n",
              "      <td>0.002182</td>\n",
              "      <td>0.003528</td>\n",
              "      <td>0.000163</td>\n",
              "      <td>gini</td>\n",
              "      <td>3</td>\n",
              "      <td>32</td>\n",
              "      <td>64</td>\n",
              "      <td>{'criterion': 'gini', 'max_depth': 3, 'min_sam...</td>\n",
              "      <td>0.784</td>\n",
              "      <td>0.776</td>\n",
              "      <td>0.8025</td>\n",
              "      <td>0.793</td>\n",
              "      <td>0.7795</td>\n",
              "      <td>0.787</td>\n",
              "      <td>0.009618</td>\n",
              "      <td>1</td>\n",
              "    </tr>\n",
              "    <tr>\n",
              "      <th>2</th>\n",
              "      <td>0.014438</td>\n",
              "      <td>0.000355</td>\n",
              "      <td>0.003555</td>\n",
              "      <td>0.000084</td>\n",
              "      <td>gini</td>\n",
              "      <td>3</td>\n",
              "      <td>32</td>\n",
              "      <td>128</td>\n",
              "      <td>{'criterion': 'gini', 'max_depth': 3, 'min_sam...</td>\n",
              "      <td>0.784</td>\n",
              "      <td>0.776</td>\n",
              "      <td>0.8025</td>\n",
              "      <td>0.793</td>\n",
              "      <td>0.7795</td>\n",
              "      <td>0.787</td>\n",
              "      <td>0.009618</td>\n",
              "      <td>1</td>\n",
              "    </tr>\n",
              "    <tr>\n",
              "      <th>3</th>\n",
              "      <td>0.015363</td>\n",
              "      <td>0.001833</td>\n",
              "      <td>0.003729</td>\n",
              "      <td>0.000243</td>\n",
              "      <td>gini</td>\n",
              "      <td>3</td>\n",
              "      <td>64</td>\n",
              "      <td>32</td>\n",
              "      <td>{'criterion': 'gini', 'max_depth': 3, 'min_sam...</td>\n",
              "      <td>0.784</td>\n",
              "      <td>0.776</td>\n",
              "      <td>0.8025</td>\n",
              "      <td>0.793</td>\n",
              "      <td>0.7795</td>\n",
              "      <td>0.787</td>\n",
              "      <td>0.009618</td>\n",
              "      <td>1</td>\n",
              "    </tr>\n",
              "    <tr>\n",
              "      <th>4</th>\n",
              "      <td>0.015774</td>\n",
              "      <td>0.001985</td>\n",
              "      <td>0.005030</td>\n",
              "      <td>0.001572</td>\n",
              "      <td>gini</td>\n",
              "      <td>3</td>\n",
              "      <td>64</td>\n",
              "      <td>64</td>\n",
              "      <td>{'criterion': 'gini', 'max_depth': 3, 'min_sam...</td>\n",
              "      <td>0.784</td>\n",
              "      <td>0.776</td>\n",
              "      <td>0.8025</td>\n",
              "      <td>0.793</td>\n",
              "      <td>0.7795</td>\n",
              "      <td>0.787</td>\n",
              "      <td>0.009618</td>\n",
              "      <td>1</td>\n",
              "    </tr>\n",
              "  </tbody>\n",
              "</table>\n",
              "</div>\n",
              "      <button class=\"colab-df-convert\" onclick=\"convertToInteractive('df-aa8eb1ad-27ce-4719-9941-7c4713b78a98')\"\n",
              "              title=\"Convert this dataframe to an interactive table.\"\n",
              "              style=\"display:none;\">\n",
              "        \n",
              "  <svg xmlns=\"http://www.w3.org/2000/svg\" height=\"24px\"viewBox=\"0 0 24 24\"\n",
              "       width=\"24px\">\n",
              "    <path d=\"M0 0h24v24H0V0z\" fill=\"none\"/>\n",
              "    <path d=\"M18.56 5.44l.94 2.06.94-2.06 2.06-.94-2.06-.94-.94-2.06-.94 2.06-2.06.94zm-11 1L8.5 8.5l.94-2.06 2.06-.94-2.06-.94L8.5 2.5l-.94 2.06-2.06.94zm10 10l.94 2.06.94-2.06 2.06-.94-2.06-.94-.94-2.06-.94 2.06-2.06.94z\"/><path d=\"M17.41 7.96l-1.37-1.37c-.4-.4-.92-.59-1.43-.59-.52 0-1.04.2-1.43.59L10.3 9.45l-7.72 7.72c-.78.78-.78 2.05 0 2.83L4 21.41c.39.39.9.59 1.41.59.51 0 1.02-.2 1.41-.59l7.78-7.78 2.81-2.81c.8-.78.8-2.07 0-2.86zM5.41 20L4 18.59l7.72-7.72 1.47 1.35L5.41 20z\"/>\n",
              "  </svg>\n",
              "      </button>\n",
              "      \n",
              "  <style>\n",
              "    .colab-df-container {\n",
              "      display:flex;\n",
              "      flex-wrap:wrap;\n",
              "      gap: 12px;\n",
              "    }\n",
              "\n",
              "    .colab-df-convert {\n",
              "      background-color: #E8F0FE;\n",
              "      border: none;\n",
              "      border-radius: 50%;\n",
              "      cursor: pointer;\n",
              "      display: none;\n",
              "      fill: #1967D2;\n",
              "      height: 32px;\n",
              "      padding: 0 0 0 0;\n",
              "      width: 32px;\n",
              "    }\n",
              "\n",
              "    .colab-df-convert:hover {\n",
              "      background-color: #E2EBFA;\n",
              "      box-shadow: 0px 1px 2px rgba(60, 64, 67, 0.3), 0px 1px 3px 1px rgba(60, 64, 67, 0.15);\n",
              "      fill: #174EA6;\n",
              "    }\n",
              "\n",
              "    [theme=dark] .colab-df-convert {\n",
              "      background-color: #3B4455;\n",
              "      fill: #D2E3FC;\n",
              "    }\n",
              "\n",
              "    [theme=dark] .colab-df-convert:hover {\n",
              "      background-color: #434B5C;\n",
              "      box-shadow: 0px 1px 3px 1px rgba(0, 0, 0, 0.15);\n",
              "      filter: drop-shadow(0px 1px 2px rgba(0, 0, 0, 0.3));\n",
              "      fill: #FFFFFF;\n",
              "    }\n",
              "  </style>\n",
              "\n",
              "      <script>\n",
              "        const buttonEl =\n",
              "          document.querySelector('#df-aa8eb1ad-27ce-4719-9941-7c4713b78a98 button.colab-df-convert');\n",
              "        buttonEl.style.display =\n",
              "          google.colab.kernel.accessAllowed ? 'block' : 'none';\n",
              "\n",
              "        async function convertToInteractive(key) {\n",
              "          const element = document.querySelector('#df-aa8eb1ad-27ce-4719-9941-7c4713b78a98');\n",
              "          const dataTable =\n",
              "            await google.colab.kernel.invokeFunction('convertToInteractive',\n",
              "                                                     [key], {});\n",
              "          if (!dataTable) return;\n",
              "\n",
              "          const docLinkHtml = 'Like what you see? Visit the ' +\n",
              "            '<a target=\"_blank\" href=https://colab.research.google.com/notebooks/data_table.ipynb>data table notebook</a>'\n",
              "            + ' to learn more about interactive tables.';\n",
              "          element.innerHTML = '';\n",
              "          dataTable['output_type'] = 'display_data';\n",
              "          await google.colab.output.renderOutput(dataTable, element);\n",
              "          const docLink = document.createElement('div');\n",
              "          docLink.innerHTML = docLinkHtml;\n",
              "          element.appendChild(docLink);\n",
              "        }\n",
              "      </script>\n",
              "    </div>\n",
              "  </div>\n",
              "  "
            ]
          },
          "metadata": {},
          "execution_count": 124
        }
      ]
    },
    {
      "cell_type": "code",
      "source": [
        "from sklearn.model_selection import cross_val_score\n",
        "\n",
        "scores = cross_val_score(busca, x_azar, y_azar, cv = KFold(n_splits = 5, shuffle = True))\n",
        "scores"
      ],
      "metadata": {
        "colab": {
          "base_uri": "https://localhost:8080/"
        },
        "id": "dA7YQiJtYloG",
        "outputId": "2df7e1ca-e6cf-4d5a-de04-cc760e29d4bd"
      },
      "execution_count": 127,
      "outputs": [
        {
          "output_type": "execute_result",
          "data": {
            "text/plain": [
              "array([0.7995, 0.772 , 0.7785, 0.801 , 0.7825])"
            ]
          },
          "metadata": {},
          "execution_count": 127
        }
      ]
    },
    {
      "cell_type": "code",
      "source": [
        "def imprime_score(scores):\n",
        "  media = scores.mean() * 100\n",
        "  desvio = scores.std() * 100\n",
        "  \n",
        "  print('Accuracy médio %.2f%%' % media)\n",
        "  print('Intervalo [%.2f%% %.2f%%]' % (media - 2 * desvio, media + 2 * desvio))"
      ],
      "metadata": {
        "id": "z6k6PmFaZULD"
      },
      "execution_count": 131,
      "outputs": []
    },
    {
      "cell_type": "code",
      "source": [
        "imprime_score(scores)"
      ],
      "metadata": {
        "colab": {
          "base_uri": "https://localhost:8080/"
        },
        "id": "wz-uRF9XZjJu",
        "outputId": "2f152125-d7a4-452e-b525-0cd4c03a83ea"
      },
      "execution_count": 132,
      "outputs": [
        {
          "output_type": "stream",
          "name": "stdout",
          "text": [
            "Accuracy médio 78.67%\n",
            "Intervalo [76.36% 80.98%]\n"
          ]
        }
      ]
    },
    {
      "cell_type": "code",
      "source": [
        "melhor = busca.best_estimator_\n",
        "print(melhor)"
      ],
      "metadata": {
        "colab": {
          "base_uri": "https://localhost:8080/"
        },
        "id": "fhmG7ZY-Zw4n",
        "outputId": "691b4b73-bc1b-4a4d-cdb3-9972c97a34aa"
      },
      "execution_count": 137,
      "outputs": [
        {
          "output_type": "stream",
          "name": "stdout",
          "text": [
            "DecisionTreeClassifier(max_depth=3, min_samples_leaf=32, min_samples_split=32)\n"
          ]
        }
      ]
    },
    {
      "cell_type": "code",
      "source": [
        "# Agora queremos usar no mundo real\n",
        "\n",
        "feature = x_azar.columns\n",
        "                        #  joga nenhum arquivo\n",
        "dot_data = export_graphviz(melhor, out_file=None, filled = True, rounded = True, class_names=['não', 'sim'], feature_names= feature)\n",
        "                                        # filled ---> preencher os retangulos de visualização\n",
        "\n",
        "graph = graphviz.Source(dot_data)\n",
        "graph"
      ],
      "metadata": {
        "colab": {
          "base_uri": "https://localhost:8080/",
          "height": 599
        },
        "id": "V2uMvzKHaL5D",
        "outputId": "ab852c81-ec83-4983-96ce-62b3258e2ca4"
      },
      "execution_count": 138,
      "outputs": [
        {
          "output_type": "execute_result",
          "data": {
            "text/plain": [
              "<graphviz.files.Source at 0x7f2f759b3d90>"
            ],
            "image/svg+xml": "<?xml version=\"1.0\" encoding=\"UTF-8\" standalone=\"no\"?>\n<!DOCTYPE svg PUBLIC \"-//W3C//DTD SVG 1.1//EN\"\n \"http://www.w3.org/Graphics/SVG/1.1/DTD/svg11.dtd\">\n<!-- Generated by graphviz version 2.40.1 (20161225.0304)\n -->\n<!-- Title: Tree Pages: 1 -->\n<svg width=\"912pt\" height=\"433pt\"\n viewBox=\"0.00 0.00 912.00 433.00\" xmlns=\"http://www.w3.org/2000/svg\" xmlns:xlink=\"http://www.w3.org/1999/xlink\">\n<g id=\"graph0\" class=\"graph\" transform=\"scale(1 1) rotate(0) translate(4 429)\">\n<title>Tree</title>\n<polygon fill=\"#ffffff\" stroke=\"transparent\" points=\"-4,4 -4,-429 908,-429 908,4 -4,4\"/>\n<!-- 0 -->\n<g id=\"node1\" class=\"node\">\n<title>0</title>\n<path fill=\"#c8e4f8\" stroke=\"#000000\" d=\"M372.5,-425C372.5,-425 247.5,-425 247.5,-425 241.5,-425 235.5,-419 235.5,-413 235.5,-413 235.5,-354 235.5,-354 235.5,-348 241.5,-342 247.5,-342 247.5,-342 372.5,-342 372.5,-342 378.5,-342 384.5,-348 384.5,-354 384.5,-354 384.5,-413 384.5,-413 384.5,-419 378.5,-425 372.5,-425\"/>\n<text text-anchor=\"middle\" x=\"310\" y=\"-409.8\" font-family=\"Helvetica,sans-Serif\" font-size=\"14.00\" fill=\"#000000\">preco &lt;= 59982.246</text>\n<text text-anchor=\"middle\" x=\"310\" y=\"-394.8\" font-family=\"Helvetica,sans-Serif\" font-size=\"14.00\" fill=\"#000000\">gini = 0.487</text>\n<text text-anchor=\"middle\" x=\"310\" y=\"-379.8\" font-family=\"Helvetica,sans-Serif\" font-size=\"14.00\" fill=\"#000000\">samples = 10000</text>\n<text text-anchor=\"middle\" x=\"310\" y=\"-364.8\" font-family=\"Helvetica,sans-Serif\" font-size=\"14.00\" fill=\"#000000\">value = [4200, 5800]</text>\n<text text-anchor=\"middle\" x=\"310\" y=\"-349.8\" font-family=\"Helvetica,sans-Serif\" font-size=\"14.00\" fill=\"#000000\">class = sim</text>\n</g>\n<!-- 1 -->\n<g id=\"node2\" class=\"node\">\n<title>1</title>\n<path fill=\"#52a9e8\" stroke=\"#000000\" d=\"M277.5,-306C277.5,-306 154.5,-306 154.5,-306 148.5,-306 142.5,-300 142.5,-294 142.5,-294 142.5,-235 142.5,-235 142.5,-229 148.5,-223 154.5,-223 154.5,-223 277.5,-223 277.5,-223 283.5,-223 289.5,-229 289.5,-235 289.5,-235 289.5,-294 289.5,-294 289.5,-300 283.5,-306 277.5,-306\"/>\n<text text-anchor=\"middle\" x=\"216\" y=\"-290.8\" font-family=\"Helvetica,sans-Serif\" font-size=\"14.00\" fill=\"#000000\">preco &lt;= 40083.385</text>\n<text text-anchor=\"middle\" x=\"216\" y=\"-275.8\" font-family=\"Helvetica,sans-Serif\" font-size=\"14.00\" fill=\"#000000\">gini = 0.198</text>\n<text text-anchor=\"middle\" x=\"216\" y=\"-260.8\" font-family=\"Helvetica,sans-Serif\" font-size=\"14.00\" fill=\"#000000\">samples = 4347</text>\n<text text-anchor=\"middle\" x=\"216\" y=\"-245.8\" font-family=\"Helvetica,sans-Serif\" font-size=\"14.00\" fill=\"#000000\">value = [484, 3863]</text>\n<text text-anchor=\"middle\" x=\"216\" y=\"-230.8\" font-family=\"Helvetica,sans-Serif\" font-size=\"14.00\" fill=\"#000000\">class = sim</text>\n</g>\n<!-- 0&#45;&gt;1 -->\n<g id=\"edge1\" class=\"edge\">\n<title>0&#45;&gt;1</title>\n<path fill=\"none\" stroke=\"#000000\" d=\"M277.1234,-341.8796C270.0803,-332.9633 262.5707,-323.4565 255.3126,-314.268\"/>\n<polygon fill=\"#000000\" stroke=\"#000000\" points=\"257.9621,-311.9757 249.017,-306.2981 252.4691,-316.3147 257.9621,-311.9757\"/>\n<text text-anchor=\"middle\" x=\"246.1027\" y=\"-327.4276\" font-family=\"Helvetica,sans-Serif\" font-size=\"14.00\" fill=\"#000000\">True</text>\n</g>\n<!-- 6 -->\n<g id=\"node7\" class=\"node\">\n<title>6</title>\n<path fill=\"#f3c3a0\" stroke=\"#000000\" d=\"M545,-306C545,-306 377,-306 377,-306 371,-306 365,-300 365,-294 365,-294 365,-235 365,-235 365,-229 371,-223 377,-223 377,-223 545,-223 545,-223 551,-223 557,-229 557,-235 557,-235 557,-294 557,-294 557,-300 551,-306 545,-306\"/>\n<text text-anchor=\"middle\" x=\"461\" y=\"-290.8\" font-family=\"Helvetica,sans-Serif\" font-size=\"14.00\" fill=\"#000000\">km_por_ano &lt;= 24124.006</text>\n<text text-anchor=\"middle\" x=\"461\" y=\"-275.8\" font-family=\"Helvetica,sans-Serif\" font-size=\"14.00\" fill=\"#000000\">gini = 0.45</text>\n<text text-anchor=\"middle\" x=\"461\" y=\"-260.8\" font-family=\"Helvetica,sans-Serif\" font-size=\"14.00\" fill=\"#000000\">samples = 5653</text>\n<text text-anchor=\"middle\" x=\"461\" y=\"-245.8\" font-family=\"Helvetica,sans-Serif\" font-size=\"14.00\" fill=\"#000000\">value = [3716, 1937]</text>\n<text text-anchor=\"middle\" x=\"461\" y=\"-230.8\" font-family=\"Helvetica,sans-Serif\" font-size=\"14.00\" fill=\"#000000\">class = não</text>\n</g>\n<!-- 0&#45;&gt;6 -->\n<g id=\"edge6\" class=\"edge\">\n<title>0&#45;&gt;6</title>\n<path fill=\"none\" stroke=\"#000000\" d=\"M362.8125,-341.8796C374.8818,-332.368 387.8039,-322.1843 400.1788,-312.432\"/>\n<polygon fill=\"#000000\" stroke=\"#000000\" points=\"402.5296,-315.0356 408.2173,-306.0969 398.1968,-309.5377 402.5296,-315.0356\"/>\n<text text-anchor=\"middle\" x=\"405.275\" y=\"-327.2232\" font-family=\"Helvetica,sans-Serif\" font-size=\"14.00\" fill=\"#000000\">False</text>\n</g>\n<!-- 2 -->\n<g id=\"node3\" class=\"node\">\n<title>2</title>\n<path fill=\"#399de5\" stroke=\"#000000\" d=\"M112,-179.5C112,-179.5 12,-179.5 12,-179.5 6,-179.5 0,-173.5 0,-167.5 0,-167.5 0,-123.5 0,-123.5 0,-117.5 6,-111.5 12,-111.5 12,-111.5 112,-111.5 112,-111.5 118,-111.5 124,-117.5 124,-123.5 124,-123.5 124,-167.5 124,-167.5 124,-173.5 118,-179.5 112,-179.5\"/>\n<text text-anchor=\"middle\" x=\"62\" y=\"-164.3\" font-family=\"Helvetica,sans-Serif\" font-size=\"14.00\" fill=\"#000000\">gini = 0.0</text>\n<text text-anchor=\"middle\" x=\"62\" y=\"-149.3\" font-family=\"Helvetica,sans-Serif\" font-size=\"14.00\" fill=\"#000000\">samples = 1935</text>\n<text text-anchor=\"middle\" x=\"62\" y=\"-134.3\" font-family=\"Helvetica,sans-Serif\" font-size=\"14.00\" fill=\"#000000\">value = [0, 1935]</text>\n<text text-anchor=\"middle\" x=\"62\" y=\"-119.3\" font-family=\"Helvetica,sans-Serif\" font-size=\"14.00\" fill=\"#000000\">class = sim</text>\n</g>\n<!-- 1&#45;&gt;2 -->\n<g id=\"edge2\" class=\"edge\">\n<title>1&#45;&gt;2</title>\n<path fill=\"none\" stroke=\"#000000\" d=\"M162.1383,-222.8796C146.7696,-211.0038 130.0453,-198.0804 114.7441,-186.2568\"/>\n<polygon fill=\"#000000\" stroke=\"#000000\" points=\"116.4605,-183.1599 106.4076,-179.8149 112.1804,-188.699 116.4605,-183.1599\"/>\n</g>\n<!-- 3 -->\n<g id=\"node4\" class=\"node\">\n<title>3</title>\n<path fill=\"#6bb6ec\" stroke=\"#000000\" d=\"M277.5,-187C277.5,-187 154.5,-187 154.5,-187 148.5,-187 142.5,-181 142.5,-175 142.5,-175 142.5,-116 142.5,-116 142.5,-110 148.5,-104 154.5,-104 154.5,-104 277.5,-104 277.5,-104 283.5,-104 289.5,-110 289.5,-116 289.5,-116 289.5,-175 289.5,-175 289.5,-181 283.5,-187 277.5,-187\"/>\n<text text-anchor=\"middle\" x=\"216\" y=\"-171.8\" font-family=\"Helvetica,sans-Serif\" font-size=\"14.00\" fill=\"#000000\">preco &lt;= 41083.029</text>\n<text text-anchor=\"middle\" x=\"216\" y=\"-156.8\" font-family=\"Helvetica,sans-Serif\" font-size=\"14.00\" fill=\"#000000\">gini = 0.321</text>\n<text text-anchor=\"middle\" x=\"216\" y=\"-141.8\" font-family=\"Helvetica,sans-Serif\" font-size=\"14.00\" fill=\"#000000\">samples = 2412</text>\n<text text-anchor=\"middle\" x=\"216\" y=\"-126.8\" font-family=\"Helvetica,sans-Serif\" font-size=\"14.00\" fill=\"#000000\">value = [484, 1928]</text>\n<text text-anchor=\"middle\" x=\"216\" y=\"-111.8\" font-family=\"Helvetica,sans-Serif\" font-size=\"14.00\" fill=\"#000000\">class = sim</text>\n</g>\n<!-- 1&#45;&gt;3 -->\n<g id=\"edge3\" class=\"edge\">\n<title>1&#45;&gt;3</title>\n<path fill=\"none\" stroke=\"#000000\" d=\"M216,-222.8796C216,-214.6838 216,-205.9891 216,-197.5013\"/>\n<polygon fill=\"#000000\" stroke=\"#000000\" points=\"219.5001,-197.298 216,-187.2981 212.5001,-197.2981 219.5001,-197.298\"/>\n</g>\n<!-- 4 -->\n<g id=\"node5\" class=\"node\">\n<title>4</title>\n<path fill=\"#95cbf1\" stroke=\"#000000\" d=\"M116,-68C116,-68 24,-68 24,-68 18,-68 12,-62 12,-56 12,-56 12,-12 12,-12 12,-6 18,0 24,0 24,0 116,0 116,0 122,0 128,-6 128,-12 128,-12 128,-56 128,-56 128,-62 122,-68 116,-68\"/>\n<text text-anchor=\"middle\" x=\"70\" y=\"-52.8\" font-family=\"Helvetica,sans-Serif\" font-size=\"14.00\" fill=\"#000000\">gini = 0.434</text>\n<text text-anchor=\"middle\" x=\"70\" y=\"-37.8\" font-family=\"Helvetica,sans-Serif\" font-size=\"14.00\" fill=\"#000000\">samples = 110</text>\n<text text-anchor=\"middle\" x=\"70\" y=\"-22.8\" font-family=\"Helvetica,sans-Serif\" font-size=\"14.00\" fill=\"#000000\">value = [35, 75]</text>\n<text text-anchor=\"middle\" x=\"70\" y=\"-7.8\" font-family=\"Helvetica,sans-Serif\" font-size=\"14.00\" fill=\"#000000\">class = sim</text>\n</g>\n<!-- 3&#45;&gt;4 -->\n<g id=\"edge4\" class=\"edge\">\n<title>3&#45;&gt;4</title>\n<path fill=\"none\" stroke=\"#000000\" d=\"M161.635,-103.9815C148.9989,-94.3313 135.5644,-84.0714 122.9885,-74.4673\"/>\n<polygon fill=\"#000000\" stroke=\"#000000\" points=\"124.9372,-71.5515 114.8654,-68.2637 120.6886,-77.1148 124.9372,-71.5515\"/>\n</g>\n<!-- 5 -->\n<g id=\"node6\" class=\"node\">\n<title>5</title>\n<path fill=\"#69b5eb\" stroke=\"#000000\" d=\"M274,-68C274,-68 158,-68 158,-68 152,-68 146,-62 146,-56 146,-56 146,-12 146,-12 146,-6 152,0 158,0 158,0 274,0 274,0 280,0 286,-6 286,-12 286,-12 286,-56 286,-56 286,-62 280,-68 274,-68\"/>\n<text text-anchor=\"middle\" x=\"216\" y=\"-52.8\" font-family=\"Helvetica,sans-Serif\" font-size=\"14.00\" fill=\"#000000\">gini = 0.314</text>\n<text text-anchor=\"middle\" x=\"216\" y=\"-37.8\" font-family=\"Helvetica,sans-Serif\" font-size=\"14.00\" fill=\"#000000\">samples = 2302</text>\n<text text-anchor=\"middle\" x=\"216\" y=\"-22.8\" font-family=\"Helvetica,sans-Serif\" font-size=\"14.00\" fill=\"#000000\">value = [449, 1853]</text>\n<text text-anchor=\"middle\" x=\"216\" y=\"-7.8\" font-family=\"Helvetica,sans-Serif\" font-size=\"14.00\" fill=\"#000000\">class = sim</text>\n</g>\n<!-- 3&#45;&gt;5 -->\n<g id=\"edge5\" class=\"edge\">\n<title>3&#45;&gt;5</title>\n<path fill=\"none\" stroke=\"#000000\" d=\"M216,-103.9815C216,-95.618 216,-86.7965 216,-78.3409\"/>\n<polygon fill=\"#000000\" stroke=\"#000000\" points=\"219.5001,-78.2636 216,-68.2637 212.5001,-78.2637 219.5001,-78.2636\"/>\n</g>\n<!-- 7 -->\n<g id=\"node8\" class=\"node\">\n<title>7</title>\n<path fill=\"#fcefe5\" stroke=\"#000000\" d=\"M523.5,-187C523.5,-187 398.5,-187 398.5,-187 392.5,-187 386.5,-181 386.5,-175 386.5,-175 386.5,-116 386.5,-116 386.5,-110 392.5,-104 398.5,-104 398.5,-104 523.5,-104 523.5,-104 529.5,-104 535.5,-110 535.5,-116 535.5,-116 535.5,-175 535.5,-175 535.5,-181 529.5,-187 523.5,-187\"/>\n<text text-anchor=\"middle\" x=\"461\" y=\"-171.8\" font-family=\"Helvetica,sans-Serif\" font-size=\"14.00\" fill=\"#000000\">preco &lt;= 99974.41</text>\n<text text-anchor=\"middle\" x=\"461\" y=\"-156.8\" font-family=\"Helvetica,sans-Serif\" font-size=\"14.00\" fill=\"#000000\">gini = 0.498</text>\n<text text-anchor=\"middle\" x=\"461\" y=\"-141.8\" font-family=\"Helvetica,sans-Serif\" font-size=\"14.00\" fill=\"#000000\">samples = 3513</text>\n<text text-anchor=\"middle\" x=\"461\" y=\"-126.8\" font-family=\"Helvetica,sans-Serif\" font-size=\"14.00\" fill=\"#000000\">value = [1879, 1634]</text>\n<text text-anchor=\"middle\" x=\"461\" y=\"-111.8\" font-family=\"Helvetica,sans-Serif\" font-size=\"14.00\" fill=\"#000000\">class = não</text>\n</g>\n<!-- 6&#45;&gt;7 -->\n<g id=\"edge7\" class=\"edge\">\n<title>6&#45;&gt;7</title>\n<path fill=\"none\" stroke=\"#000000\" d=\"M461,-222.8796C461,-214.6838 461,-205.9891 461,-197.5013\"/>\n<polygon fill=\"#000000\" stroke=\"#000000\" points=\"464.5001,-197.298 461,-187.2981 457.5001,-197.2981 464.5001,-197.298\"/>\n</g>\n<!-- 10 -->\n<g id=\"node11\" class=\"node\">\n<title>10</title>\n<path fill=\"#e9965a\" stroke=\"#000000\" d=\"M753.5,-187C753.5,-187 622.5,-187 622.5,-187 616.5,-187 610.5,-181 610.5,-175 610.5,-175 610.5,-116 610.5,-116 610.5,-110 616.5,-104 622.5,-104 622.5,-104 753.5,-104 753.5,-104 759.5,-104 765.5,-110 765.5,-116 765.5,-116 765.5,-175 765.5,-175 765.5,-181 759.5,-187 753.5,-187\"/>\n<text text-anchor=\"middle\" x=\"688\" y=\"-171.8\" font-family=\"Helvetica,sans-Serif\" font-size=\"14.00\" fill=\"#000000\">preco &lt;= 100076.957</text>\n<text text-anchor=\"middle\" x=\"688\" y=\"-156.8\" font-family=\"Helvetica,sans-Serif\" font-size=\"14.00\" fill=\"#000000\">gini = 0.243</text>\n<text text-anchor=\"middle\" x=\"688\" y=\"-141.8\" font-family=\"Helvetica,sans-Serif\" font-size=\"14.00\" fill=\"#000000\">samples = 2140</text>\n<text text-anchor=\"middle\" x=\"688\" y=\"-126.8\" font-family=\"Helvetica,sans-Serif\" font-size=\"14.00\" fill=\"#000000\">value = [1837, 303]</text>\n<text text-anchor=\"middle\" x=\"688\" y=\"-111.8\" font-family=\"Helvetica,sans-Serif\" font-size=\"14.00\" fill=\"#000000\">class = não</text>\n</g>\n<!-- 6&#45;&gt;10 -->\n<g id=\"edge10\" class=\"edge\">\n<title>6&#45;&gt;10</title>\n<path fill=\"none\" stroke=\"#000000\" d=\"M540.3936,-222.8796C560.0179,-212.592 581.1418,-201.5182 601.1025,-191.0542\"/>\n<polygon fill=\"#000000\" stroke=\"#000000\" points=\"602.9504,-194.0373 610.1822,-186.2944 599.7003,-187.8375 602.9504,-194.0373\"/>\n</g>\n<!-- 8 -->\n<g id=\"node9\" class=\"node\">\n<title>8</title>\n<path fill=\"#f9e0ce\" stroke=\"#000000\" d=\"M441.5,-68C441.5,-68 316.5,-68 316.5,-68 310.5,-68 304.5,-62 304.5,-56 304.5,-56 304.5,-12 304.5,-12 304.5,-6 310.5,0 316.5,0 316.5,0 441.5,0 441.5,0 447.5,0 453.5,-6 453.5,-12 453.5,-12 453.5,-56 453.5,-56 453.5,-62 447.5,-68 441.5,-68\"/>\n<text text-anchor=\"middle\" x=\"379\" y=\"-52.8\" font-family=\"Helvetica,sans-Serif\" font-size=\"14.00\" fill=\"#000000\">gini = 0.49</text>\n<text text-anchor=\"middle\" x=\"379\" y=\"-37.8\" font-family=\"Helvetica,sans-Serif\" font-size=\"14.00\" fill=\"#000000\">samples = 2944</text>\n<text text-anchor=\"middle\" x=\"379\" y=\"-22.8\" font-family=\"Helvetica,sans-Serif\" font-size=\"14.00\" fill=\"#000000\">value = [1682, 1262]</text>\n<text text-anchor=\"middle\" x=\"379\" y=\"-7.8\" font-family=\"Helvetica,sans-Serif\" font-size=\"14.00\" fill=\"#000000\">class = não</text>\n</g>\n<!-- 7&#45;&gt;8 -->\n<g id=\"edge8\" class=\"edge\">\n<title>7&#45;&gt;8</title>\n<path fill=\"none\" stroke=\"#000000\" d=\"M430.4662,-103.9815C423.8424,-94.9747 416.8279,-85.4367 410.1795,-76.3965\"/>\n<polygon fill=\"#000000\" stroke=\"#000000\" points=\"412.9426,-74.2461 404.1984,-68.2637 407.3034,-78.3933 412.9426,-74.2461\"/>\n</g>\n<!-- 9 -->\n<g id=\"node10\" class=\"node\">\n<title>9</title>\n<path fill=\"#a2d1f3\" stroke=\"#000000\" d=\"M592,-68C592,-68 484,-68 484,-68 478,-68 472,-62 472,-56 472,-56 472,-12 472,-12 472,-6 478,0 484,0 484,0 592,0 592,0 598,0 604,-6 604,-12 604,-12 604,-56 604,-56 604,-62 598,-68 592,-68\"/>\n<text text-anchor=\"middle\" x=\"538\" y=\"-52.8\" font-family=\"Helvetica,sans-Serif\" font-size=\"14.00\" fill=\"#000000\">gini = 0.453</text>\n<text text-anchor=\"middle\" x=\"538\" y=\"-37.8\" font-family=\"Helvetica,sans-Serif\" font-size=\"14.00\" fill=\"#000000\">samples = 569</text>\n<text text-anchor=\"middle\" x=\"538\" y=\"-22.8\" font-family=\"Helvetica,sans-Serif\" font-size=\"14.00\" fill=\"#000000\">value = [197, 372]</text>\n<text text-anchor=\"middle\" x=\"538\" y=\"-7.8\" font-family=\"Helvetica,sans-Serif\" font-size=\"14.00\" fill=\"#000000\">class = sim</text>\n</g>\n<!-- 7&#45;&gt;9 -->\n<g id=\"edge9\" class=\"edge\">\n<title>7&#45;&gt;9</title>\n<path fill=\"none\" stroke=\"#000000\" d=\"M489.672,-103.9815C495.8285,-95.0666 502.3443,-85.6313 508.5305,-76.6734\"/>\n<polygon fill=\"#000000\" stroke=\"#000000\" points=\"511.5355,-78.4811 514.3381,-68.2637 505.7755,-74.5034 511.5355,-78.4811\"/>\n</g>\n<!-- 11 -->\n<g id=\"node12\" class=\"node\">\n<title>11</title>\n<path fill=\"#e68742\" stroke=\"#000000\" d=\"M742,-68C742,-68 634,-68 634,-68 628,-68 622,-62 622,-56 622,-56 622,-12 622,-12 622,-6 628,0 634,0 634,0 742,0 742,0 748,0 754,-6 754,-12 754,-12 754,-56 754,-56 754,-62 748,-68 742,-68\"/>\n<text text-anchor=\"middle\" x=\"688\" y=\"-52.8\" font-family=\"Helvetica,sans-Serif\" font-size=\"14.00\" fill=\"#000000\">gini = 0.082</text>\n<text text-anchor=\"middle\" x=\"688\" y=\"-37.8\" font-family=\"Helvetica,sans-Serif\" font-size=\"14.00\" fill=\"#000000\">samples = 1809</text>\n<text text-anchor=\"middle\" x=\"688\" y=\"-22.8\" font-family=\"Helvetica,sans-Serif\" font-size=\"14.00\" fill=\"#000000\">value = [1732, 77]</text>\n<text text-anchor=\"middle\" x=\"688\" y=\"-7.8\" font-family=\"Helvetica,sans-Serif\" font-size=\"14.00\" fill=\"#000000\">class = não</text>\n</g>\n<!-- 10&#45;&gt;11 -->\n<g id=\"edge11\" class=\"edge\">\n<title>10&#45;&gt;11</title>\n<path fill=\"none\" stroke=\"#000000\" d=\"M688,-103.9815C688,-95.618 688,-86.7965 688,-78.3409\"/>\n<polygon fill=\"#000000\" stroke=\"#000000\" points=\"691.5001,-78.2636 688,-68.2637 684.5001,-78.2637 691.5001,-78.2636\"/>\n</g>\n<!-- 12 -->\n<g id=\"node13\" class=\"node\">\n<title>12</title>\n<path fill=\"#95cbf1\" stroke=\"#000000\" d=\"M892,-68C892,-68 784,-68 784,-68 778,-68 772,-62 772,-56 772,-56 772,-12 772,-12 772,-6 778,0 784,0 784,0 892,0 892,0 898,0 904,-6 904,-12 904,-12 904,-56 904,-56 904,-62 898,-68 892,-68\"/>\n<text text-anchor=\"middle\" x=\"838\" y=\"-52.8\" font-family=\"Helvetica,sans-Serif\" font-size=\"14.00\" fill=\"#000000\">gini = 0.433</text>\n<text text-anchor=\"middle\" x=\"838\" y=\"-37.8\" font-family=\"Helvetica,sans-Serif\" font-size=\"14.00\" fill=\"#000000\">samples = 331</text>\n<text text-anchor=\"middle\" x=\"838\" y=\"-22.8\" font-family=\"Helvetica,sans-Serif\" font-size=\"14.00\" fill=\"#000000\">value = [105, 226]</text>\n<text text-anchor=\"middle\" x=\"838\" y=\"-7.8\" font-family=\"Helvetica,sans-Serif\" font-size=\"14.00\" fill=\"#000000\">class = sim</text>\n</g>\n<!-- 10&#45;&gt;12 -->\n<g id=\"edge12\" class=\"edge\">\n<title>10&#45;&gt;12</title>\n<path fill=\"none\" stroke=\"#000000\" d=\"M743.8545,-103.9815C756.8368,-94.3313 770.6394,-84.0714 783.5597,-74.4673\"/>\n<polygon fill=\"#000000\" stroke=\"#000000\" points=\"785.9678,-77.0384 791.9054,-68.2637 781.7917,-71.4204 785.9678,-77.0384\"/>\n</g>\n</g>\n</svg>\n"
          },
          "metadata": {},
          "execution_count": 138
        }
      ]
    }
  ]
}